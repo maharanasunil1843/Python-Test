{
 "cells": [
  {
   "cell_type": "code",
   "execution_count": 2,
   "id": "305787c8",
   "metadata": {},
   "outputs": [],
   "source": [
    "l = [1,2,3,4,5]"
   ]
  },
  {
   "cell_type": "code",
   "execution_count": 4,
   "id": "11ea2807",
   "metadata": {},
   "outputs": [
    {
     "name": "stdout",
     "output_type": "stream",
     "text": [
      "1\n",
      "2\n",
      "3\n",
      "4\n",
      "5\n"
     ]
    }
   ],
   "source": [
    "for i in l:\n",
    "    print(i)"
   ]
  },
  {
   "cell_type": "code",
   "execution_count": 18,
   "id": "3278b027",
   "metadata": {},
   "outputs": [
    {
     "ename": "TypeError",
     "evalue": "'list' object is not an iterator",
     "output_type": "error",
     "traceback": [
      "\u001b[1;31m---------------------------------------------------------------------------\u001b[0m",
      "\u001b[1;31mTypeError\u001b[0m                                 Traceback (most recent call last)",
      "Input \u001b[1;32mIn [18]\u001b[0m, in \u001b[0;36m<cell line: 1>\u001b[1;34m()\u001b[0m\n\u001b[1;32m----> 1\u001b[0m \u001b[38;5;28;43mnext\u001b[39;49m\u001b[43m(\u001b[49m\u001b[43ml\u001b[49m\u001b[43m)\u001b[49m\n",
      "\u001b[1;31mTypeError\u001b[0m: 'list' object is not an iterator"
     ]
    }
   ],
   "source": [
    "next(l)\n",
    "#list is by defalut it is not an iterator, but it is iterable"
   ]
  },
  {
   "cell_type": "code",
   "execution_count": 6,
   "id": "8ad6526d",
   "metadata": {},
   "outputs": [],
   "source": [
    "b = iter(l)"
   ]
  },
  {
   "cell_type": "code",
   "execution_count": 7,
   "id": "12bea7e3",
   "metadata": {},
   "outputs": [
    {
     "data": {
      "text/plain": [
       "1"
      ]
     },
     "execution_count": 7,
     "metadata": {},
     "output_type": "execute_result"
    }
   ],
   "source": [
    "next(b)"
   ]
  },
  {
   "cell_type": "code",
   "execution_count": 8,
   "id": "c271862f",
   "metadata": {},
   "outputs": [
    {
     "data": {
      "text/plain": [
       "2"
      ]
     },
     "execution_count": 8,
     "metadata": {},
     "output_type": "execute_result"
    }
   ],
   "source": [
    "next(b)"
   ]
  },
  {
   "cell_type": "code",
   "execution_count": 9,
   "id": "18076d24",
   "metadata": {},
   "outputs": [
    {
     "data": {
      "text/plain": [
       "3"
      ]
     },
     "execution_count": 9,
     "metadata": {},
     "output_type": "execute_result"
    }
   ],
   "source": [
    "next(b)"
   ]
  },
  {
   "cell_type": "code",
   "execution_count": 10,
   "id": "fca59aea",
   "metadata": {},
   "outputs": [
    {
     "data": {
      "text/plain": [
       "4"
      ]
     },
     "execution_count": 10,
     "metadata": {},
     "output_type": "execute_result"
    }
   ],
   "source": [
    "next(b)"
   ]
  },
  {
   "cell_type": "code",
   "execution_count": 11,
   "id": "a4416ca9",
   "metadata": {},
   "outputs": [
    {
     "data": {
      "text/plain": [
       "5"
      ]
     },
     "execution_count": 11,
     "metadata": {},
     "output_type": "execute_result"
    }
   ],
   "source": [
    "next(b)"
   ]
  },
  {
   "cell_type": "code",
   "execution_count": 15,
   "id": "23d06ed4",
   "metadata": {},
   "outputs": [
    {
     "name": "stdout",
     "output_type": "stream",
     "text": [
      "No values left\n"
     ]
    }
   ],
   "source": [
    "try:\n",
    "    next(b)\n",
    "except:\n",
    "    print(\"No values left\")"
   ]
  },
  {
   "cell_type": "code",
   "execution_count": 13,
   "id": "4343f893",
   "metadata": {},
   "outputs": [
    {
     "ename": "TypeError",
     "evalue": "'int' object is not an iterator",
     "output_type": "error",
     "traceback": [
      "\u001b[1;31m---------------------------------------------------------------------------\u001b[0m",
      "\u001b[1;31mTypeError\u001b[0m                                 Traceback (most recent call last)",
      "Input \u001b[1;32mIn [13]\u001b[0m, in \u001b[0;36m<cell line: 1>\u001b[1;34m()\u001b[0m\n\u001b[1;32m----> 1\u001b[0m \u001b[38;5;28;43mnext\u001b[39;49m\u001b[43m(\u001b[49m\u001b[38;5;241;43m45\u001b[39;49m\u001b[43m)\u001b[49m\n",
      "\u001b[1;31mTypeError\u001b[0m: 'int' object is not an iterator"
     ]
    }
   ],
   "source": [
    "next(45)"
   ]
  },
  {
   "cell_type": "code",
   "execution_count": 14,
   "id": "5c93f284",
   "metadata": {},
   "outputs": [
    {
     "ename": "TypeError",
     "evalue": "'int' object is not iterable",
     "output_type": "error",
     "traceback": [
      "\u001b[1;31m---------------------------------------------------------------------------\u001b[0m",
      "\u001b[1;31mTypeError\u001b[0m                                 Traceback (most recent call last)",
      "Input \u001b[1;32mIn [14]\u001b[0m, in \u001b[0;36m<cell line: 1>\u001b[1;34m()\u001b[0m\n\u001b[1;32m----> 1\u001b[0m \u001b[38;5;28;43miter\u001b[39;49m\u001b[43m(\u001b[49m\u001b[38;5;241;43m45\u001b[39;49m\u001b[43m)\u001b[49m\n",
      "\u001b[1;31mTypeError\u001b[0m: 'int' object is not iterable"
     ]
    }
   ],
   "source": [
    "iter(45)"
   ]
  },
  {
   "cell_type": "code",
   "execution_count": 16,
   "id": "9e514454",
   "metadata": {},
   "outputs": [],
   "source": [
    "#for loop first converts iterables into an iterator using iter() function and then extracts the data using next() function"
   ]
  },
  {
   "cell_type": "code",
   "execution_count": 17,
   "id": "11c9d505",
   "metadata": {},
   "outputs": [],
   "source": [
    "#if objects are iterable, then it can be converted into an iterator and using iter() function and values can be recalled using next() function"
   ]
  },
  {
   "cell_type": "code",
   "execution_count": 19,
   "id": "e5805351",
   "metadata": {},
   "outputs": [],
   "source": [
    "s=\"sunil\""
   ]
  },
  {
   "cell_type": "code",
   "execution_count": 20,
   "id": "5c0327da",
   "metadata": {},
   "outputs": [
    {
     "name": "stdout",
     "output_type": "stream",
     "text": [
      "s u n i l "
     ]
    }
   ],
   "source": [
    "for i in s:\n",
    "    print(i, end = \" \")"
   ]
  },
  {
   "cell_type": "code",
   "execution_count": 21,
   "id": "74ed57c3",
   "metadata": {},
   "outputs": [
    {
     "ename": "TypeError",
     "evalue": "'str' object is not an iterator",
     "output_type": "error",
     "traceback": [
      "\u001b[1;31m---------------------------------------------------------------------------\u001b[0m",
      "\u001b[1;31mTypeError\u001b[0m                                 Traceback (most recent call last)",
      "Input \u001b[1;32mIn [21]\u001b[0m, in \u001b[0;36m<cell line: 1>\u001b[1;34m()\u001b[0m\n\u001b[1;32m----> 1\u001b[0m \u001b[38;5;28;43mnext\u001b[39;49m\u001b[43m(\u001b[49m\u001b[43ms\u001b[49m\u001b[43m)\u001b[49m\n",
      "\u001b[1;31mTypeError\u001b[0m: 'str' object is not an iterator"
     ]
    }
   ],
   "source": [
    "next(s)"
   ]
  },
  {
   "cell_type": "code",
   "execution_count": 24,
   "id": "28d67741",
   "metadata": {},
   "outputs": [],
   "source": [
    "s = iter(s)"
   ]
  },
  {
   "cell_type": "code",
   "execution_count": 26,
   "id": "c7bf6443",
   "metadata": {},
   "outputs": [
    {
     "data": {
      "text/plain": [
       "'u'"
      ]
     },
     "execution_count": 26,
     "metadata": {},
     "output_type": "execute_result"
    }
   ],
   "source": [
    "next(s)"
   ]
  },
  {
   "cell_type": "code",
   "execution_count": 27,
   "id": "14188258",
   "metadata": {},
   "outputs": [
    {
     "data": {
      "text/plain": [
       "'n'"
      ]
     },
     "execution_count": 27,
     "metadata": {},
     "output_type": "execute_result"
    }
   ],
   "source": [
    "next(s)"
   ]
  },
  {
   "cell_type": "code",
   "execution_count": 28,
   "id": "c2c86215",
   "metadata": {},
   "outputs": [
    {
     "data": {
      "text/plain": [
       "'i'"
      ]
     },
     "execution_count": 28,
     "metadata": {},
     "output_type": "execute_result"
    }
   ],
   "source": [
    "next(s)"
   ]
  },
  {
   "cell_type": "code",
   "execution_count": 29,
   "id": "de6c7318",
   "metadata": {},
   "outputs": [
    {
     "data": {
      "text/plain": [
       "'l'"
      ]
     },
     "execution_count": 29,
     "metadata": {},
     "output_type": "execute_result"
    }
   ],
   "source": [
    "next(s)"
   ]
  },
  {
   "cell_type": "code",
   "execution_count": 30,
   "id": "901fa77b",
   "metadata": {},
   "outputs": [
    {
     "ename": "StopIteration",
     "evalue": "",
     "output_type": "error",
     "traceback": [
      "\u001b[1;31m---------------------------------------------------------------------------\u001b[0m",
      "\u001b[1;31mStopIteration\u001b[0m                             Traceback (most recent call last)",
      "Input \u001b[1;32mIn [30]\u001b[0m, in \u001b[0;36m<cell line: 1>\u001b[1;34m()\u001b[0m\n\u001b[1;32m----> 1\u001b[0m \u001b[38;5;28;43mnext\u001b[39;49m\u001b[43m(\u001b[49m\u001b[43ms\u001b[49m\u001b[43m)\u001b[49m\n",
      "\u001b[1;31mStopIteration\u001b[0m: "
     ]
    }
   ],
   "source": [
    "next(s)"
   ]
  },
  {
   "cell_type": "code",
   "execution_count": 31,
   "id": "3be05eff",
   "metadata": {},
   "outputs": [],
   "source": [
    "#string is by defalut an iterable, hence it can be converted into an iterator"
   ]
  },
  {
   "cell_type": "code",
   "execution_count": 32,
   "id": "8e89ccfd",
   "metadata": {},
   "outputs": [],
   "source": [
    "t = (1,3,5,3,3)"
   ]
  },
  {
   "cell_type": "code",
   "execution_count": 33,
   "id": "63456755",
   "metadata": {},
   "outputs": [
    {
     "ename": "TypeError",
     "evalue": "'tuple' object is not an iterator",
     "output_type": "error",
     "traceback": [
      "\u001b[1;31m---------------------------------------------------------------------------\u001b[0m",
      "\u001b[1;31mTypeError\u001b[0m                                 Traceback (most recent call last)",
      "Input \u001b[1;32mIn [33]\u001b[0m, in \u001b[0;36m<cell line: 1>\u001b[1;34m()\u001b[0m\n\u001b[1;32m----> 1\u001b[0m \u001b[38;5;28;43mnext\u001b[39;49m\u001b[43m(\u001b[49m\u001b[43mt\u001b[49m\u001b[43m)\u001b[49m\n",
      "\u001b[1;31mTypeError\u001b[0m: 'tuple' object is not an iterator"
     ]
    }
   ],
   "source": [
    "next(t)"
   ]
  },
  {
   "cell_type": "code",
   "execution_count": 34,
   "id": "0d1f9d34",
   "metadata": {},
   "outputs": [],
   "source": [
    "t = iter(t)"
   ]
  },
  {
   "cell_type": "code",
   "execution_count": 35,
   "id": "88b4d4c1",
   "metadata": {},
   "outputs": [
    {
     "data": {
      "text/plain": [
       "1"
      ]
     },
     "execution_count": 35,
     "metadata": {},
     "output_type": "execute_result"
    }
   ],
   "source": [
    "next(t)"
   ]
  },
  {
   "cell_type": "code",
   "execution_count": 36,
   "id": "2789d217",
   "metadata": {},
   "outputs": [
    {
     "data": {
      "text/plain": [
       "3"
      ]
     },
     "execution_count": 36,
     "metadata": {},
     "output_type": "execute_result"
    }
   ],
   "source": [
    "next(t)"
   ]
  },
  {
   "cell_type": "code",
   "execution_count": 37,
   "id": "80f73992",
   "metadata": {},
   "outputs": [
    {
     "data": {
      "text/plain": [
       "5"
      ]
     },
     "execution_count": 37,
     "metadata": {},
     "output_type": "execute_result"
    }
   ],
   "source": [
    "next(t)"
   ]
  },
  {
   "cell_type": "code",
   "execution_count": 38,
   "id": "0532b8bd",
   "metadata": {},
   "outputs": [
    {
     "data": {
      "text/plain": [
       "3"
      ]
     },
     "execution_count": 38,
     "metadata": {},
     "output_type": "execute_result"
    }
   ],
   "source": [
    "next(t)"
   ]
  },
  {
   "cell_type": "code",
   "execution_count": 39,
   "id": "24e810a7",
   "metadata": {},
   "outputs": [
    {
     "data": {
      "text/plain": [
       "3"
      ]
     },
     "execution_count": 39,
     "metadata": {},
     "output_type": "execute_result"
    }
   ],
   "source": [
    "next(t)"
   ]
  },
  {
   "cell_type": "code",
   "execution_count": 40,
   "id": "49d4e0f5",
   "metadata": {},
   "outputs": [
    {
     "ename": "StopIteration",
     "evalue": "",
     "output_type": "error",
     "traceback": [
      "\u001b[1;31m---------------------------------------------------------------------------\u001b[0m",
      "\u001b[1;31mStopIteration\u001b[0m                             Traceback (most recent call last)",
      "Input \u001b[1;32mIn [40]\u001b[0m, in \u001b[0;36m<cell line: 1>\u001b[1;34m()\u001b[0m\n\u001b[1;32m----> 1\u001b[0m \u001b[38;5;28;43mnext\u001b[39;49m\u001b[43m(\u001b[49m\u001b[43mt\u001b[49m\u001b[43m)\u001b[49m\n",
      "\u001b[1;31mStopIteration\u001b[0m: "
     ]
    }
   ],
   "source": [
    "next(t)"
   ]
  },
  {
   "cell_type": "code",
   "execution_count": 42,
   "id": "ab9f6715",
   "metadata": {},
   "outputs": [
    {
     "data": {
      "text/plain": [
       "[1, 3, 5, 7, 9]"
      ]
     },
     "execution_count": 42,
     "metadata": {},
     "output_type": "execute_result"
    }
   ],
   "source": [
    "list(range(1,10,2))"
   ]
  },
  {
   "cell_type": "code",
   "execution_count": 43,
   "id": "68eb6419",
   "metadata": {},
   "outputs": [],
   "source": [
    "#hence, range is generating dataset.\n",
    "#range behaves as generator"
   ]
  },
  {
   "cell_type": "code",
   "execution_count": 49,
   "id": "b0b4ae19",
   "metadata": {},
   "outputs": [],
   "source": [
    "def square_fun(n):\n",
    "    x = [i*i for i in range(n)] #list comprehension\n",
    "    return x"
   ]
  },
  {
   "cell_type": "code",
   "execution_count": 50,
   "id": "c21c99da",
   "metadata": {},
   "outputs": [
    {
     "data": {
      "text/plain": [
       "[0, 1, 4, 9, 16]"
      ]
     },
     "execution_count": 50,
     "metadata": {},
     "output_type": "execute_result"
    }
   ],
   "source": [
    "square_fun(5)"
   ]
  },
  {
   "cell_type": "code",
   "execution_count": 51,
   "id": "bead68c7",
   "metadata": {},
   "outputs": [],
   "source": [
    "def square_fun1(n):\n",
    "    x = [i*i for i in range(n)] #list comprehension\n",
    "    yield x #instead of return, use yield to generate data"
   ]
  },
  {
   "cell_type": "code",
   "execution_count": 65,
   "id": "e1638aa8",
   "metadata": {},
   "outputs": [
    {
     "data": {
      "text/plain": [
       "<generator object square_fun1 at 0x000001AC131B0AC0>"
      ]
     },
     "execution_count": 65,
     "metadata": {},
     "output_type": "execute_result"
    }
   ],
   "source": [
    "square_fun1(5) #yield is used to generate an object iterator\n",
    "#it is not giving a dataset directly, but it gives an object\n",
    "#we can use this object to iterate the values in the dataset"
   ]
  },
  {
   "cell_type": "code",
   "execution_count": 66,
   "id": "0fc20b8b",
   "metadata": {},
   "outputs": [
    {
     "name": "stdout",
     "output_type": "stream",
     "text": [
      "[0, 1, 4, 9]\n"
     ]
    }
   ],
   "source": [
    "for i in square_fun1(4):\n",
    "    print(i)"
   ]
  },
  {
   "cell_type": "code",
   "execution_count": 67,
   "id": "adcd48a8",
   "metadata": {},
   "outputs": [
    {
     "name": "stdout",
     "output_type": "stream",
     "text": [
      "0\n",
      "1\n",
      "2\n",
      "3\n"
     ]
    }
   ],
   "source": [
    "for i in range(4):\n",
    "    print(i)"
   ]
  },
  {
   "cell_type": "code",
   "execution_count": 68,
   "id": "a9cb30a2",
   "metadata": {},
   "outputs": [
    {
     "data": {
      "text/plain": [
       "[0, 1, 4, 9]"
      ]
     },
     "execution_count": 68,
     "metadata": {},
     "output_type": "execute_result"
    }
   ],
   "source": [
    "next(square_fun1(4))"
   ]
  },
  {
   "cell_type": "code",
   "execution_count": 69,
   "id": "bbd89436",
   "metadata": {},
   "outputs": [
    {
     "ename": "TypeError",
     "evalue": "'range' object is not an iterator",
     "output_type": "error",
     "traceback": [
      "\u001b[1;31m---------------------------------------------------------------------------\u001b[0m",
      "\u001b[1;31mTypeError\u001b[0m                                 Traceback (most recent call last)",
      "Input \u001b[1;32mIn [69]\u001b[0m, in \u001b[0;36m<cell line: 1>\u001b[1;34m()\u001b[0m\n\u001b[1;32m----> 1\u001b[0m \u001b[38;5;28;43mnext\u001b[39;49m\u001b[43m(\u001b[49m\u001b[38;5;28;43mrange\u001b[39;49m\u001b[43m(\u001b[49m\u001b[38;5;241;43m4\u001b[39;49m\u001b[43m)\u001b[49m\u001b[43m)\u001b[49m\n",
      "\u001b[1;31mTypeError\u001b[0m: 'range' object is not an iterator"
     ]
    }
   ],
   "source": [
    "next(range(4))"
   ]
  },
  {
   "cell_type": "code",
   "execution_count": 58,
   "id": "d2207486",
   "metadata": {},
   "outputs": [],
   "source": [
    "r = iter(range(4))"
   ]
  },
  {
   "cell_type": "code",
   "execution_count": 59,
   "id": "8b963dd0",
   "metadata": {},
   "outputs": [
    {
     "data": {
      "text/plain": [
       "0"
      ]
     },
     "execution_count": 59,
     "metadata": {},
     "output_type": "execute_result"
    }
   ],
   "source": [
    "next(r)"
   ]
  },
  {
   "cell_type": "code",
   "execution_count": 60,
   "id": "4043b91d",
   "metadata": {},
   "outputs": [
    {
     "data": {
      "text/plain": [
       "1"
      ]
     },
     "execution_count": 60,
     "metadata": {},
     "output_type": "execute_result"
    }
   ],
   "source": [
    "next(r)"
   ]
  },
  {
   "cell_type": "code",
   "execution_count": 61,
   "id": "6db081f7",
   "metadata": {},
   "outputs": [
    {
     "data": {
      "text/plain": [
       "2"
      ]
     },
     "execution_count": 61,
     "metadata": {},
     "output_type": "execute_result"
    }
   ],
   "source": [
    "next(r)"
   ]
  },
  {
   "cell_type": "code",
   "execution_count": 62,
   "id": "a83fcb48",
   "metadata": {},
   "outputs": [
    {
     "data": {
      "text/plain": [
       "3"
      ]
     },
     "execution_count": 62,
     "metadata": {},
     "output_type": "execute_result"
    }
   ],
   "source": [
    "next(r)"
   ]
  },
  {
   "cell_type": "code",
   "execution_count": 63,
   "id": "3c87c40c",
   "metadata": {},
   "outputs": [
    {
     "ename": "StopIteration",
     "evalue": "",
     "output_type": "error",
     "traceback": [
      "\u001b[1;31m---------------------------------------------------------------------------\u001b[0m",
      "\u001b[1;31mStopIteration\u001b[0m                             Traceback (most recent call last)",
      "Input \u001b[1;32mIn [63]\u001b[0m, in \u001b[0;36m<cell line: 1>\u001b[1;34m()\u001b[0m\n\u001b[1;32m----> 1\u001b[0m \u001b[38;5;28;43mnext\u001b[39;49m\u001b[43m(\u001b[49m\u001b[43mr\u001b[49m\u001b[43m)\u001b[49m\n",
      "\u001b[1;31mStopIteration\u001b[0m: "
     ]
    }
   ],
   "source": [
    "next(r)"
   ]
  },
  {
   "cell_type": "code",
   "execution_count": 71,
   "id": "3edf2abd",
   "metadata": {},
   "outputs": [],
   "source": [
    "def genfib(n):\n",
    "    a = 1\n",
    "    b = 1\n",
    "    l = []\n",
    "    for i in range(n):\n",
    "        l.append(a)\n",
    "        a,b = b, a+b\n",
    "    return l\n",
    "#preparing list and giving return\n",
    "#hence, unless list is prepared, it will not return the value"
   ]
  },
  {
   "cell_type": "code",
   "execution_count": 72,
   "id": "1685002a",
   "metadata": {},
   "outputs": [
    {
     "data": {
      "text/plain": [
       "[1, 1, 2, 3]"
      ]
     },
     "execution_count": 72,
     "metadata": {},
     "output_type": "execute_result"
    }
   ],
   "source": [
    "genfib(4)"
   ]
  },
  {
   "cell_type": "code",
   "execution_count": 73,
   "id": "b6118d41",
   "metadata": {},
   "outputs": [
    {
     "data": {
      "text/plain": [
       "[1, 1, 2, 3, 5, 8, 13, 21, 34, 55]"
      ]
     },
     "execution_count": 73,
     "metadata": {},
     "output_type": "execute_result"
    }
   ],
   "source": [
    "genfib(10)"
   ]
  },
  {
   "cell_type": "code",
   "execution_count": 75,
   "id": "ab62fb8a",
   "metadata": {},
   "outputs": [
    {
     "data": {
      "text/plain": [
       "50"
      ]
     },
     "execution_count": 75,
     "metadata": {},
     "output_type": "execute_result"
    }
   ],
   "source": [
    "len(genfib(50))"
   ]
  },
  {
   "cell_type": "code",
   "execution_count": 2,
   "id": "3e5df41b",
   "metadata": {},
   "outputs": [],
   "source": [
    "def genfib1(n):\n",
    "    a = 1\n",
    "    b = 1\n",
    "    for i in range(n):\n",
    "        yield a\n",
    "        a,b = b, a+b"
   ]
  },
  {
   "cell_type": "code",
   "execution_count": 3,
   "id": "764f24cf",
   "metadata": {},
   "outputs": [
    {
     "data": {
      "text/plain": [
       "<generator object genfib1 at 0x0000017ACD382F20>"
      ]
     },
     "execution_count": 3,
     "metadata": {},
     "output_type": "execute_result"
    }
   ],
   "source": [
    "genfib1(3) #"
   ]
  },
  {
   "cell_type": "code",
   "execution_count": 4,
   "id": "73b93f3e",
   "metadata": {},
   "outputs": [
    {
     "name": "stdout",
     "output_type": "stream",
     "text": [
      "1\n",
      "1\n",
      "2\n"
     ]
    }
   ],
   "source": [
    "for i in genfib1(3):\n",
    "    print(i)"
   ]
  },
  {
   "cell_type": "code",
   "execution_count": 5,
   "id": "a9c87cbe",
   "metadata": {},
   "outputs": [
    {
     "name": "stdout",
     "output_type": "stream",
     "text": [
      "1\n",
      "1\n",
      "2\n",
      "3\n",
      "5\n",
      "8\n",
      "13\n",
      "21\n",
      "34\n",
      "55\n"
     ]
    }
   ],
   "source": [
    "for i in genfib1(10):\n",
    "    print(i)"
   ]
  },
  {
   "cell_type": "code",
   "execution_count": 7,
   "id": "7a3b54d4",
   "metadata": {},
   "outputs": [],
   "source": [
    "#with the help of yield function, we can create generator object"
   ]
  },
  {
   "cell_type": "markdown",
   "id": "e68d83e7",
   "metadata": {},
   "source": [
    "# File Operations"
   ]
  },
  {
   "cell_type": "code",
   "execution_count": 10,
   "id": "efa272c4",
   "metadata": {},
   "outputs": [],
   "source": [
    "f = open(\"sunil1.txt\", 'w')"
   ]
  },
  {
   "cell_type": "code",
   "execution_count": 11,
   "id": "2ccca21b",
   "metadata": {},
   "outputs": [
    {
     "name": "stdout",
     "output_type": "stream",
     "text": [
      " Volume in drive C has no label.\n",
      " Volume Serial Number is 2C4B-FD82\n",
      "\n",
      " Directory of C:\\Users\\ADMIN\n",
      "\n",
      "12-07-2022  08:43    <DIR>          .\n",
      "12-07-2022  08:43    <DIR>          ..\n",
      "26-06-2022  20:49    <DIR>          .anaconda\n",
      "28-06-2022  23:49               179 .bash_history\n",
      "26-06-2022  22:09    <DIR>          .conda\n",
      "26-06-2022  20:48                25 .condarc\n",
      "26-06-2022  20:48    <DIR>          .continuum\n",
      "28-06-2022  23:46                58 .gitconfig\n",
      "11-07-2022  23:32    <DIR>          .ipynb_checkpoints\n",
      "26-06-2022  20:54    <DIR>          .ipython\n",
      "27-06-2022  22:30    <DIR>          .jupyter\n",
      "07-12-2019  12:32    <DIR>          3D Objects\n",
      "05-07-2022  08:24         1,046,186 6. While Loop.ipynb\n",
      "08-07-2022  10:08            51,387 7. Functions.ipynb\n",
      "26-06-2022  20:50    <DIR>          anaconda3\n",
      "06-07-2022  09:14            30,550 Challange 1.ipynb\n",
      "29-06-2022  22:08            19,196 Conditional Statements.ipynb\n",
      "07-12-2019  12:32    <DIR>          Contacts\n",
      "10-07-2022  17:03    <DIR>          Desktop\n",
      "10-07-2022  17:03    <DIR>          Documents\n",
      "11-07-2022  23:30    <DIR>          Downloads\n",
      "11-07-2022  22:49            20,116 Exception Handling.ipynb\n",
      "07-12-2019  12:32    <DIR>          Favorites\n",
      "04-07-2022  23:42            58,169 For Loops.ipynb\n",
      "07-12-2019  12:32    <DIR>          Links\n",
      "28-06-2022  23:33            97,117 List, Tuples, Dictionary & Set.ipynb\n",
      "07-12-2019  12:32    <DIR>          Music\n",
      "08-07-2022  21:58    <DIR>          OneDrive\n",
      "07-12-2019  12:33    <DIR>          Pictures\n",
      "07-12-2019  12:32    <DIR>          Saved Games\n",
      "07-12-2019  12:33    <DIR>          Searches\n",
      "28-06-2022  00:26            49,979 String Variable.ipynb\n",
      "12-07-2022  08:43                 0 sunil1.txt\n",
      "04-07-2022  21:08    <DIR>          Tracing\n",
      "12-07-2022  08:42            23,615 Untitled.ipynb\n",
      "27-06-2022  00:03            16,620 Variable in Python Intro.ipynb\n",
      "30-06-2022  07:12    <DIR>          Videos\n",
      "              14 File(s)      1,413,197 bytes\n",
      "              23 Dir(s)  144,990,486,528 bytes free\n"
     ]
    }
   ],
   "source": [
    "ls"
   ]
  },
  {
   "cell_type": "code",
   "execution_count": 12,
   "id": "e8416929",
   "metadata": {},
   "outputs": [
    {
     "data": {
      "text/plain": [
       "22"
      ]
     },
     "execution_count": 12,
     "metadata": {},
     "output_type": "execute_result"
    }
   ],
   "source": [
    "f.write(\"This is my first file.\")"
   ]
  },
  {
   "cell_type": "code",
   "execution_count": 13,
   "id": "c2a5fef4",
   "metadata": {},
   "outputs": [],
   "source": [
    "f.close()"
   ]
  },
  {
   "cell_type": "code",
   "execution_count": 14,
   "id": "e4eedbf4",
   "metadata": {},
   "outputs": [
    {
     "name": "stdout",
     "output_type": "stream",
     "text": [
      " Volume in drive C has no label.\n",
      " Volume Serial Number is 2C4B-FD82\n",
      "\n",
      " Directory of C:\\Users\\ADMIN\n",
      "\n",
      "12-07-2022  08:46    <DIR>          .\n",
      "12-07-2022  08:46    <DIR>          ..\n",
      "26-06-2022  20:49    <DIR>          .anaconda\n",
      "28-06-2022  23:49               179 .bash_history\n",
      "26-06-2022  22:09    <DIR>          .conda\n",
      "26-06-2022  20:48                25 .condarc\n",
      "26-06-2022  20:48    <DIR>          .continuum\n",
      "28-06-2022  23:46                58 .gitconfig\n",
      "11-07-2022  23:32    <DIR>          .ipynb_checkpoints\n",
      "26-06-2022  20:54    <DIR>          .ipython\n",
      "27-06-2022  22:30    <DIR>          .jupyter\n",
      "07-12-2019  12:32    <DIR>          3D Objects\n",
      "05-07-2022  08:24         1,046,186 6. While Loop.ipynb\n",
      "08-07-2022  10:08            51,387 7. Functions.ipynb\n",
      "26-06-2022  20:50    <DIR>          anaconda3\n",
      "06-07-2022  09:14            30,550 Challange 1.ipynb\n",
      "29-06-2022  22:08            19,196 Conditional Statements.ipynb\n",
      "07-12-2019  12:32    <DIR>          Contacts\n",
      "10-07-2022  17:03    <DIR>          Desktop\n",
      "10-07-2022  17:03    <DIR>          Documents\n",
      "11-07-2022  23:30    <DIR>          Downloads\n",
      "11-07-2022  22:49            20,116 Exception Handling.ipynb\n",
      "07-12-2019  12:32    <DIR>          Favorites\n",
      "04-07-2022  23:42            58,169 For Loops.ipynb\n",
      "07-12-2019  12:32    <DIR>          Links\n",
      "28-06-2022  23:33            97,117 List, Tuples, Dictionary & Set.ipynb\n",
      "07-12-2019  12:32    <DIR>          Music\n",
      "08-07-2022  21:58    <DIR>          OneDrive\n",
      "07-12-2019  12:33    <DIR>          Pictures\n",
      "07-12-2019  12:32    <DIR>          Saved Games\n",
      "07-12-2019  12:33    <DIR>          Searches\n",
      "28-06-2022  00:26            49,979 String Variable.ipynb\n",
      "12-07-2022  08:46                22 sunil1.txt\n",
      "04-07-2022  21:08    <DIR>          Tracing\n",
      "12-07-2022  08:46            25,545 Untitled.ipynb\n",
      "27-06-2022  00:03            16,620 Variable in Python Intro.ipynb\n",
      "30-06-2022  07:12    <DIR>          Videos\n",
      "              14 File(s)      1,415,149 bytes\n",
      "              23 Dir(s)  144,988,987,392 bytes free\n"
     ]
    }
   ],
   "source": [
    "ls"
   ]
  },
  {
   "cell_type": "code",
   "execution_count": 20,
   "id": "eaeb862e",
   "metadata": {},
   "outputs": [],
   "source": [
    "f1 = open(\"test1.txt\", 'w')"
   ]
  },
  {
   "cell_type": "code",
   "execution_count": 21,
   "id": "2583ef45",
   "metadata": {},
   "outputs": [
    {
     "data": {
      "text/plain": [
       "56"
      ]
     },
     "execution_count": 21,
     "metadata": {},
     "output_type": "execute_result"
    }
   ],
   "source": [
    "f1.write(\"this is a file operation i am trying to do in FSDS class\")"
   ]
  },
  {
   "cell_type": "code",
   "execution_count": 22,
   "id": "1e22bc3c",
   "metadata": {},
   "outputs": [
    {
     "data": {
      "text/plain": [
       "<function TextIOWrapper.close()>"
      ]
     },
     "execution_count": 22,
     "metadata": {},
     "output_type": "execute_result"
    }
   ],
   "source": [
    "f1.close"
   ]
  },
  {
   "cell_type": "code",
   "execution_count": 23,
   "id": "296933a2",
   "metadata": {},
   "outputs": [
    {
     "name": "stdout",
     "output_type": "stream",
     "text": [
      " Volume in drive C has no label.\n",
      " Volume Serial Number is 2C4B-FD82\n",
      "\n",
      " Directory of C:\\Users\\ADMIN\n",
      "\n",
      "12-07-2022  08:49    <DIR>          .\n",
      "12-07-2022  08:49    <DIR>          ..\n",
      "26-06-2022  20:49    <DIR>          .anaconda\n",
      "28-06-2022  23:49               179 .bash_history\n",
      "26-06-2022  22:09    <DIR>          .conda\n",
      "26-06-2022  20:48                25 .condarc\n",
      "26-06-2022  20:48    <DIR>          .continuum\n",
      "28-06-2022  23:46                58 .gitconfig\n",
      "11-07-2022  23:32    <DIR>          .ipynb_checkpoints\n",
      "26-06-2022  20:54    <DIR>          .ipython\n",
      "27-06-2022  22:30    <DIR>          .jupyter\n",
      "07-12-2019  12:32    <DIR>          3D Objects\n",
      "05-07-2022  08:24         1,046,186 6. While Loop.ipynb\n",
      "08-07-2022  10:08            51,387 7. Functions.ipynb\n",
      "26-06-2022  20:50    <DIR>          anaconda3\n",
      "06-07-2022  09:14            30,550 Challange 1.ipynb\n",
      "29-06-2022  22:08            19,196 Conditional Statements.ipynb\n",
      "07-12-2019  12:32    <DIR>          Contacts\n",
      "10-07-2022  17:03    <DIR>          Desktop\n",
      "10-07-2022  17:03    <DIR>          Documents\n",
      "11-07-2022  23:30    <DIR>          Downloads\n",
      "11-07-2022  22:49            20,116 Exception Handling.ipynb\n",
      "07-12-2019  12:32    <DIR>          Favorites\n",
      "04-07-2022  23:42            58,169 For Loops.ipynb\n",
      "07-12-2019  12:32    <DIR>          Links\n",
      "28-06-2022  23:33            97,117 List, Tuples, Dictionary & Set.ipynb\n",
      "07-12-2019  12:32    <DIR>          Music\n",
      "08-07-2022  21:58    <DIR>          OneDrive\n",
      "07-12-2019  12:33    <DIR>          Pictures\n",
      "07-12-2019  12:32    <DIR>          Saved Games\n",
      "07-12-2019  12:33    <DIR>          Searches\n",
      "28-06-2022  00:26            49,979 String Variable.ipynb\n",
      "12-07-2022  08:46                22 sunil1.txt\n",
      "12-07-2022  08:48                 0 test1\n",
      "12-07-2022  08:49                 0 test1.txt\n",
      "04-07-2022  21:08    <DIR>          Tracing\n",
      "12-07-2022  08:48            28,984 Untitled.ipynb\n",
      "27-06-2022  00:03            16,620 Variable in Python Intro.ipynb\n",
      "30-06-2022  07:12    <DIR>          Videos\n",
      "              16 File(s)      1,418,588 bytes\n",
      "              23 Dir(s)  144,985,878,528 bytes free\n"
     ]
    }
   ],
   "source": [
    "ls"
   ]
  },
  {
   "cell_type": "code",
   "execution_count": 24,
   "id": "4edaac90",
   "metadata": {},
   "outputs": [],
   "source": [
    "l = [1,2,3,4,5,6]"
   ]
  },
  {
   "cell_type": "code",
   "execution_count": 25,
   "id": "dc5a0747",
   "metadata": {},
   "outputs": [],
   "source": [
    "f2 = open(\"test2.txt\", 'w')"
   ]
  },
  {
   "cell_type": "code",
   "execution_count": 26,
   "id": "39c32eb2",
   "metadata": {},
   "outputs": [
    {
     "ename": "TypeError",
     "evalue": "write() argument must be str, not list",
     "output_type": "error",
     "traceback": [
      "\u001b[1;31m---------------------------------------------------------------------------\u001b[0m",
      "\u001b[1;31mTypeError\u001b[0m                                 Traceback (most recent call last)",
      "Input \u001b[1;32mIn [26]\u001b[0m, in \u001b[0;36m<cell line: 1>\u001b[1;34m()\u001b[0m\n\u001b[1;32m----> 1\u001b[0m \u001b[43mf2\u001b[49m\u001b[38;5;241;43m.\u001b[39;49m\u001b[43mwrite\u001b[49m\u001b[43m(\u001b[49m\u001b[43ml\u001b[49m\u001b[43m)\u001b[49m\n",
      "\u001b[1;31mTypeError\u001b[0m: write() argument must be str, not list"
     ]
    }
   ],
   "source": [
    "f2.write(l)"
   ]
  },
  {
   "cell_type": "code",
   "execution_count": 27,
   "id": "1cc2339e",
   "metadata": {},
   "outputs": [
    {
     "data": {
      "text/plain": [
       "18"
      ]
     },
     "execution_count": 27,
     "metadata": {},
     "output_type": "execute_result"
    }
   ],
   "source": [
    "f2.write(str(l))"
   ]
  },
  {
   "cell_type": "code",
   "execution_count": 28,
   "id": "d4f2875d",
   "metadata": {},
   "outputs": [],
   "source": [
    "f2.close()"
   ]
  },
  {
   "cell_type": "code",
   "execution_count": 29,
   "id": "9bbd4a30",
   "metadata": {},
   "outputs": [
    {
     "name": "stdout",
     "output_type": "stream",
     "text": [
      " Volume in drive C has no label.\n",
      " Volume Serial Number is 2C4B-FD82\n",
      "\n",
      " Directory of C:\\Users\\ADMIN\n",
      "\n",
      "12-07-2022  08:52    <DIR>          .\n",
      "12-07-2022  08:52    <DIR>          ..\n",
      "26-06-2022  20:49    <DIR>          .anaconda\n",
      "28-06-2022  23:49               179 .bash_history\n",
      "26-06-2022  22:09    <DIR>          .conda\n",
      "26-06-2022  20:48                25 .condarc\n",
      "26-06-2022  20:48    <DIR>          .continuum\n",
      "28-06-2022  23:46                58 .gitconfig\n",
      "11-07-2022  23:32    <DIR>          .ipynb_checkpoints\n",
      "26-06-2022  20:54    <DIR>          .ipython\n",
      "27-06-2022  22:30    <DIR>          .jupyter\n",
      "07-12-2019  12:32    <DIR>          3D Objects\n",
      "05-07-2022  08:24         1,046,186 6. While Loop.ipynb\n",
      "08-07-2022  10:08            51,387 7. Functions.ipynb\n",
      "26-06-2022  20:50    <DIR>          anaconda3\n",
      "06-07-2022  09:14            30,550 Challange 1.ipynb\n",
      "29-06-2022  22:08            19,196 Conditional Statements.ipynb\n",
      "07-12-2019  12:32    <DIR>          Contacts\n",
      "10-07-2022  17:03    <DIR>          Desktop\n",
      "10-07-2022  17:03    <DIR>          Documents\n",
      "11-07-2022  23:30    <DIR>          Downloads\n",
      "11-07-2022  22:49            20,116 Exception Handling.ipynb\n",
      "07-12-2019  12:32    <DIR>          Favorites\n",
      "04-07-2022  23:42            58,169 For Loops.ipynb\n",
      "07-12-2019  12:32    <DIR>          Links\n",
      "28-06-2022  23:33            97,117 List, Tuples, Dictionary & Set.ipynb\n",
      "07-12-2019  12:32    <DIR>          Music\n",
      "08-07-2022  21:58    <DIR>          OneDrive\n",
      "07-12-2019  12:33    <DIR>          Pictures\n",
      "07-12-2019  12:32    <DIR>          Saved Games\n",
      "07-12-2019  12:33    <DIR>          Searches\n",
      "28-06-2022  00:26            49,979 String Variable.ipynb\n",
      "12-07-2022  08:46                22 sunil1.txt\n",
      "12-07-2022  08:48                 0 test1\n",
      "12-07-2022  08:49                 0 test1.txt\n",
      "12-07-2022  08:52                18 test2.txt\n",
      "04-07-2022  21:08    <DIR>          Tracing\n",
      "12-07-2022  08:52            34,188 Untitled.ipynb\n",
      "27-06-2022  00:03            16,620 Variable in Python Intro.ipynb\n",
      "30-06-2022  07:12    <DIR>          Videos\n",
      "              17 File(s)      1,423,810 bytes\n",
      "              23 Dir(s)  144,986,902,528 bytes free\n"
     ]
    }
   ],
   "source": [
    "ls"
   ]
  },
  {
   "cell_type": "code",
   "execution_count": 30,
   "id": "c7965f76",
   "metadata": {},
   "outputs": [],
   "source": [
    "f3 = open(\"test.sudh\", 'w')"
   ]
  },
  {
   "cell_type": "code",
   "execution_count": 32,
   "id": "860804cd",
   "metadata": {},
   "outputs": [
    {
     "data": {
      "text/plain": [
       "23"
      ]
     },
     "execution_count": 32,
     "metadata": {},
     "output_type": "execute_result"
    }
   ],
   "source": [
    "f3.write(\"aljshdf lasjdhf hflkjda\")"
   ]
  },
  {
   "cell_type": "code",
   "execution_count": 33,
   "id": "2703d068",
   "metadata": {},
   "outputs": [],
   "source": [
    "f3.close()"
   ]
  },
  {
   "cell_type": "code",
   "execution_count": 34,
   "id": "247208ef",
   "metadata": {},
   "outputs": [],
   "source": [
    "f = open('test1.txt')"
   ]
  },
  {
   "cell_type": "code",
   "execution_count": 35,
   "id": "92299980",
   "metadata": {},
   "outputs": [
    {
     "data": {
      "text/plain": [
       "''"
      ]
     },
     "execution_count": 35,
     "metadata": {},
     "output_type": "execute_result"
    }
   ],
   "source": [
    "f.read()"
   ]
  },
  {
   "cell_type": "code",
   "execution_count": 36,
   "id": "32021e44",
   "metadata": {},
   "outputs": [],
   "source": [
    "f.close()"
   ]
  },
  {
   "cell_type": "code",
   "execution_count": 38,
   "id": "cdda8a59",
   "metadata": {},
   "outputs": [],
   "source": [
    "f = open(\"test2.txt\")"
   ]
  },
  {
   "cell_type": "code",
   "execution_count": 39,
   "id": "78dd08ea",
   "metadata": {},
   "outputs": [
    {
     "data": {
      "text/plain": [
       "'[1, 2, 3, 4, 5, 6]'"
      ]
     },
     "execution_count": 39,
     "metadata": {},
     "output_type": "execute_result"
    }
   ],
   "source": [
    "f.read()"
   ]
  },
  {
   "cell_type": "code",
   "execution_count": 40,
   "id": "8c44b5c8",
   "metadata": {},
   "outputs": [
    {
     "data": {
      "text/plain": [
       "''"
      ]
     },
     "execution_count": 40,
     "metadata": {},
     "output_type": "execute_result"
    }
   ],
   "source": [
    "f.read()"
   ]
  },
  {
   "cell_type": "code",
   "execution_count": 41,
   "id": "a08dbe9c",
   "metadata": {},
   "outputs": [],
   "source": [
    "f.close()"
   ]
  },
  {
   "cell_type": "code",
   "execution_count": 42,
   "id": "b6fa7225",
   "metadata": {},
   "outputs": [
    {
     "ename": "ValueError",
     "evalue": "I/O operation on closed file.",
     "output_type": "error",
     "traceback": [
      "\u001b[1;31m---------------------------------------------------------------------------\u001b[0m",
      "\u001b[1;31mValueError\u001b[0m                                Traceback (most recent call last)",
      "Input \u001b[1;32mIn [42]\u001b[0m, in \u001b[0;36m<cell line: 1>\u001b[1;34m()\u001b[0m\n\u001b[1;32m----> 1\u001b[0m \u001b[43mf\u001b[49m\u001b[38;5;241;43m.\u001b[39;49m\u001b[43mread\u001b[49m\u001b[43m(\u001b[49m\u001b[43m)\u001b[49m\n",
      "\u001b[1;31mValueError\u001b[0m: I/O operation on closed file."
     ]
    }
   ],
   "source": [
    "f.read()"
   ]
  },
  {
   "cell_type": "code",
   "execution_count": 43,
   "id": "02df75b5",
   "metadata": {},
   "outputs": [
    {
     "ename": "TypeError",
     "evalue": "open() missing required argument 'file' (pos 1)",
     "output_type": "error",
     "traceback": [
      "\u001b[1;31m---------------------------------------------------------------------------\u001b[0m",
      "\u001b[1;31mTypeError\u001b[0m                                 Traceback (most recent call last)",
      "Input \u001b[1;32mIn [43]\u001b[0m, in \u001b[0;36m<cell line: 1>\u001b[1;34m()\u001b[0m\n\u001b[1;32m----> 1\u001b[0m f \u001b[38;5;241m=\u001b[39m \u001b[38;5;28;43mopen\u001b[39;49m\u001b[43m(\u001b[49m\u001b[43m)\u001b[49m\n",
      "\u001b[1;31mTypeError\u001b[0m: open() missing required argument 'file' (pos 1)"
     ]
    }
   ],
   "source": [
    "f = open()"
   ]
  },
  {
   "cell_type": "code",
   "execution_count": 44,
   "id": "239eb1c6",
   "metadata": {},
   "outputs": [],
   "source": [
    "f = open(\"sunil1.txt\")"
   ]
  },
  {
   "cell_type": "code",
   "execution_count": 45,
   "id": "d181c59b",
   "metadata": {},
   "outputs": [
    {
     "data": {
      "text/plain": [
       "'This is my first file.'"
      ]
     },
     "execution_count": 45,
     "metadata": {},
     "output_type": "execute_result"
    }
   ],
   "source": [
    "f.read()"
   ]
  },
  {
   "cell_type": "code",
   "execution_count": 46,
   "id": "4b830246",
   "metadata": {},
   "outputs": [
    {
     "data": {
      "text/plain": [
       "''"
      ]
     },
     "execution_count": 46,
     "metadata": {},
     "output_type": "execute_result"
    }
   ],
   "source": [
    "f.read()"
   ]
  },
  {
   "cell_type": "code",
   "execution_count": 51,
   "id": "77fa7465",
   "metadata": {},
   "outputs": [
    {
     "data": {
      "text/plain": [
       "0"
      ]
     },
     "execution_count": 51,
     "metadata": {},
     "output_type": "execute_result"
    }
   ],
   "source": [
    "f.seek(0)\n",
    "#setting a pointer to read from that place"
   ]
  },
  {
   "cell_type": "code",
   "execution_count": 52,
   "id": "2871e71b",
   "metadata": {},
   "outputs": [
    {
     "data": {
      "text/plain": [
       "'This is my first file.'"
      ]
     },
     "execution_count": 52,
     "metadata": {},
     "output_type": "execute_result"
    }
   ],
   "source": [
    "f.read()"
   ]
  },
  {
   "cell_type": "code",
   "execution_count": 53,
   "id": "9e1d8f5c",
   "metadata": {},
   "outputs": [
    {
     "data": {
      "text/plain": [
       "4"
      ]
     },
     "execution_count": 53,
     "metadata": {},
     "output_type": "execute_result"
    }
   ],
   "source": [
    "f.seek(4)"
   ]
  },
  {
   "cell_type": "code",
   "execution_count": 54,
   "id": "bddb427f",
   "metadata": {},
   "outputs": [
    {
     "data": {
      "text/plain": [
       "' is my first file.'"
      ]
     },
     "execution_count": 54,
     "metadata": {},
     "output_type": "execute_result"
    }
   ],
   "source": [
    "f.read()"
   ]
  },
  {
   "cell_type": "code",
   "execution_count": 55,
   "id": "b5fa8403",
   "metadata": {},
   "outputs": [],
   "source": [
    "f.close()"
   ]
  },
  {
   "cell_type": "code",
   "execution_count": 56,
   "id": "21e97da9",
   "metadata": {},
   "outputs": [],
   "source": [
    "f = open(\"sunil1.txt\")"
   ]
  },
  {
   "cell_type": "code",
   "execution_count": 57,
   "id": "61321c97",
   "metadata": {},
   "outputs": [
    {
     "data": {
      "text/plain": [
       "'This is my first file.'"
      ]
     },
     "execution_count": 57,
     "metadata": {},
     "output_type": "execute_result"
    }
   ],
   "source": [
    "f.read()"
   ]
  },
  {
   "cell_type": "code",
   "execution_count": 58,
   "id": "8efd6e04",
   "metadata": {},
   "outputs": [
    {
     "data": {
      "text/plain": [
       "''"
      ]
     },
     "execution_count": 58,
     "metadata": {},
     "output_type": "execute_result"
    }
   ],
   "source": [
    "f.read()"
   ]
  },
  {
   "cell_type": "code",
   "execution_count": 59,
   "id": "2f5901bf",
   "metadata": {},
   "outputs": [
    {
     "data": {
      "text/plain": [
       "5"
      ]
     },
     "execution_count": 59,
     "metadata": {},
     "output_type": "execute_result"
    }
   ],
   "source": [
    "f.seek(5)"
   ]
  },
  {
   "cell_type": "code",
   "execution_count": 60,
   "id": "c25be328",
   "metadata": {},
   "outputs": [
    {
     "data": {
      "text/plain": [
       "'is my first file.'"
      ]
     },
     "execution_count": 60,
     "metadata": {},
     "output_type": "execute_result"
    }
   ],
   "source": [
    "f.read()"
   ]
  },
  {
   "cell_type": "code",
   "execution_count": 61,
   "id": "7b7b1daa",
   "metadata": {},
   "outputs": [],
   "source": [
    "f.close()"
   ]
  },
  {
   "cell_type": "code",
   "execution_count": 62,
   "id": "ec4c7b03",
   "metadata": {},
   "outputs": [],
   "source": [
    "f = open(\"sunil1.txt\", 'w')"
   ]
  },
  {
   "cell_type": "code",
   "execution_count": 63,
   "id": "42fac51b",
   "metadata": {},
   "outputs": [
    {
     "data": {
      "text/plain": [
       "37"
      ]
     },
     "execution_count": 63,
     "metadata": {},
     "output_type": "execute_result"
    }
   ],
   "source": [
    "f.write(\"My name is Sunil. I love datascience.\")"
   ]
  },
  {
   "cell_type": "code",
   "execution_count": 66,
   "id": "393c1255",
   "metadata": {},
   "outputs": [],
   "source": [
    "f.close()"
   ]
  },
  {
   "cell_type": "code",
   "execution_count": 67,
   "id": "8e22e8e6",
   "metadata": {},
   "outputs": [],
   "source": [
    "f = open(\"sunil1.txt\")"
   ]
  },
  {
   "cell_type": "code",
   "execution_count": 68,
   "id": "3a79f704",
   "metadata": {},
   "outputs": [
    {
     "data": {
      "text/plain": [
       "'My name is Sunil. I love datascience.'"
      ]
     },
     "execution_count": 68,
     "metadata": {},
     "output_type": "execute_result"
    }
   ],
   "source": [
    "f.read()"
   ]
  },
  {
   "cell_type": "code",
   "execution_count": 69,
   "id": "c225b60b",
   "metadata": {},
   "outputs": [
    {
     "data": {
      "text/plain": [
       "37"
      ]
     },
     "execution_count": 69,
     "metadata": {},
     "output_type": "execute_result"
    }
   ],
   "source": [
    "f.tell()"
   ]
  },
  {
   "cell_type": "code",
   "execution_count": 70,
   "id": "25f63d1b",
   "metadata": {},
   "outputs": [
    {
     "data": {
      "text/plain": [
       "3"
      ]
     },
     "execution_count": 70,
     "metadata": {},
     "output_type": "execute_result"
    }
   ],
   "source": [
    "f.seek(3)"
   ]
  },
  {
   "cell_type": "code",
   "execution_count": 71,
   "id": "352de5c9",
   "metadata": {},
   "outputs": [
    {
     "data": {
      "text/plain": [
       "3"
      ]
     },
     "execution_count": 71,
     "metadata": {},
     "output_type": "execute_result"
    }
   ],
   "source": [
    "f.tell()"
   ]
  },
  {
   "cell_type": "code",
   "execution_count": 72,
   "id": "78f1a262",
   "metadata": {},
   "outputs": [
    {
     "data": {
      "text/plain": [
       "'name is'"
      ]
     },
     "execution_count": 72,
     "metadata": {},
     "output_type": "execute_result"
    }
   ],
   "source": [
    "f.read(7)"
   ]
  },
  {
   "cell_type": "code",
   "execution_count": 73,
   "id": "e01fede9",
   "metadata": {},
   "outputs": [],
   "source": [
    "f.close()"
   ]
  },
  {
   "cell_type": "code",
   "execution_count": 74,
   "id": "5a9ada01",
   "metadata": {},
   "outputs": [],
   "source": [
    "f = open(\"sunil1.txt\")"
   ]
  },
  {
   "cell_type": "code",
   "execution_count": 75,
   "id": "14f670d6",
   "metadata": {},
   "outputs": [
    {
     "data": {
      "text/plain": [
       "['My name is Sunil. I love datascience.']"
      ]
     },
     "execution_count": 75,
     "metadata": {},
     "output_type": "execute_result"
    }
   ],
   "source": [
    "f.readlines()"
   ]
  },
  {
   "cell_type": "code",
   "execution_count": 76,
   "id": "cc66e5ea",
   "metadata": {},
   "outputs": [
    {
     "data": {
      "text/plain": [
       "6"
      ]
     },
     "execution_count": 76,
     "metadata": {},
     "output_type": "execute_result"
    }
   ],
   "source": [
    "f.fileno()"
   ]
  },
  {
   "cell_type": "code",
   "execution_count": 77,
   "id": "042c14f9",
   "metadata": {},
   "outputs": [],
   "source": [
    "f.close()"
   ]
  },
  {
   "cell_type": "code",
   "execution_count": 78,
   "id": "126bfb79",
   "metadata": {},
   "outputs": [],
   "source": [
    "f = open(\"text.txt\", 'w')"
   ]
  },
  {
   "cell_type": "code",
   "execution_count": 79,
   "id": "65b1cda9",
   "metadata": {},
   "outputs": [
    {
     "data": {
      "text/plain": [
       "142"
      ]
     },
     "execution_count": 79,
     "metadata": {},
     "output_type": "execute_result"
    }
   ],
   "source": [
    "f.write(\"\"\"aljhdljh lajdhflkjh alsjkdhflj lashdfl alsjdhf lkjasdf.\n",
    "lakjsdf ljf ljashdf h jklfdalkh urehoa albs.\n",
    "lajdsh hflkjda lkjashdf h fkljda lkjasdf.\"\"\")"
   ]
  },
  {
   "cell_type": "code",
   "execution_count": 81,
   "id": "2dbf410a",
   "metadata": {},
   "outputs": [],
   "source": [
    "f.close()"
   ]
  },
  {
   "cell_type": "code",
   "execution_count": 82,
   "id": "a8bdcc64",
   "metadata": {},
   "outputs": [
    {
     "name": "stdout",
     "output_type": "stream",
     "text": [
      " Volume in drive C has no label.\n",
      " Volume Serial Number is 2C4B-FD82\n",
      "\n",
      " Directory of C:\\Users\\ADMIN\n",
      "\n",
      "12-07-2022  09:14    <DIR>          .\n",
      "12-07-2022  09:14    <DIR>          ..\n",
      "26-06-2022  20:49    <DIR>          .anaconda\n",
      "28-06-2022  23:49               179 .bash_history\n",
      "26-06-2022  22:09    <DIR>          .conda\n",
      "26-06-2022  20:48                25 .condarc\n",
      "26-06-2022  20:48    <DIR>          .continuum\n",
      "28-06-2022  23:46                58 .gitconfig\n",
      "11-07-2022  23:32    <DIR>          .ipynb_checkpoints\n",
      "26-06-2022  20:54    <DIR>          .ipython\n",
      "27-06-2022  22:30    <DIR>          .jupyter\n",
      "07-12-2019  12:32    <DIR>          3D Objects\n",
      "05-07-2022  08:24         1,046,186 6. While Loop.ipynb\n",
      "08-07-2022  10:08            51,387 7. Functions.ipynb\n",
      "26-06-2022  20:50    <DIR>          anaconda3\n",
      "06-07-2022  09:14            30,550 Challange 1.ipynb\n",
      "29-06-2022  22:08            19,196 Conditional Statements.ipynb\n",
      "07-12-2019  12:32    <DIR>          Contacts\n",
      "10-07-2022  17:03    <DIR>          Desktop\n",
      "10-07-2022  17:03    <DIR>          Documents\n",
      "11-07-2022  23:30    <DIR>          Downloads\n",
      "11-07-2022  22:49            20,116 Exception Handling.ipynb\n",
      "07-12-2019  12:32    <DIR>          Favorites\n",
      "04-07-2022  23:42            58,169 For Loops.ipynb\n",
      "07-12-2019  12:32    <DIR>          Links\n",
      "28-06-2022  23:33            97,117 List, Tuples, Dictionary & Set.ipynb\n",
      "07-12-2019  12:32    <DIR>          Music\n",
      "08-07-2022  21:58    <DIR>          OneDrive\n",
      "07-12-2019  12:33    <DIR>          Pictures\n",
      "07-12-2019  12:32    <DIR>          Saved Games\n",
      "07-12-2019  12:33    <DIR>          Searches\n",
      "28-06-2022  00:26            49,979 String Variable.ipynb\n",
      "12-07-2022  09:07                37 sunil1.txt\n",
      "12-07-2022  08:54                23 test.sudh\n",
      "12-07-2022  08:48                 0 test1\n",
      "12-07-2022  08:49                 0 test1.txt\n",
      "12-07-2022  08:52                18 test2.txt\n",
      "12-07-2022  09:14               144 text.txt\n",
      "04-07-2022  21:08    <DIR>          Tracing\n",
      "12-07-2022  09:14            50,180 Untitled.ipynb\n",
      "27-06-2022  00:03            16,620 Variable in Python Intro.ipynb\n",
      "30-06-2022  07:12    <DIR>          Videos\n",
      "              19 File(s)      1,439,984 bytes\n",
      "              23 Dir(s)  144,985,346,048 bytes free\n"
     ]
    }
   ],
   "source": [
    "ls"
   ]
  },
  {
   "cell_type": "code",
   "execution_count": 83,
   "id": "be16f95e",
   "metadata": {},
   "outputs": [
    {
     "ename": "NameError",
     "evalue": "name 'test1' is not defined",
     "output_type": "error",
     "traceback": [
      "\u001b[1;31m---------------------------------------------------------------------------\u001b[0m",
      "\u001b[1;31mNameError\u001b[0m                                 Traceback (most recent call last)",
      "Input \u001b[1;32mIn [83]\u001b[0m, in \u001b[0;36m<cell line: 1>\u001b[1;34m()\u001b[0m\n\u001b[1;32m----> 1\u001b[0m f\u001b[38;5;241m.\u001b[39mclose(\u001b[43mtest1\u001b[49m)\n",
      "\u001b[1;31mNameError\u001b[0m: name 'test1' is not defined"
     ]
    }
   ],
   "source": [
    "f.close(test1)"
   ]
  },
  {
   "cell_type": "code",
   "execution_count": 84,
   "id": "b2f7bbbc",
   "metadata": {},
   "outputs": [],
   "source": [
    "f = open(\"test1\")"
   ]
  },
  {
   "cell_type": "code",
   "execution_count": 85,
   "id": "689bba93",
   "metadata": {},
   "outputs": [],
   "source": [
    "f.close()"
   ]
  },
  {
   "cell_type": "code",
   "execution_count": 86,
   "id": "6a40c1a1",
   "metadata": {},
   "outputs": [],
   "source": [
    "f = open(\"test1.txt\")"
   ]
  },
  {
   "cell_type": "code",
   "execution_count": 87,
   "id": "6810827b",
   "metadata": {},
   "outputs": [],
   "source": [
    "f.close()"
   ]
  },
  {
   "cell_type": "code",
   "execution_count": 88,
   "id": "3fc2f029",
   "metadata": {},
   "outputs": [],
   "source": [
    "f = open(\"text.txt\", 'a')"
   ]
  },
  {
   "cell_type": "code",
   "execution_count": 89,
   "id": "c492a4d3",
   "metadata": {},
   "outputs": [
    {
     "data": {
      "text/plain": [
       "19"
      ]
     },
     "execution_count": 89,
     "metadata": {},
     "output_type": "execute_result"
    }
   ],
   "source": [
    "f.write(\"This my new dataset\")"
   ]
  },
  {
   "cell_type": "code",
   "execution_count": 90,
   "id": "d30752c0",
   "metadata": {},
   "outputs": [],
   "source": [
    "f.close()"
   ]
  },
  {
   "cell_type": "code",
   "execution_count": 91,
   "id": "6d8a3ebd",
   "metadata": {},
   "outputs": [
    {
     "data": {
      "text/plain": [
       "'text.txt'"
      ]
     },
     "execution_count": 91,
     "metadata": {},
     "output_type": "execute_result"
    }
   ],
   "source": [
    "f.name"
   ]
  },
  {
   "cell_type": "code",
   "execution_count": 92,
   "id": "5c56e552",
   "metadata": {},
   "outputs": [
    {
     "data": {
      "text/plain": [
       "True"
      ]
     },
     "execution_count": 92,
     "metadata": {},
     "output_type": "execute_result"
    }
   ],
   "source": [
    "f.closed"
   ]
  },
  {
   "cell_type": "code",
   "execution_count": 93,
   "id": "5bf23846",
   "metadata": {},
   "outputs": [
    {
     "data": {
      "text/plain": [
       "'a'"
      ]
     },
     "execution_count": 93,
     "metadata": {},
     "output_type": "execute_result"
    }
   ],
   "source": [
    "f.mode"
   ]
  },
  {
   "cell_type": "markdown",
   "id": "bc28a865",
   "metadata": {},
   "source": [
    "# Map, Reduce, Filter"
   ]
  },
  {
   "cell_type": "code",
   "execution_count": 97,
   "id": "df7839e8",
   "metadata": {},
   "outputs": [],
   "source": [
    "l = [2,3,4,5,6]\n",
    "l1=[]\n",
    "for i in l:\n",
    "    l1.append(i**2)"
   ]
  },
  {
   "cell_type": "code",
   "execution_count": 98,
   "id": "f4eb7182",
   "metadata": {},
   "outputs": [
    {
     "data": {
      "text/plain": [
       "[4, 9, 16, 25, 36]"
      ]
     },
     "execution_count": 98,
     "metadata": {},
     "output_type": "execute_result"
    }
   ],
   "source": [
    "l1"
   ]
  },
  {
   "cell_type": "code",
   "execution_count": 102,
   "id": "8c788761",
   "metadata": {},
   "outputs": [],
   "source": [
    "def sq(x):\n",
    "    return x**2"
   ]
  },
  {
   "cell_type": "code",
   "execution_count": 103,
   "id": "8d6be90b",
   "metadata": {},
   "outputs": [
    {
     "data": {
      "text/plain": [
       "64"
      ]
     },
     "execution_count": 103,
     "metadata": {},
     "output_type": "execute_result"
    }
   ],
   "source": [
    "sq(8)"
   ]
  },
  {
   "cell_type": "code",
   "execution_count": 104,
   "id": "5fad278e",
   "metadata": {},
   "outputs": [
    {
     "data": {
      "text/plain": [
       "<map at 0x17acd770fa0>"
      ]
     },
     "execution_count": 104,
     "metadata": {},
     "output_type": "execute_result"
    }
   ],
   "source": [
    "map(sq, l)"
   ]
  },
  {
   "cell_type": "code",
   "execution_count": 105,
   "id": "5de0e539",
   "metadata": {},
   "outputs": [
    {
     "data": {
      "text/plain": [
       "[4, 9, 16, 25, 36]"
      ]
     },
     "execution_count": 105,
     "metadata": {},
     "output_type": "execute_result"
    }
   ],
   "source": [
    "list(map(sq, l))"
   ]
  },
  {
   "cell_type": "code",
   "execution_count": 106,
   "id": "74ac561c",
   "metadata": {},
   "outputs": [],
   "source": [
    "#map() function passes the data in a given function from the argument dataset.\n",
    "#map() always takes function as its first argument"
   ]
  },
  {
   "cell_type": "code",
   "execution_count": 109,
   "id": "0ce86f2d",
   "metadata": {},
   "outputs": [
    {
     "data": {
      "text/plain": [
       "<map at 0x17acd781c40>"
      ]
     },
     "execution_count": 109,
     "metadata": {},
     "output_type": "execute_result"
    }
   ],
   "source": [
    "map(lambda x : x**2, l)"
   ]
  },
  {
   "cell_type": "code",
   "execution_count": 110,
   "id": "f6363520",
   "metadata": {},
   "outputs": [
    {
     "data": {
      "text/plain": [
       "[4, 9, 16, 25, 36]"
      ]
     },
     "execution_count": 110,
     "metadata": {},
     "output_type": "execute_result"
    }
   ],
   "source": [
    "list(map(lambda x : x**2, l))"
   ]
  },
  {
   "cell_type": "code",
   "execution_count": 111,
   "id": "04f4d900",
   "metadata": {},
   "outputs": [
    {
     "data": {
      "text/plain": [
       "<map at 0x17acd775940>"
      ]
     },
     "execution_count": 111,
     "metadata": {},
     "output_type": "execute_result"
    }
   ],
   "source": [
    "map(lambda x : str(x), l)"
   ]
  },
  {
   "cell_type": "code",
   "execution_count": 112,
   "id": "e37f9cc3",
   "metadata": {},
   "outputs": [
    {
     "data": {
      "text/plain": [
       "['2', '3', '4', '5', '6']"
      ]
     },
     "execution_count": 112,
     "metadata": {},
     "output_type": "execute_result"
    }
   ],
   "source": [
    "list(map(lambda x : str(x), l))"
   ]
  },
  {
   "cell_type": "code",
   "execution_count": 113,
   "id": "a4b9c359",
   "metadata": {},
   "outputs": [],
   "source": [
    "def str_c(n):\n",
    "    return str(n)"
   ]
  },
  {
   "cell_type": "code",
   "execution_count": 115,
   "id": "b750bc9c",
   "metadata": {},
   "outputs": [
    {
     "data": {
      "text/plain": [
       "<map at 0x17acc947d00>"
      ]
     },
     "execution_count": 115,
     "metadata": {},
     "output_type": "execute_result"
    }
   ],
   "source": [
    "map(str_c, l)"
   ]
  },
  {
   "cell_type": "code",
   "execution_count": 116,
   "id": "3d9d401c",
   "metadata": {},
   "outputs": [
    {
     "data": {
      "text/plain": [
       "['2', '3', '4', '5', '6']"
      ]
     },
     "execution_count": 116,
     "metadata": {},
     "output_type": "execute_result"
    }
   ],
   "source": [
    "list(map(str_c, l))"
   ]
  },
  {
   "cell_type": "code",
   "execution_count": 117,
   "id": "560841da",
   "metadata": {},
   "outputs": [
    {
     "data": {
      "text/plain": [
       "['2', '3', '4', '5', '6']"
      ]
     },
     "execution_count": 117,
     "metadata": {},
     "output_type": "execute_result"
    }
   ],
   "source": [
    "list(map(str, l))"
   ]
  },
  {
   "cell_type": "code",
   "execution_count": 121,
   "id": "5a81e5cb",
   "metadata": {},
   "outputs": [],
   "source": [
    "from functools import reduce\n",
    "#by defalut, it is not available"
   ]
  },
  {
   "cell_type": "code",
   "execution_count": 122,
   "id": "bc00322b",
   "metadata": {},
   "outputs": [
    {
     "data": {
      "text/plain": [
       "20"
      ]
     },
     "execution_count": 122,
     "metadata": {},
     "output_type": "execute_result"
    }
   ],
   "source": [
    "sum(l)"
   ]
  },
  {
   "cell_type": "code",
   "execution_count": 123,
   "id": "010ec764",
   "metadata": {},
   "outputs": [
    {
     "data": {
      "text/plain": [
       "20"
      ]
     },
     "execution_count": 123,
     "metadata": {},
     "output_type": "execute_result"
    }
   ],
   "source": [
    "reduce(lambda a,b : a+b, l)"
   ]
  },
  {
   "cell_type": "code",
   "execution_count": 124,
   "id": "6b16e50e",
   "metadata": {},
   "outputs": [
    {
     "data": {
      "text/plain": [
       "720"
      ]
     },
     "execution_count": 124,
     "metadata": {},
     "output_type": "execute_result"
    }
   ],
   "source": [
    "reduce(lambda a,b: a*b, l)"
   ]
  },
  {
   "cell_type": "code",
   "execution_count": 125,
   "id": "0bc31705",
   "metadata": {},
   "outputs": [
    {
     "ename": "TypeError",
     "evalue": "<lambda>() missing 1 required positional argument: 'c'",
     "output_type": "error",
     "traceback": [
      "\u001b[1;31m---------------------------------------------------------------------------\u001b[0m",
      "\u001b[1;31mTypeError\u001b[0m                                 Traceback (most recent call last)",
      "Input \u001b[1;32mIn [125]\u001b[0m, in \u001b[0;36m<cell line: 1>\u001b[1;34m()\u001b[0m\n\u001b[1;32m----> 1\u001b[0m \u001b[43mreduce\u001b[49m\u001b[43m(\u001b[49m\u001b[38;5;28;43;01mlambda\u001b[39;49;00m\u001b[43m \u001b[49m\u001b[43ma\u001b[49m\u001b[43m,\u001b[49m\u001b[43mb\u001b[49m\u001b[43m,\u001b[49m\u001b[43mc\u001b[49m\u001b[43m:\u001b[49m\u001b[43m \u001b[49m\u001b[43ma\u001b[49m\u001b[38;5;241;43m*\u001b[39;49m\u001b[43mb\u001b[49m\u001b[38;5;241;43m*\u001b[39;49m\u001b[43mc\u001b[49m\u001b[43m,\u001b[49m\u001b[43m \u001b[49m\u001b[43ml\u001b[49m\u001b[43m)\u001b[49m\n",
      "\u001b[1;31mTypeError\u001b[0m: <lambda>() missing 1 required positional argument: 'c'"
     ]
    }
   ],
   "source": [
    "reduce(lambda a,b,c: a*b*c, l)"
   ]
  },
  {
   "cell_type": "code",
   "execution_count": 128,
   "id": "a5beaa53",
   "metadata": {},
   "outputs": [
    {
     "data": {
      "text/plain": [
       "3"
      ]
     },
     "execution_count": 128,
     "metadata": {},
     "output_type": "execute_result"
    }
   ],
   "source": [
    "l1 = [3]\n",
    "reduce(lambda a,b: a+b, l1) #Exception, eventhough it has only one value it will give an output"
   ]
  },
  {
   "cell_type": "code",
   "execution_count": 129,
   "id": "e5fdb0a5",
   "metadata": {},
   "outputs": [],
   "source": [
    "l = [1,2,3,4,5]"
   ]
  },
  {
   "cell_type": "code",
   "execution_count": 134,
   "id": "a15de316",
   "metadata": {},
   "outputs": [
    {
     "name": "stdout",
     "output_type": "stream",
     "text": [
      "2\n",
      "4\n"
     ]
    }
   ],
   "source": [
    "\n",
    "    for i in l:\n",
    "        if i%2 == 0:\n",
    "            print(i)"
   ]
  },
  {
   "cell_type": "code",
   "execution_count": 131,
   "id": "8efdd7b6",
   "metadata": {},
   "outputs": [
    {
     "data": {
      "text/plain": [
       "<filter at 0x17acdca1c70>"
      ]
     },
     "execution_count": 131,
     "metadata": {},
     "output_type": "execute_result"
    }
   ],
   "source": [
    "filter(lambda x : x%2 == 0, l)"
   ]
  },
  {
   "cell_type": "code",
   "execution_count": 132,
   "id": "f5e4d1fb",
   "metadata": {},
   "outputs": [
    {
     "data": {
      "text/plain": [
       "[2, 4]"
      ]
     },
     "execution_count": 132,
     "metadata": {},
     "output_type": "execute_result"
    }
   ],
   "source": [
    "list(filter(lambda x : x%2 == 0, l))"
   ]
  },
  {
   "cell_type": "code",
   "execution_count": 135,
   "id": "f4e1bfc5",
   "metadata": {},
   "outputs": [],
   "source": [
    "def check_even(n):\n",
    "    if n%2 == 0:\n",
    "        return True"
   ]
  },
  {
   "cell_type": "code",
   "execution_count": 136,
   "id": "6ddd7817",
   "metadata": {},
   "outputs": [
    {
     "data": {
      "text/plain": [
       "<filter at 0x17acca7c310>"
      ]
     },
     "execution_count": 136,
     "metadata": {},
     "output_type": "execute_result"
    }
   ],
   "source": [
    "filter(check_even, l)"
   ]
  },
  {
   "cell_type": "code",
   "execution_count": 137,
   "id": "a439bb0a",
   "metadata": {},
   "outputs": [
    {
     "data": {
      "text/plain": [
       "[2, 4]"
      ]
     },
     "execution_count": 137,
     "metadata": {},
     "output_type": "execute_result"
    }
   ],
   "source": [
    "list(filter(check_even, l))"
   ]
  },
  {
   "cell_type": "code",
   "execution_count": null,
   "id": "85ecb409",
   "metadata": {},
   "outputs": [],
   "source": []
  }
 ],
 "metadata": {
  "kernelspec": {
   "display_name": "Python 3 (ipykernel)",
   "language": "python",
   "name": "python3"
  },
  "language_info": {
   "codemirror_mode": {
    "name": "ipython",
    "version": 3
   },
   "file_extension": ".py",
   "mimetype": "text/x-python",
   "name": "python",
   "nbconvert_exporter": "python",
   "pygments_lexer": "ipython3",
   "version": "3.9.12"
  }
 },
 "nbformat": 4,
 "nbformat_minor": 5
}
