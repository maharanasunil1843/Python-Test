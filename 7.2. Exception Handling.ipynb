{
 "cells": [
  {
   "cell_type": "code",
   "execution_count": 2,
   "id": "bfc95fad",
   "metadata": {},
   "outputs": [
    {
     "name": "stdout",
     "output_type": "stream",
     "text": [
      "Enter first number:10\n",
      "Enter second number0\n"
     ]
    },
    {
     "ename": "ZeroDivisionError",
     "evalue": "division by zero",
     "output_type": "error",
     "traceback": [
      "\u001b[1;31m---------------------------------------------------------------------------\u001b[0m",
      "\u001b[1;31mZeroDivisionError\u001b[0m                         Traceback (most recent call last)",
      "Input \u001b[1;32mIn [2]\u001b[0m, in \u001b[0;36m<cell line: 3>\u001b[1;34m()\u001b[0m\n\u001b[0;32m      1\u001b[0m a \u001b[38;5;241m=\u001b[39m \u001b[38;5;28mint\u001b[39m(\u001b[38;5;28minput\u001b[39m(\u001b[38;5;124m\"\u001b[39m\u001b[38;5;124mEnter first number:\u001b[39m\u001b[38;5;124m\"\u001b[39m))\n\u001b[0;32m      2\u001b[0m b \u001b[38;5;241m=\u001b[39m \u001b[38;5;28mint\u001b[39m(\u001b[38;5;28minput\u001b[39m(\u001b[38;5;124m\"\u001b[39m\u001b[38;5;124mEnter second number\u001b[39m\u001b[38;5;124m\"\u001b[39m))\n\u001b[1;32m----> 3\u001b[0m c \u001b[38;5;241m=\u001b[39m \u001b[43ma\u001b[49m\u001b[38;5;241;43m/\u001b[39;49m\u001b[43mb\u001b[49m\n\u001b[0;32m      4\u001b[0m \u001b[38;5;28mprint\u001b[39m(c)\n\u001b[0;32m      5\u001b[0m d \u001b[38;5;241m=\u001b[39m a\u001b[38;5;241m*\u001b[39mb\n",
      "\u001b[1;31mZeroDivisionError\u001b[0m: division by zero"
     ]
    }
   ],
   "source": [
    "a = int(input(\"Enter first number:\"))\n",
    "b = int(input(\"Enter second number\"))\n",
    "c = a/b\n",
    "print(c)\n",
    "d = a*b\n",
    "print(d)"
   ]
  },
  {
   "cell_type": "code",
   "execution_count": 3,
   "id": "5471783c",
   "metadata": {},
   "outputs": [],
   "source": [
    "#Reason for exception handling:\n",
    "#my further code execution will stop\n",
    "#to make it more user friendly"
   ]
  },
  {
   "cell_type": "code",
   "execution_count": 4,
   "id": "003388c1",
   "metadata": {},
   "outputs": [],
   "source": [
    "#Exception is a runtime error"
   ]
  },
  {
   "cell_type": "code",
   "execution_count": 5,
   "id": "dffc83dc",
   "metadata": {},
   "outputs": [
    {
     "ename": "SyntaxError",
     "evalue": "invalid syntax (2255863079.py, line 1)",
     "output_type": "error",
     "traceback": [
      "\u001b[1;36m  Input \u001b[1;32mIn [5]\u001b[1;36m\u001b[0m\n\u001b[1;33m    try\u001b[0m\n\u001b[1;37m       ^\u001b[0m\n\u001b[1;31mSyntaxError\u001b[0m\u001b[1;31m:\u001b[0m invalid syntax\n"
     ]
    }
   ],
   "source": [
    "try\n",
    "except\n",
    "else\n",
    "raise\n",
    "finally"
   ]
  },
  {
   "cell_type": "code",
   "execution_count": 8,
   "id": "cb4195f1",
   "metadata": {},
   "outputs": [
    {
     "name": "stdout",
     "output_type": "stream",
     "text": [
      "Enter first number:10\n",
      "Enter second number0\n",
      "b should not be a zero\n",
      "10\n"
     ]
    }
   ],
   "source": [
    "a = int(input(\"Enter first number:\"))\n",
    "b = int(input(\"Enter second number\"))\n",
    "try:\n",
    "    c = a/b\n",
    "    print(c)\n",
    "    \n",
    "except ZeroDivisionError:\n",
    "    print(\"b should not be a zero\")\n",
    "d = a + b\n",
    "print(d)"
   ]
  },
  {
   "cell_type": "code",
   "execution_count": 1,
   "id": "a30231d6",
   "metadata": {},
   "outputs": [
    {
     "name": "stdout",
     "output_type": "stream",
     "text": [
      "Enter first number:10\n",
      "Enter second number0\n",
      "b should not be a zero\n",
      "10\n"
     ]
    }
   ],
   "source": [
    "a = int(input(\"Enter first number:\"))\n",
    "b = int(input(\"Enter second number\"))\n",
    "try:\n",
    "    c = a/b\n",
    "    print(c)\n",
    "    \n",
    "except ZeroDivisionError:\n",
    "    print(\"b should not be a zero\")\n",
    "d = a + b\n",
    "print(d)"
   ]
  },
  {
   "cell_type": "code",
   "execution_count": 10,
   "id": "fbc8e364",
   "metadata": {},
   "outputs": [],
   "source": [
    "#We cannot handle syntax error as it is a compilation error."
   ]
  },
  {
   "cell_type": "code",
   "execution_count": 1,
   "id": "ebf6db40",
   "metadata": {},
   "outputs": [
    {
     "name": "stdout",
     "output_type": "stream",
     "text": [
      "Enter first number: 1\n",
      "Enter second number: 0\n",
      "Second number can't be zero\n",
      "Enter first number: 1\n",
      "Enter second number: a\n",
      "Enter integer value only\n",
      "Enter first number: 2\n",
      "Enter second number: 5\n",
      "0.4\n"
     ]
    }
   ],
   "source": [
    "#Exercise\n",
    "\n",
    "#write program to input 2 integers and calculate and pring their division\n",
    "\n",
    "#condition:\n",
    "#1. If the user enters a non integer value then ask him to enter only integers\n",
    "#2. If the denominator is 0, then ask hom to input non-zero denominator.\n",
    "\n",
    "#-Repeat the process until correct input is given\n",
    "#Only if the inputs are correct then display their division and terminate the code\n",
    "\n",
    "while True:\n",
    "    \n",
    "    try:\n",
    "        a = int(input(\"Enter first number: \"))\n",
    "        b = int(input(\"Enter second number: \"))\n",
    "        c = a/b\n",
    "        print(c)\n",
    "        break\n",
    "        \n",
    "    except ZeroDivisionError:\n",
    "        print(\"Second number can't be zero\")\n",
    "    except ValueError:\n",
    "        print(\"Enter integer value only\")\n"
   ]
  },
  {
   "cell_type": "code",
   "execution_count": 6,
   "id": "96c009ec",
   "metadata": {},
   "outputs": [],
   "source": [
    "#Hence, we can see that multiple exceptions can be given in a single try statement.\n",
    "#Also we have seen that it is breaking out of the loop only when all the conditions are satisfied\n",
    "#Until then it is continiously asking for the values"
   ]
  },
  {
   "cell_type": "code",
   "execution_count": 3,
   "id": "96dada8f",
   "metadata": {},
   "outputs": [
    {
     "name": "stdout",
     "output_type": "stream",
     "text": [
      "Enter a value: sunil\n",
      "String not allowed\n"
     ]
    }
   ],
   "source": [
    "try:\n",
    "    int(input(\"Enter a value: \"))\n",
    "except:\n",
    "    print(\"String not allowed\")"
   ]
  },
  {
   "cell_type": "code",
   "execution_count": 4,
   "id": "346db9d3",
   "metadata": {},
   "outputs": [
    {
     "name": "stdout",
     "output_type": "stream",
     "text": [
      "Enter a value: 12\n"
     ]
    }
   ],
   "source": [
    "try:\n",
    "    int(input(\"Enter a value: \"))\n",
    "except:\n",
    "    print(\"String not allowed\")"
   ]
  },
  {
   "cell_type": "code",
   "execution_count": 1,
   "id": "8ab7cd2c",
   "metadata": {},
   "outputs": [
    {
     "name": "stdout",
     "output_type": "stream",
     "text": [
      "First Number: 5\n",
      "Second Number: 0\n",
      "division by zero\n",
      "First Number: 5\n",
      "Second Number: 5\n",
      "div : 1.0\n"
     ]
    }
   ],
   "source": [
    "while True:\n",
    "    try:\n",
    "        a = int(input(\"First Number: \"))\n",
    "        b = int(input(\"Second Number: \"))\n",
    "        c = a/b\n",
    "        print(\"div :\", c)\n",
    "        break\n",
    "    except ZeroDivisionError as e:\n",
    "        print(e)\n"
   ]
  },
  {
   "cell_type": "code",
   "execution_count": 2,
   "id": "cfc6ad10",
   "metadata": {},
   "outputs": [
    {
     "name": "stdout",
     "output_type": "stream",
     "text": [
      "First Number: 10\n",
      "Second Number: 0\n",
      "Exception Class:  <class 'ZeroDivisionError'>\n",
      "Exception Message:  division by zero\n",
      "Line Number:  7\n",
      "First Number: 10\n",
      "Second Number: 7\n",
      "div : 1.4285714285714286\n"
     ]
    }
   ],
   "source": [
    "import sys\n",
    "\n",
    "while True:\n",
    "    try:\n",
    "        a = int(input(\"First Number: \"))\n",
    "        b = int(input(\"Second Number: \"))\n",
    "        c = a/b\n",
    "        print(\"div :\", c)\n",
    "        break\n",
    "    except:\n",
    "        a, b, c = sys.exc_info()\n",
    "        print(\"Exception Class: \", a)\n",
    "        print(\"Exception Message: \", b)\n",
    "        print(\"Line Number: \", c.tb_lineno)"
   ]
  },
  {
   "cell_type": "code",
   "execution_count": 3,
   "id": "67b33a9b",
   "metadata": {},
   "outputs": [],
   "source": [
    "a, b, c = (1,2,3)"
   ]
  },
  {
   "cell_type": "code",
   "execution_count": 4,
   "id": "62f29991",
   "metadata": {},
   "outputs": [
    {
     "data": {
      "text/plain": [
       "1"
      ]
     },
     "execution_count": 4,
     "metadata": {},
     "output_type": "execute_result"
    }
   ],
   "source": [
    "a"
   ]
  },
  {
   "cell_type": "code",
   "execution_count": 5,
   "id": "265e5b3a",
   "metadata": {},
   "outputs": [
    {
     "data": {
      "text/plain": [
       "2"
      ]
     },
     "execution_count": 5,
     "metadata": {},
     "output_type": "execute_result"
    }
   ],
   "source": [
    "b"
   ]
  },
  {
   "cell_type": "code",
   "execution_count": 6,
   "id": "e63eff3a",
   "metadata": {},
   "outputs": [
    {
     "data": {
      "text/plain": [
       "3"
      ]
     },
     "execution_count": 6,
     "metadata": {},
     "output_type": "execute_result"
    }
   ],
   "source": [
    "c"
   ]
  },
  {
   "cell_type": "code",
   "execution_count": 5,
   "id": "ed938770",
   "metadata": {},
   "outputs": [
    {
     "ename": "SyntaxError",
     "evalue": "invalid syntax (1796681989.py, line 3)",
     "output_type": "error",
     "traceback": [
      "\u001b[1;36m  Input \u001b[1;32mIn [5]\u001b[1;36m\u001b[0m\n\u001b[1;33m    import traceback.format_exc()\u001b[0m\n\u001b[1;37m                               ^\u001b[0m\n\u001b[1;31mSyntaxError\u001b[0m\u001b[1;31m:\u001b[0m invalid syntax\n"
     ]
    }
   ],
   "source": [
    "#import sys.exc.info()\n",
    "\n",
    "import traceback.format_exc()"
   ]
  },
  {
   "cell_type": "code",
   "execution_count": 6,
   "id": "9e4ee95e",
   "metadata": {},
   "outputs": [
    {
     "name": "stdout",
     "output_type": "stream",
     "text": [
      "First Number: 10\n",
      "Second Number: 0\n",
      "Traceback (most recent call last):\n",
      "  File \"C:\\Users\\ADMIN\\AppData\\Local\\Temp\\ipykernel_1540\\3527661171.py\", line 7, in <cell line: 4>\n",
      "    c = a/b\n",
      "ZeroDivisionError: division by zero\n",
      "\n",
      "First Number: 0\n",
      "Second Number: 10\n",
      "div : 0.0\n"
     ]
    }
   ],
   "source": [
    "import traceback\n",
    "while True:\n",
    "    \n",
    "    try:\n",
    "        a = int(input(\"First Number: \"))\n",
    "        b = int(input(\"Second Number: \"))\n",
    "        c = a/b\n",
    "        print(\"div :\", c)\n",
    "        break\n",
    "    except:\n",
    "        print(traceback.format_exc())"
   ]
  },
  {
   "cell_type": "code",
   "execution_count": 7,
   "id": "f2889a8c",
   "metadata": {},
   "outputs": [
    {
     "ename": "ZeroDivisionError",
     "evalue": "division by zero",
     "output_type": "error",
     "traceback": [
      "\u001b[1;31m---------------------------------------------------------------------------\u001b[0m",
      "\u001b[1;31mZeroDivisionError\u001b[0m                         Traceback (most recent call last)",
      "Input \u001b[1;32mIn [7]\u001b[0m, in \u001b[0;36m<cell line: 3>\u001b[1;34m()\u001b[0m\n\u001b[0;32m      1\u001b[0m a \u001b[38;5;241m=\u001b[39m \u001b[38;5;241m10\u001b[39m\n\u001b[0;32m      2\u001b[0m b \u001b[38;5;241m=\u001b[39m \u001b[38;5;241m0\u001b[39m\n\u001b[1;32m----> 3\u001b[0m \u001b[43ma\u001b[49m\u001b[38;5;241;43m/\u001b[39;49m\u001b[43mb\u001b[49m\n",
      "\u001b[1;31mZeroDivisionError\u001b[0m: division by zero"
     ]
    }
   ],
   "source": [
    "a = 10\n",
    "b = 0\n",
    "a/b"
   ]
  },
  {
   "cell_type": "code",
   "execution_count": 9,
   "id": "073fad22",
   "metadata": {},
   "outputs": [],
   "source": [
    "#raise exception\n",
    "\n",
    "#raising exception at custom line"
   ]
  },
  {
   "cell_type": "code",
   "execution_count": 1,
   "id": "3dfe5c33",
   "metadata": {},
   "outputs": [
    {
     "name": "stdout",
     "output_type": "stream",
     "text": [
      "First Number10\n",
      "Second Number0\n"
     ]
    },
    {
     "ename": "ZeroDivisionError",
     "evalue": "division by zero",
     "output_type": "error",
     "traceback": [
      "\u001b[1;31m---------------------------------------------------------------------------\u001b[0m",
      "\u001b[1;31mZeroDivisionError\u001b[0m                         Traceback (most recent call last)",
      "Input \u001b[1;32mIn [1]\u001b[0m, in \u001b[0;36m<cell line: 3>\u001b[1;34m()\u001b[0m\n\u001b[0;32m      1\u001b[0m a \u001b[38;5;241m=\u001b[39m \u001b[38;5;28mint\u001b[39m(\u001b[38;5;28minput\u001b[39m(\u001b[38;5;124m\"\u001b[39m\u001b[38;5;124mFirst Number\u001b[39m\u001b[38;5;124m\"\u001b[39m))\n\u001b[0;32m      2\u001b[0m b \u001b[38;5;241m=\u001b[39m \u001b[38;5;28mint\u001b[39m(\u001b[38;5;28minput\u001b[39m(\u001b[38;5;124m\"\u001b[39m\u001b[38;5;124mSecond Number\u001b[39m\u001b[38;5;124m\"\u001b[39m))\n\u001b[1;32m----> 3\u001b[0m \u001b[43ma\u001b[49m\u001b[38;5;241;43m/\u001b[39;49m\u001b[43mb\u001b[49m\n",
      "\u001b[1;31mZeroDivisionError\u001b[0m: division by zero"
     ]
    }
   ],
   "source": [
    "a = int(input(\"First Number\"))\n",
    "b = int(input(\"Second Number\"))\n",
    "a/b"
   ]
  },
  {
   "cell_type": "code",
   "execution_count": 2,
   "id": "3101f88b",
   "metadata": {},
   "outputs": [
    {
     "name": "stdout",
     "output_type": "stream",
     "text": [
      "First Number: 10\n",
      "Second Number: 0\n",
      "please enter non zero denominator\n",
      "First Number: 10\n",
      "Second Number: a\n",
      "Please enter int only.\n",
      "First Number: 10\n",
      "Second Number: -1\n",
      "Negative number not allowed\n",
      "First Number: 10\n",
      "Second Number: 5\n",
      "division is:  2.0\n"
     ]
    }
   ],
   "source": [
    "while True:\n",
    "    try:\n",
    "        a = int(input(\"First Number: \"))\n",
    "        b = int(input(\"Second Number: \"))\n",
    "        if a<0 or b<0: \n",
    "            raise Exception(\"Negative number not allowed\") #Exceptin is a built_in class\n",
    "        c = a/b\n",
    "        print(\"division is: \", c)\n",
    "        break\n",
    "        \n",
    "    except ValueError:\n",
    "        print(\"Please enter int only.\")\n",
    "    except ZeroDivisionError:\n",
    "        print(\"please enter non zero denominator\")\n",
    "    except Exception as e:\n",
    "        print(e)"
   ]
  },
  {
   "cell_type": "markdown",
   "id": "1475ce85",
   "metadata": {},
   "source": [
    "# exception class in python is already defined and we are calling this class"
   ]
  },
  {
   "cell_type": "code",
   "execution_count": 5,
   "id": "7dba475f",
   "metadata": {},
   "outputs": [],
   "source": [
    "#Hence, we have to define our class and inherit its attributes from exception\n",
    "class NegativeNumberException(Exception):\n",
    "    pass"
   ]
  },
  {
   "cell_type": "code",
   "execution_count": 6,
   "id": "33962961",
   "metadata": {},
   "outputs": [
    {
     "name": "stdout",
     "output_type": "stream",
     "text": [
      "First Number: 10\n",
      "Second Number: -1\n",
      "Negative number not allowed\n",
      "First Number: 10\n",
      "Second Number: 1\n",
      "division is:  10.0\n"
     ]
    }
   ],
   "source": [
    "#creating custom exception \n",
    "\n",
    "while True:\n",
    "    try:\n",
    "        a = int(input(\"First Number: \"))\n",
    "        b = int(input(\"Second Number: \"))\n",
    "        if a<0 or b<0: \n",
    "            raise NegativeNumberException(\"Negative number not allowed\") #Exceptin is a built_in class\n",
    "        c = a/b\n",
    "        print(\"division is: \", c)\n",
    "        break\n",
    "        \n",
    "    except ValueError:\n",
    "        print(\"Please enter int only.\")\n",
    "    except ZeroDivisionError:\n",
    "        print(\"please enter non zero denominator\")\n",
    "    except NegativeNumberException as e:\n",
    "        print(e)"
   ]
  },
  {
   "cell_type": "markdown",
   "id": "0e65241d",
   "metadata": {},
   "source": [
    "# Final block"
   ]
  },
  {
   "cell_type": "code",
   "execution_count": 10,
   "id": "57287089",
   "metadata": {},
   "outputs": [
    {
     "name": "stdout",
     "output_type": "stream",
     "text": [
      "First Number: 10\n",
      "Second Number: 0\n",
      "don't use 0 in denominator\n",
      "hello\n",
      "Python\n"
     ]
    }
   ],
   "source": [
    "try:\n",
    "    a = int(input(\"First Number: \"))\n",
    "    b = int(input(\"Second Number: \"))\n",
    "    c = a/b\n",
    "    print(c)\n",
    "except:\n",
    "    print(\"don't use 0 in denominator\")\n",
    "\n",
    "finally: #introduced to run our code in any case\n",
    "    print(\"hello\")\n",
    "    print(\"Python\")"
   ]
  },
  {
   "cell_type": "code",
   "execution_count": 11,
   "id": "16c4ff96",
   "metadata": {},
   "outputs": [],
   "source": [
    "#Suppose we have created any database and we have forgot to close the connection.\n",
    "#Suppose we are using some cloud service and have deployed some application and we forgot to terminate those application.\n",
    "\n",
    "#these code must be written in the final block to avoid the unwanted situations."
   ]
  },
  {
   "cell_type": "code",
   "execution_count": null,
   "id": "af1efcb3",
   "metadata": {},
   "outputs": [],
   "source": [
    "#So finally we have learns about the following keywords:\n",
    "try:\n",
    "except:\n",
    "raise:\n",
    "else:\n",
    "finally:"
   ]
  },
  {
   "cell_type": "code",
   "execution_count": 12,
   "id": "c1eb1cc1",
   "metadata": {},
   "outputs": [
    {
     "name": "stdout",
     "output_type": "stream",
     "text": [
      "First Number: 10\n",
      "Second Number: 0\n",
      "don't use zero in denominator\n"
     ]
    }
   ],
   "source": [
    "try:\n",
    "    a = int(input(\"First Number: \"))\n",
    "    b = int(input(\"Second Number: \"))\n",
    "    c = a/b\n",
    "    print(c)\n",
    "\n",
    "except:\n",
    "    print(\"don't use zero in denominator\")\n",
    "else:\n",
    "    print(\"python rocks!!\")"
   ]
  },
  {
   "cell_type": "code",
   "execution_count": 14,
   "id": "9e21c8bc",
   "metadata": {},
   "outputs": [
    {
     "name": "stdout",
     "output_type": "stream",
     "text": [
      "First Number: 10\n",
      "Second Number: 1\n",
      "10.0\n",
      "python rocks!!\n"
     ]
    }
   ],
   "source": [
    "try:\n",
    "    a = int(input(\"First Number: \"))\n",
    "    b = int(input(\"Second Number: \"))\n",
    "    c = a/b\n",
    "    print(c)\n",
    "\n",
    "except:\n",
    "    print(\"don't use zero in denominator\")\n",
    "else:\n",
    "    print(\"python rocks!!\")"
   ]
  },
  {
   "cell_type": "code",
   "execution_count": null,
   "id": "49b1560b",
   "metadata": {},
   "outputs": [],
   "source": [
    "string = \"Database connection\" --> error\n",
    "this line in \n",
    "try block or\n",
    "except block\n",
    "\n",
    "close the connection of this database #else charged\n",
    "close in finally  -- sureity"
   ]
  }
 ],
 "metadata": {
  "kernelspec": {
   "display_name": "Python 3 (ipykernel)",
   "language": "python",
   "name": "python3"
  },
  "language_info": {
   "codemirror_mode": {
    "name": "ipython",
    "version": 3
   },
   "file_extension": ".py",
   "mimetype": "text/x-python",
   "name": "python",
   "nbconvert_exporter": "python",
   "pygments_lexer": "ipython3",
   "version": "3.9.12"
  }
 },
 "nbformat": 4,
 "nbformat_minor": 5
}
