{
 "cells": [
  {
   "cell_type": "markdown",
   "id": "d5f33d35",
   "metadata": {},
   "source": [
    "# Conditional Statements"
   ]
  },
  {
   "cell_type": "markdown",
   "id": "ecb5693d",
   "metadata": {},
   "source": [
    "# If, if - else, if - el-if - else statement"
   ]
  },
  {
   "cell_type": "code",
   "execution_count": 5,
   "id": "9d00568b",
   "metadata": {},
   "outputs": [
    {
     "name": "stdout",
     "output_type": "stream",
     "text": [
      "this is my first condition\n"
     ]
    }
   ],
   "source": [
    "a = 10\n",
    "if a == 10 :\n",
    "    print(\"this is my first condition\")"
   ]
  },
  {
   "cell_type": "code",
   "execution_count": 10,
   "id": "aae5dcc2",
   "metadata": {},
   "outputs": [],
   "source": [
    "if a == 11 :\n",
    "    print(\"My name is Sunil\")"
   ]
  },
  {
   "cell_type": "markdown",
   "id": "88eec575",
   "metadata": {},
   "source": [
    "As my condition is false, it is not printing anything"
   ]
  },
  {
   "cell_type": "code",
   "execution_count": 11,
   "id": "ef13b9b5",
   "metadata": {},
   "outputs": [],
   "source": [
    "a = 10\n",
    "if a > 5 :\n",
    "    pass"
   ]
  },
  {
   "cell_type": "markdown",
   "id": "4b732340",
   "metadata": {},
   "source": [
    "If we don't want to do anything even if the condition is true, we can write pass. It works as a body and removed the indententation error."
   ]
  },
  {
   "cell_type": "code",
   "execution_count": 13,
   "id": "30031d49",
   "metadata": {},
   "outputs": [
    {
     "name": "stdout",
     "output_type": "stream",
     "text": [
      "Print this is condition is true\n"
     ]
    }
   ],
   "source": [
    "a = 10\n",
    "if a > 8 : \n",
    "    print(\"Print this is condition is true\")"
   ]
  },
  {
   "cell_type": "markdown",
   "id": "f371ba1f",
   "metadata": {},
   "source": [
    "As my condition is ture, it is printing."
   ]
  },
  {
   "cell_type": "code",
   "execution_count": 14,
   "id": "bb6a57d7",
   "metadata": {},
   "outputs": [
    {
     "name": "stdout",
     "output_type": "stream",
     "text": [
      "my condition is false\n"
     ]
    }
   ],
   "source": [
    "a = 10\n",
    "if a != 11:\n",
    "    print(\"my condition is false\")\n",
    "else :\n",
    "    print(\"Print this\")"
   ]
  },
  {
   "cell_type": "code",
   "execution_count": 15,
   "id": "003edc33",
   "metadata": {},
   "outputs": [
    {
     "name": "stdout",
     "output_type": "stream",
     "text": [
      "Print this\n"
     ]
    }
   ],
   "source": [
    "a = 10\n",
    "if a == 11:\n",
    "    print(\"my condition is false\")\n",
    "else :\n",
    "    print(\"Print this\")"
   ]
  },
  {
   "cell_type": "markdown",
   "id": "94aaf9eb",
   "metadata": {},
   "source": [
    "Hence, in first my statement is true while in second my statement is false."
   ]
  },
  {
   "cell_type": "code",
   "execution_count": 16,
   "id": "28eda7a6",
   "metadata": {},
   "outputs": [
    {
     "name": "stdout",
     "output_type": "stream",
     "text": [
      "If all the blocks will fail then do this\n"
     ]
    }
   ],
   "source": [
    "a = 10\n",
    "if a == 12:\n",
    "    print(\"here we are trying to compare 10 with 12.\")\n",
    "elif a == 11:\n",
    "    print(\"here we are trying to compare 10 with 11.\")\n",
    "else :\n",
    "    print(\"If all the blocks will fail then do this\")"
   ]
  },
  {
   "cell_type": "code",
   "execution_count": 17,
   "id": "b5cbc661",
   "metadata": {},
   "outputs": [
    {
     "name": "stdout",
     "output_type": "stream",
     "text": [
      "here we are trying to compare 10 with 10.\n"
     ]
    }
   ],
   "source": [
    "a = 10\n",
    "if a == 12:\n",
    "    print(\"here we are trying to compare 10 with 12.\")\n",
    "elif a == 10:\n",
    "    print(\"here we are trying to compare 10 with 10.\")\n",
    "else :\n",
    "    print(\"If all the blocks will fail then do this\")"
   ]
  },
  {
   "cell_type": "code",
   "execution_count": 19,
   "id": "a3949a91",
   "metadata": {},
   "outputs": [],
   "source": [
    "price = 500\n",
    "if price > 500:\n",
    "    print(\"may be I won't be able to buy a jacket\")\n",
    "elif price < 500:\n",
    "    print(\"I will be able to buy a jacket\")"
   ]
  },
  {
   "cell_type": "markdown",
   "id": "ac2923b7",
   "metadata": {},
   "source": [
    "It is not giving an output price is not less or more than 500 but is equal to 500. Hence, we can use lesser than or equal to 500 operator to print the desired output."
   ]
  },
  {
   "cell_type": "code",
   "execution_count": 20,
   "id": "3819b9c1",
   "metadata": {},
   "outputs": [
    {
     "name": "stdout",
     "output_type": "stream",
     "text": [
      "I will be able to buy a jacket\n"
     ]
    }
   ],
   "source": [
    "price = 500\n",
    "if price > 500:\n",
    "    print(\"may be I won't be able to buy a jacket\")\n",
    "elif price <= 500:\n",
    "    print(\"I will be able to buy a jacket\")"
   ]
  },
  {
   "cell_type": "markdown",
   "id": "1f9f0d12",
   "metadata": {},
   "source": [
    "Now it is giving the output."
   ]
  },
  {
   "cell_type": "code",
   "execution_count": 21,
   "id": "6612a240",
   "metadata": {},
   "outputs": [
    {
     "ename": "SyntaxError",
     "evalue": "invalid syntax (715817051.py, line 6)",
     "output_type": "error",
     "traceback": [
      "\u001b[1;36m  Input \u001b[1;32mIn [21]\u001b[1;36m\u001b[0m\n\u001b[1;33m    else price == 500:\u001b[0m\n\u001b[1;37m         ^\u001b[0m\n\u001b[1;31mSyntaxError\u001b[0m\u001b[1;31m:\u001b[0m invalid syntax\n"
     ]
    }
   ],
   "source": [
    "price = 500\n",
    "if price > 500:\n",
    "    print(\"may be I won't be able to buy a jacket\")\n",
    "elif price < 500:\n",
    "    print(\"I will be able to buy a jacket\")\n",
    "else price == 500:\n",
    "    print(\"I don't know\")"
   ]
  },
  {
   "cell_type": "markdown",
   "id": "0f3d2ef7",
   "metadata": {},
   "source": [
    "It is giving error because we can't put condition with the else block."
   ]
  },
  {
   "cell_type": "markdown",
   "id": "c6d859d7",
   "metadata": {},
   "source": [
    "However, we can write one more elif block to remove the above error."
   ]
  },
  {
   "cell_type": "code",
   "execution_count": 22,
   "id": "b9acaaad",
   "metadata": {},
   "outputs": [
    {
     "name": "stdout",
     "output_type": "stream",
     "text": [
      "I will surely be able to buy a jacket\n"
     ]
    }
   ],
   "source": [
    "#condition to check whether I can buy a jacket or not\n",
    "price = 500\n",
    "if price > 500:\n",
    "    print(\"may be I won't be able to buy a jacket\")\n",
    "elif price < 500:\n",
    "    print(\"I will be able to buy a jacket\")\n",
    "elif price == 500:\n",
    "    print(\"I will surely be able to buy a jacket\")\n",
    "else :\n",
    "    print(\"I don't know\")"
   ]
  },
  {
   "cell_type": "code",
   "execution_count": 23,
   "id": "14ce92ad",
   "metadata": {},
   "outputs": [
    {
     "data": {
      "text/plain": [
       "True"
      ]
     },
     "execution_count": 23,
     "metadata": {},
     "output_type": "execute_result"
    }
   ],
   "source": [
    "l = [1,2,3,4,5,6]\n",
    "2 in l"
   ]
  },
  {
   "cell_type": "code",
   "execution_count": 24,
   "id": "91e599db",
   "metadata": {},
   "outputs": [
    {
     "name": "stdout",
     "output_type": "stream",
     "text": [
      "try to perform a task\n"
     ]
    }
   ],
   "source": [
    "if 2 in l :\n",
    "    print(\"try to perform a task\")\n",
    "else :\n",
    "    print(\"don't perform a task\")"
   ]
  },
  {
   "cell_type": "markdown",
   "id": "71a863c1",
   "metadata": {},
   "source": [
    "Hence, if condition works only in case or true condition"
   ]
  },
  {
   "cell_type": "code",
   "execution_count": 26,
   "id": "6186de9a",
   "metadata": {},
   "outputs": [
    {
     "name": "stdout",
     "output_type": "stream",
     "text": [
      "don't perform a task\n"
     ]
    }
   ],
   "source": [
    "if 60 in l :\n",
    "    print(\"try to perform a task\")\n",
    "else :\n",
    "    print(\"don't perform a task\")"
   ]
  },
  {
   "cell_type": "markdown",
   "id": "156c116c",
   "metadata": {},
   "source": [
    "Here, 60 is not in l. Hence it is false and it is printing the statement in else block."
   ]
  },
  {
   "cell_type": "code",
   "execution_count": 27,
   "id": "0a52f329",
   "metadata": {},
   "outputs": [
    {
     "name": "stdout",
     "output_type": "stream",
     "text": [
      "try to do an addition\n"
     ]
    }
   ],
   "source": [
    "if 1 in l :\n",
    "    print(\"try to do an addition\")\n",
    "elif 2 in l:\n",
    "    print(\"try to do subtraction\")\n",
    "elif 3 in l:\n",
    "    print(\"try to do multiplication\")"
   ]
  },
  {
   "cell_type": "markdown",
   "id": "7d5418b2",
   "metadata": {},
   "source": [
    "Hence, we can see that if all the statements are true, then it will execute the very first condition and come out of the block."
   ]
  },
  {
   "cell_type": "code",
   "execution_count": 28,
   "id": "54448f31",
   "metadata": {},
   "outputs": [
    {
     "name": "stdout",
     "output_type": "stream",
     "text": [
      "try to do an addition\n",
      "this is a new statement\n"
     ]
    }
   ],
   "source": [
    "if 1 in l :\n",
    "    print(\"try to do an addition\")\n",
    "elif 2 in l:\n",
    "    print(\"try to do subtraction\")\n",
    "elif 3 in l:\n",
    "    print(\"try to do multiplication\")\n",
    "if 4 in l:\n",
    "    print(\"this is a new statement\")"
   ]
  },
  {
   "cell_type": "markdown",
   "id": "680598e0",
   "metadata": {},
   "source": [
    "Hence, if-elif is a single statement and if statement is another new block."
   ]
  },
  {
   "cell_type": "markdown",
   "id": "2d02e480",
   "metadata": {},
   "source": [
    "# Nested statement"
   ]
  },
  {
   "cell_type": "code",
   "execution_count": 29,
   "id": "148f07e6",
   "metadata": {},
   "outputs": [],
   "source": [
    "a = 400"
   ]
  },
  {
   "cell_type": "code",
   "execution_count": 30,
   "id": "685ab9e9",
   "metadata": {},
   "outputs": [
    {
     "name": "stdout",
     "output_type": "stream",
     "text": [
      "400\n"
     ]
    }
   ],
   "source": [
    "b = input()"
   ]
  },
  {
   "cell_type": "markdown",
   "id": "572537cd",
   "metadata": {},
   "source": [
    "input is an inbuilt function to take an input from the user. It assigns that value to the given variable. Bydefalut, it converts the data into a string format"
   ]
  },
  {
   "cell_type": "code",
   "execution_count": 31,
   "id": "f13e21cf",
   "metadata": {},
   "outputs": [
    {
     "data": {
      "text/plain": [
       "'400'"
      ]
     },
     "execution_count": 31,
     "metadata": {},
     "output_type": "execute_result"
    }
   ],
   "source": [
    "b"
   ]
  },
  {
   "cell_type": "code",
   "execution_count": 32,
   "id": "44d70a16",
   "metadata": {},
   "outputs": [
    {
     "data": {
      "text/plain": [
       "str"
      ]
     },
     "execution_count": 32,
     "metadata": {},
     "output_type": "execute_result"
    }
   ],
   "source": [
    "type(b)"
   ]
  },
  {
   "cell_type": "markdown",
   "id": "ce3f9965",
   "metadata": {},
   "source": [
    "Hence, we won't be able to perform a numerical comparison."
   ]
  },
  {
   "cell_type": "markdown",
   "id": "c6fc7dcf",
   "metadata": {},
   "source": [
    "Hence, we type cast the input in the following manner."
   ]
  },
  {
   "cell_type": "code",
   "execution_count": 33,
   "id": "2803854a",
   "metadata": {},
   "outputs": [
    {
     "name": "stdout",
     "output_type": "stream",
     "text": [
      "400\n"
     ]
    }
   ],
   "source": [
    "b = int(input())"
   ]
  },
  {
   "cell_type": "code",
   "execution_count": 34,
   "id": "56b23513",
   "metadata": {},
   "outputs": [
    {
     "data": {
      "text/plain": [
       "400"
      ]
     },
     "execution_count": 34,
     "metadata": {},
     "output_type": "execute_result"
    }
   ],
   "source": [
    "b"
   ]
  },
  {
   "cell_type": "code",
   "execution_count": 35,
   "id": "a65999b3",
   "metadata": {},
   "outputs": [
    {
     "data": {
      "text/plain": [
       "int"
      ]
     },
     "execution_count": 35,
     "metadata": {},
     "output_type": "execute_result"
    }
   ],
   "source": [
    "type(b)"
   ]
  },
  {
   "cell_type": "markdown",
   "id": "7aa92b64",
   "metadata": {},
   "source": [
    "However, during the type casting the input into an integer, we must give an integer input or else it will give error."
   ]
  },
  {
   "cell_type": "code",
   "execution_count": 36,
   "id": "16343ae5",
   "metadata": {},
   "outputs": [
    {
     "name": "stdout",
     "output_type": "stream",
     "text": [
      "lajhsd54\n"
     ]
    },
    {
     "ename": "ValueError",
     "evalue": "invalid literal for int() with base 10: 'lajhsd54'",
     "output_type": "error",
     "traceback": [
      "\u001b[1;31m---------------------------------------------------------------------------\u001b[0m",
      "\u001b[1;31mValueError\u001b[0m                                Traceback (most recent call last)",
      "Input \u001b[1;32mIn [36]\u001b[0m, in \u001b[0;36m<cell line: 1>\u001b[1;34m()\u001b[0m\n\u001b[1;32m----> 1\u001b[0m b \u001b[38;5;241m=\u001b[39m \u001b[38;5;28;43mint\u001b[39;49m\u001b[43m(\u001b[49m\u001b[38;5;28;43minput\u001b[39;49m\u001b[43m(\u001b[49m\u001b[43m)\u001b[49m\u001b[43m)\u001b[49m\n",
      "\u001b[1;31mValueError\u001b[0m: invalid literal for int() with base 10: 'lajhsd54'"
     ]
    }
   ],
   "source": [
    "b = int(input())"
   ]
  },
  {
   "cell_type": "code",
   "execution_count": 37,
   "id": "bd837bec",
   "metadata": {},
   "outputs": [
    {
     "data": {
      "text/plain": [
       "int"
      ]
     },
     "execution_count": 37,
     "metadata": {},
     "output_type": "execute_result"
    }
   ],
   "source": [
    "type(b)"
   ]
  },
  {
   "cell_type": "code",
   "execution_count": 45,
   "id": "d9c13044",
   "metadata": {},
   "outputs": [
    {
     "name": "stdout",
     "output_type": "stream",
     "text": [
      "600\n",
      "I won't be able to buy anything with this price tag\n",
      "lets try to do something\n"
     ]
    }
   ],
   "source": [
    "price = int(input())\n",
    "if price < 500:\n",
    "    print(\"I will be able to buy something\")\n",
    "    if price  < 400 :\n",
    "        print(\"I will be able to buy a jacket\")\n",
    "    elif price < 300 :\n",
    "        print(\"I will be able to buy a shirt\")\n",
    "    else :\n",
    "        print(\"I won't be able to buy anything\")\n",
    "else :\n",
    "    print(\"I won't be able to buy anything with this price tag\")\n",
    "    if price > 500:\n",
    "        print(\"lets try to do something\")"
   ]
  },
  {
   "cell_type": "markdown",
   "id": "53c815ef",
   "metadata": {},
   "source": [
    "Hence, we can keep writing nested statements but we must keep the indentation in check."
   ]
  },
  {
   "cell_type": "code",
   "execution_count": 3,
   "id": "8383d895",
   "metadata": {},
   "outputs": [
    {
     "name": "stdout",
     "output_type": "stream",
     "text": [
      "450\n",
      "No GRE\n",
      "TOEFL\n"
     ]
    }
   ],
   "source": [
    "marks = int(input())\n",
    "if marks < 600:\n",
    "    print(\"No GRE\")\n",
    "    if marks < 500:\n",
    "        print(\"TOEFL\")\n",
    "        if marks < 400:\n",
    "            print(\"Try something else\")\n",
    "    else:\n",
    "        print(\"You got TOEFL\")\n",
    "else:\n",
    "    print(\"You got GRE Congratulations\")    "
   ]
  },
  {
   "cell_type": "code",
   "execution_count": 10,
   "id": "42c601dc",
   "metadata": {},
   "outputs": [
    {
     "name": "stdout",
     "output_type": "stream",
     "text": [
      "Enter a floating poing number:-45\n",
      "Entered number is a negative number\n"
     ]
    }
   ],
   "source": [
    "val = float(input(\"Enter a floating poing number:\"))\n",
    "if val >= 0:\n",
    "    if val == 0:\n",
    "        print(\"Value is zero\")\n",
    "    else:\n",
    "        print(\"Entered value is a positive number\")\n",
    "else:\n",
    "    print(\"Entered number is a negative number\")"
   ]
  },
  {
   "cell_type": "code",
   "execution_count": 8,
   "id": "5ed04faa",
   "metadata": {},
   "outputs": [
    {
     "name": "stdout",
     "output_type": "stream",
     "text": [
      "try to do something\n"
     ]
    }
   ],
   "source": [
    "a = 10\n",
    "if a < 10 or a == 10:\n",
    "    print(\"try to do something\")"
   ]
  },
  {
   "cell_type": "code",
   "execution_count": 12,
   "id": "fad146e0",
   "metadata": {},
   "outputs": [],
   "source": [
    "a = \"sunil\"\n",
    "if a == \"sunil\" and a == \"Sunil\":\n",
    "    print(\"This is Sunil\")"
   ]
  },
  {
   "cell_type": "code",
   "execution_count": 14,
   "id": "7886d1b8",
   "metadata": {},
   "outputs": [
    {
     "name": "stdout",
     "output_type": "stream",
     "text": [
      "lets do something\n"
     ]
    }
   ],
   "source": [
    "a = 10\n",
    "b = 11\n",
    "c = 12\n",
    "d = 13\n",
    "if a == 9 or b == 11 and c == 12 and d == 13:\n",
    "    print(\"lets do something\")"
   ]
  },
  {
   "cell_type": "code",
   "execution_count": 15,
   "id": "75400e58",
   "metadata": {},
   "outputs": [],
   "source": [
    "d = {'key1': \"value\", 'key2': \"sunil\", 'key3': \"maha\"}"
   ]
  },
  {
   "cell_type": "code",
   "execution_count": 16,
   "id": "b8bf34d3",
   "metadata": {},
   "outputs": [
    {
     "data": {
      "text/plain": [
       "{'key1': 'value', 'key2': 'sunil', 'key3': 'maha'}"
      ]
     },
     "execution_count": 16,
     "metadata": {},
     "output_type": "execute_result"
    }
   ],
   "source": [
    "d"
   ]
  },
  {
   "cell_type": "code",
   "execution_count": 20,
   "id": "ef741ab9",
   "metadata": {},
   "outputs": [
    {
     "name": "stdout",
     "output_type": "stream",
     "text": [
      "All the value are verified and the values are mentioned below\n",
      "dict_values(['value', 'sunil', 'maha'])\n"
     ]
    }
   ],
   "source": [
    "if d['key1'] == \"value\" and d['key2'] == \"sunil\" and d['key3'] == \"maha\":\n",
    "    print(\"All the value are verified and the values are mentioned below\")\n",
    "    print(d.values())\n",
    "else:\n",
    "    print(\"All the values are not verified\")"
   ]
  },
  {
   "cell_type": "code",
   "execution_count": null,
   "id": "2100ea8c",
   "metadata": {},
   "outputs": [],
   "source": []
  }
 ],
 "metadata": {
  "kernelspec": {
   "display_name": "Python 3 (ipykernel)",
   "language": "python",
   "name": "python3"
  },
  "language_info": {
   "codemirror_mode": {
    "name": "ipython",
    "version": 3
   },
   "file_extension": ".py",
   "mimetype": "text/x-python",
   "name": "python",
   "nbconvert_exporter": "python",
   "pygments_lexer": "ipython3",
   "version": "3.9.12"
  }
 },
 "nbformat": 4,
 "nbformat_minor": 5
}
