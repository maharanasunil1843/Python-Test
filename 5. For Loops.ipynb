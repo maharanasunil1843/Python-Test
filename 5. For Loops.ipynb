{
 "cells": [
  {
   "cell_type": "markdown",
   "id": "370c50e2",
   "metadata": {},
   "source": [
    "# Loops"
   ]
  },
  {
   "cell_type": "code",
   "execution_count": 8,
   "id": "b39a694b",
   "metadata": {},
   "outputs": [],
   "source": [
    "l = [1,3,4,\"sunil\", 342, 3324, 23.4]"
   ]
  },
  {
   "cell_type": "markdown",
   "id": "f27a92f8",
   "metadata": {},
   "source": [
    "# For loop"
   ]
  },
  {
   "cell_type": "code",
   "execution_count": 9,
   "id": "ecf25dcb",
   "metadata": {},
   "outputs": [
    {
     "name": "stdout",
     "output_type": "stream",
     "text": [
      "1\n",
      "3\n",
      "4\n",
      "sunil\n",
      "342\n",
      "3324\n",
      "23.4\n"
     ]
    }
   ],
   "source": [
    "for i in l:\n",
    "    print(i)"
   ]
  },
  {
   "cell_type": "code",
   "execution_count": 10,
   "id": "095a5c39",
   "metadata": {},
   "outputs": [
    {
     "name": "stdout",
     "output_type": "stream",
     "text": [
      "3324\n",
      "342\n",
      "sunil\n"
     ]
    }
   ],
   "source": [
    "for i in l[-2:-5:-1]:\n",
    "    print(i)"
   ]
  },
  {
   "cell_type": "code",
   "execution_count": 11,
   "id": "cd27d726",
   "metadata": {},
   "outputs": [
    {
     "name": "stdout",
     "output_type": "stream",
     "text": [
      "2\n",
      "4\n",
      "5\n"
     ]
    }
   ],
   "source": [
    "for i in l[0:3]:\n",
    "    print(i+1)"
   ]
  },
  {
   "cell_type": "code",
   "execution_count": 12,
   "id": "938aa7c2",
   "metadata": {},
   "outputs": [
    {
     "name": "stdout",
     "output_type": "stream",
     "text": [
      "2\n",
      "4\n",
      "5\n"
     ]
    },
    {
     "ename": "TypeError",
     "evalue": "can only concatenate str (not \"int\") to str",
     "output_type": "error",
     "traceback": [
      "\u001b[1;31m---------------------------------------------------------------------------\u001b[0m",
      "\u001b[1;31mTypeError\u001b[0m                                 Traceback (most recent call last)",
      "Input \u001b[1;32mIn [12]\u001b[0m, in \u001b[0;36m<cell line: 1>\u001b[1;34m()\u001b[0m\n\u001b[0;32m      1\u001b[0m \u001b[38;5;28;01mfor\u001b[39;00m i \u001b[38;5;129;01min\u001b[39;00m l:\n\u001b[1;32m----> 2\u001b[0m     \u001b[38;5;28mprint\u001b[39m(\u001b[43mi\u001b[49m\u001b[38;5;241;43m+\u001b[39;49m\u001b[38;5;241;43m1\u001b[39;49m)\n",
      "\u001b[1;31mTypeError\u001b[0m: can only concatenate str (not \"int\") to str"
     ]
    }
   ],
   "source": [
    "for i in l:\n",
    "    print(i+1)"
   ]
  },
  {
   "cell_type": "code",
   "execution_count": 13,
   "id": "577ab1c1",
   "metadata": {},
   "outputs": [
    {
     "name": "stdout",
     "output_type": "stream",
     "text": [
      "2\n",
      "4\n",
      "5\n",
      "sunil1\n",
      "343\n",
      "3325\n",
      "24.4\n"
     ]
    }
   ],
   "source": [
    "for i in l:\n",
    "    if type(i) == int or type(i) == float:\n",
    "        print(i+1)\n",
    "    elif type(i) == str:\n",
    "        print(i + str(1))"
   ]
  },
  {
   "cell_type": "code",
   "execution_count": 14,
   "id": "e750d20c",
   "metadata": {},
   "outputs": [
    {
     "data": {
      "text/plain": [
       "[1, 3, 4, 'sunil', 342, 3324, 23.4]"
      ]
     },
     "execution_count": 14,
     "metadata": {},
     "output_type": "execute_result"
    }
   ],
   "source": [
    "l"
   ]
  },
  {
   "cell_type": "code",
   "execution_count": 20,
   "id": "8d7f50b8",
   "metadata": {},
   "outputs": [
    {
     "name": "stdout",
     "output_type": "stream",
     "text": [
      "[1, 3, 4, 342, 3324, 23.4]\n"
     ]
    }
   ],
   "source": [
    "l1 = []\n",
    "for i in l:\n",
    "    if type(i) == int or type(i) == float:\n",
    "        l1.append(i)\n",
    "print(l1)"
   ]
  },
  {
   "cell_type": "code",
   "execution_count": 21,
   "id": "fb8a51ca",
   "metadata": {},
   "outputs": [
    {
     "data": {
      "text/plain": [
       "[1, 3, 4, 342, 3324, 23.4]"
      ]
     },
     "execution_count": 21,
     "metadata": {},
     "output_type": "execute_result"
    }
   ],
   "source": [
    "l1"
   ]
  },
  {
   "cell_type": "code",
   "execution_count": 1,
   "id": "2413d88e",
   "metadata": {},
   "outputs": [
    {
     "ename": "NameError",
     "evalue": "name 'l' is not defined",
     "output_type": "error",
     "traceback": [
      "\u001b[1;31m---------------------------------------------------------------------------\u001b[0m",
      "\u001b[1;31mNameError\u001b[0m                                 Traceback (most recent call last)",
      "Input \u001b[1;32mIn [1]\u001b[0m, in \u001b[0;36m<cell line: 1>\u001b[1;34m()\u001b[0m\n\u001b[1;32m----> 1\u001b[0m \u001b[43ml\u001b[49m\n",
      "\u001b[1;31mNameError\u001b[0m: name 'l' is not defined"
     ]
    }
   ],
   "source": [
    "l"
   ]
  },
  {
   "cell_type": "code",
   "execution_count": 2,
   "id": "ee79c09d",
   "metadata": {},
   "outputs": [
    {
     "ename": "NameError",
     "evalue": "name 'l1' is not defined",
     "output_type": "error",
     "traceback": [
      "\u001b[1;31m---------------------------------------------------------------------------\u001b[0m",
      "\u001b[1;31mNameError\u001b[0m                                 Traceback (most recent call last)",
      "Input \u001b[1;32mIn [2]\u001b[0m, in \u001b[0;36m<cell line: 1>\u001b[1;34m()\u001b[0m\n\u001b[1;32m----> 1\u001b[0m \u001b[43ml1\u001b[49m\n",
      "\u001b[1;31mNameError\u001b[0m: name 'l1' is not defined"
     ]
    }
   ],
   "source": [
    "l1"
   ]
  },
  {
   "cell_type": "code",
   "execution_count": 3,
   "id": "5ee34f31",
   "metadata": {},
   "outputs": [],
   "source": [
    "l = [1,2,3,4,\"sunil\",\"maha\", 45.58]"
   ]
  },
  {
   "cell_type": "code",
   "execution_count": 4,
   "id": "78daeb29",
   "metadata": {},
   "outputs": [
    {
     "name": "stdout",
     "output_type": "stream",
     "text": [
      "1\n",
      "2\n",
      "3\n",
      "4\n",
      "sunil\n",
      "maha\n",
      "45.58\n"
     ]
    }
   ],
   "source": [
    "for i in l:\n",
    "    print(i)"
   ]
  },
  {
   "cell_type": "code",
   "execution_count": 6,
   "id": "3922037b",
   "metadata": {},
   "outputs": [
    {
     "name": "stdout",
     "output_type": "stream",
     "text": [
      "[1, 2, 3, 4, 'sunil', 'maha', 45.58]\n",
      "[1, 2, 3, 4, 'sunil', 'maha', 45.58]\n",
      "[1, 2, 3, 4, 'sunil', 'maha', 45.58]\n",
      "[1, 2, 3, 4, 'sunil', 'maha', 45.58]\n",
      "[1, 2, 3, 4, 'sunil', 'maha', 45.58]\n",
      "[1, 2, 3, 4, 'sunil', 'maha', 45.58]\n",
      "[1, 2, 3, 4, 'sunil', 'maha', 45.58]\n"
     ]
    }
   ],
   "source": [
    "for i in l:\n",
    "    print (l)"
   ]
  },
  {
   "cell_type": "code",
   "execution_count": 9,
   "id": "64929ae0",
   "metadata": {},
   "outputs": [
    {
     "ename": "IndentationError",
     "evalue": "expected an indented block (1525633252.py, line 2)",
     "output_type": "error",
     "traceback": [
      "\u001b[1;36m  Input \u001b[1;32mIn [9]\u001b[1;36m\u001b[0m\n\u001b[1;33m    \u001b[0m\n\u001b[1;37m    ^\u001b[0m\n\u001b[1;31mIndentationError\u001b[0m\u001b[1;31m:\u001b[0m expected an indented block\n"
     ]
    }
   ],
   "source": [
    "for i in l:\n",
    "    "
   ]
  },
  {
   "cell_type": "code",
   "execution_count": 10,
   "id": "aa0fb42f",
   "metadata": {},
   "outputs": [],
   "source": [
    "for i in l:\n",
    "    pass"
   ]
  },
  {
   "cell_type": "markdown",
   "id": "6c771981",
   "metadata": {},
   "source": [
    "If we are not going to mention a body part, we can ignore the error by using \"pass\"."
   ]
  },
  {
   "cell_type": "code",
   "execution_count": 16,
   "id": "94e52bbf",
   "metadata": {},
   "outputs": [
    {
     "data": {
      "text/plain": [
       "str"
      ]
     },
     "execution_count": 16,
     "metadata": {},
     "output_type": "execute_result"
    }
   ],
   "source": [
    "type(i)"
   ]
  },
  {
   "cell_type": "code",
   "execution_count": 11,
   "id": "494f808a",
   "metadata": {},
   "outputs": [],
   "source": [
    "s = \"sunil\""
   ]
  },
  {
   "cell_type": "code",
   "execution_count": 12,
   "id": "5538e50c",
   "metadata": {},
   "outputs": [
    {
     "data": {
      "text/plain": [
       "'sunil'"
      ]
     },
     "execution_count": 12,
     "metadata": {},
     "output_type": "execute_result"
    }
   ],
   "source": [
    "s"
   ]
  },
  {
   "cell_type": "code",
   "execution_count": 13,
   "id": "5249c4b7",
   "metadata": {},
   "outputs": [
    {
     "data": {
      "text/plain": [
       "str"
      ]
     },
     "execution_count": 13,
     "metadata": {},
     "output_type": "execute_result"
    }
   ],
   "source": [
    "type(s)"
   ]
  },
  {
   "cell_type": "code",
   "execution_count": 14,
   "id": "4935dbd1",
   "metadata": {},
   "outputs": [
    {
     "name": "stdout",
     "output_type": "stream",
     "text": [
      "s\n",
      "u\n",
      "n\n",
      "i\n",
      "l\n"
     ]
    }
   ],
   "source": [
    "for i in s:\n",
    "    print(i)"
   ]
  },
  {
   "cell_type": "code",
   "execution_count": 15,
   "id": "9e265685",
   "metadata": {},
   "outputs": [
    {
     "data": {
      "text/plain": [
       "str"
      ]
     },
     "execution_count": 15,
     "metadata": {},
     "output_type": "execute_result"
    }
   ],
   "source": [
    "type(i)"
   ]
  },
  {
   "cell_type": "markdown",
   "id": "66da2844",
   "metadata": {},
   "source": [
    "i is local variable."
   ]
  },
  {
   "cell_type": "code",
   "execution_count": 20,
   "id": "7835dad8",
   "metadata": {},
   "outputs": [
    {
     "name": "stdout",
     "output_type": "stream",
     "text": [
      "[1, 2, 3, 4, 'sunil', 'maha', 45.58]\n",
      "1\n",
      "2\n",
      "3\n",
      "4\n",
      "sunil\n",
      "maha\n",
      "45.58\n",
      "If for loop is going to complete itself then it will execute else\n"
     ]
    }
   ],
   "source": [
    "print(l)\n",
    "for i in l:\n",
    "    print(i)\n",
    "else :\n",
    "    print(\"If for loop is going to complete itself then it will execute else\")"
   ]
  },
  {
   "cell_type": "markdown",
   "id": "3932cdf6",
   "metadata": {},
   "source": [
    "We can use else in loops only in python."
   ]
  },
  {
   "cell_type": "code",
   "execution_count": 21,
   "id": "293be0bc",
   "metadata": {},
   "outputs": [
    {
     "name": "stdout",
     "output_type": "stream",
     "text": [
      "[1, 2, 3, 4, 'sunil', 'maha', 45.58]\n",
      "1\n",
      "2\n",
      "3\n"
     ]
    }
   ],
   "source": [
    "print(l)\n",
    "for i in l:\n",
    "    if i == 4:\n",
    "        break\n",
    "    print(i)\n",
    "else:\n",
    "    print(\"this will execute only if for is going to complete itself\")"
   ]
  },
  {
   "cell_type": "code",
   "execution_count": 27,
   "id": "20c32455",
   "metadata": {},
   "outputs": [
    {
     "name": "stdout",
     "output_type": "stream",
     "text": [
      "[1, 2, 3, 4, 'sunil', 'maha', 45.58]\n",
      "1\n",
      "2\n",
      "3\n",
      "4\n"
     ]
    }
   ],
   "source": [
    "print(l)\n",
    "for i in l:\n",
    "    if type(i) != int and type(i) != float:\n",
    "        break\n",
    "    print(i)\n",
    "else:\n",
    "    print(\"this will execute only if for is going to complete itself\")"
   ]
  },
  {
   "cell_type": "markdown",
   "id": "e6bfc5da",
   "metadata": {},
   "source": [
    "break is a reserverd variable in python to break out from the loop."
   ]
  },
  {
   "cell_type": "code",
   "execution_count": 34,
   "id": "a7742f96",
   "metadata": {},
   "outputs": [
    {
     "name": "stdout",
     "output_type": "stream",
     "text": [
      "m\n"
     ]
    }
   ],
   "source": [
    "s = \"maharana\"\n",
    "for a in s:\n",
    "    if a == 'a':\n",
    "        break\n",
    "    print(a)\n",
    "else:\n",
    "    print(\"Printing string:\", s)"
   ]
  },
  {
   "cell_type": "code",
   "execution_count": 35,
   "id": "737bb2e2",
   "metadata": {},
   "outputs": [
    {
     "name": "stdout",
     "output_type": "stream",
     "text": [
      "m\n",
      "a\n",
      "h\n",
      "a\n",
      "r\n",
      "a\n",
      "n\n",
      "a\n",
      "Printing string: maharana\n"
     ]
    }
   ],
   "source": [
    "s = \"maharana\"\n",
    "for a in s:\n",
    "    if a == 'z':\n",
    "        break\n",
    "    print(a)\n",
    "else:\n",
    "    print(\"Printing string:\", s)"
   ]
  },
  {
   "cell_type": "code",
   "execution_count": 36,
   "id": "97fd5d20",
   "metadata": {},
   "outputs": [
    {
     "name": "stdout",
     "output_type": "stream",
     "text": [
      "4\n",
      "5\n",
      "6\n",
      "7\n",
      "8\n",
      "6\n",
      "sunil\n"
     ]
    }
   ],
   "source": [
    "t = (4,5,6,7,8,6,\"sunil\")\n",
    "for i in t:\n",
    "    print(i)"
   ]
  },
  {
   "cell_type": "code",
   "execution_count": 37,
   "id": "a96503a2",
   "metadata": {},
   "outputs": [],
   "source": [
    "s1 = {4,5,6,6,7,4,3,3,3,5,6,7,4,\"sunil\"}"
   ]
  },
  {
   "cell_type": "code",
   "execution_count": 38,
   "id": "1885b6c7",
   "metadata": {},
   "outputs": [
    {
     "data": {
      "text/plain": [
       "{3, 4, 5, 6, 7, 'sunil'}"
      ]
     },
     "execution_count": 38,
     "metadata": {},
     "output_type": "execute_result"
    }
   ],
   "source": [
    "s1"
   ]
  },
  {
   "cell_type": "code",
   "execution_count": 39,
   "id": "af8db9ad",
   "metadata": {},
   "outputs": [
    {
     "data": {
      "text/plain": [
       "set"
      ]
     },
     "execution_count": 39,
     "metadata": {},
     "output_type": "execute_result"
    }
   ],
   "source": [
    "type(s1)"
   ]
  },
  {
   "cell_type": "code",
   "execution_count": 40,
   "id": "f4267d8d",
   "metadata": {},
   "outputs": [
    {
     "name": "stdout",
     "output_type": "stream",
     "text": [
      "3\n",
      "4\n",
      "5\n",
      "6\n",
      "7\n",
      "sunil\n"
     ]
    }
   ],
   "source": [
    "for i in s1:\n",
    "    print(i)"
   ]
  },
  {
   "cell_type": "markdown",
   "id": "b2457988",
   "metadata": {},
   "source": [
    "Eventhough the data is arranged randomly in set, for loop can even extract data one by one from that also."
   ]
  },
  {
   "cell_type": "code",
   "execution_count": 42,
   "id": "735c3ecd",
   "metadata": {},
   "outputs": [],
   "source": [
    "d = {'key1': \"sunil\", 'contact': \"maharanasunil1843@gmail.com\", 'position': \"xyz\"}"
   ]
  },
  {
   "cell_type": "code",
   "execution_count": 43,
   "id": "ecf7b525",
   "metadata": {},
   "outputs": [
    {
     "data": {
      "text/plain": [
       "{'key1': 'sunil', 'contact': 'maharanasunil1843@gmail.com', 'position': 'xyz'}"
      ]
     },
     "execution_count": 43,
     "metadata": {},
     "output_type": "execute_result"
    }
   ],
   "source": [
    "d"
   ]
  },
  {
   "cell_type": "code",
   "execution_count": 46,
   "id": "57e6581f",
   "metadata": {},
   "outputs": [
    {
     "name": "stdout",
     "output_type": "stream",
     "text": [
      "key1\n",
      "contact\n",
      "position\n"
     ]
    }
   ],
   "source": [
    "for i in d:\n",
    "    print(i)"
   ]
  },
  {
   "cell_type": "markdown",
   "id": "7f6ccc1b",
   "metadata": {},
   "source": [
    "Hence, in default, it is only extracting keys."
   ]
  },
  {
   "cell_type": "code",
   "execution_count": 48,
   "id": "aa66172a",
   "metadata": {},
   "outputs": [
    {
     "name": "stdout",
     "output_type": "stream",
     "text": [
      "sunil\n",
      "maharanasunil1843@gmail.com\n",
      "xyz\n"
     ]
    }
   ],
   "source": [
    "for i in d.values():\n",
    "    print(i)"
   ]
  },
  {
   "cell_type": "code",
   "execution_count": 52,
   "id": "094a7a16",
   "metadata": {},
   "outputs": [
    {
     "name": "stdout",
     "output_type": "stream",
     "text": [
      "key1 sunil\n",
      "contact maharanasunil1843@gmail.com\n",
      "position xyz\n"
     ]
    }
   ],
   "source": [
    "for i in d:\n",
    "    print(i, d[i])"
   ]
  },
  {
   "cell_type": "code",
   "execution_count": 53,
   "id": "b1705448",
   "metadata": {},
   "outputs": [
    {
     "data": {
      "text/plain": [
       "'sunil'"
      ]
     },
     "execution_count": 53,
     "metadata": {},
     "output_type": "execute_result"
    }
   ],
   "source": [
    "d['key1']"
   ]
  },
  {
   "cell_type": "markdown",
   "id": "7577f785",
   "metadata": {},
   "source": [
    "Hence, d[i] is extracting values."
   ]
  },
  {
   "cell_type": "markdown",
   "id": "a39792f5",
   "metadata": {},
   "source": [
    "Range is an inbulit function to generate data. In defalut, it generates data excluding the upper bound. "
   ]
  },
  {
   "cell_type": "code",
   "execution_count": 54,
   "id": "01c2d7d2",
   "metadata": {},
   "outputs": [
    {
     "data": {
      "text/plain": [
       "range(0, 9)"
      ]
     },
     "execution_count": 54,
     "metadata": {},
     "output_type": "execute_result"
    }
   ],
   "source": [
    "range(9)"
   ]
  },
  {
   "cell_type": "code",
   "execution_count": 55,
   "id": "80bfa6f0",
   "metadata": {},
   "outputs": [
    {
     "data": {
      "text/plain": [
       "[0, 1, 2, 3, 4, 5, 6, 7, 8]"
      ]
     },
     "execution_count": 55,
     "metadata": {},
     "output_type": "execute_result"
    }
   ],
   "source": [
    "list(range(9))"
   ]
  },
  {
   "cell_type": "markdown",
   "id": "bce13bf8",
   "metadata": {},
   "source": [
    "We have enclosed it within a list to get the dataset instead an object."
   ]
  },
  {
   "cell_type": "code",
   "execution_count": 56,
   "id": "df8c352a",
   "metadata": {},
   "outputs": [
    {
     "name": "stdout",
     "output_type": "stream",
     "text": [
      "0\n",
      "1\n",
      "2\n",
      "3\n",
      "4\n",
      "5\n",
      "6\n",
      "7\n",
      "8\n"
     ]
    }
   ],
   "source": [
    "for i in range(9):\n",
    "    print(i)"
   ]
  },
  {
   "cell_type": "code",
   "execution_count": 59,
   "id": "9b559ef7",
   "metadata": {},
   "outputs": [
    {
     "data": {
      "text/plain": [
       "[4, 6, 8, 10, 12, 14, 16, 18]"
      ]
     },
     "execution_count": 59,
     "metadata": {},
     "output_type": "execute_result"
    }
   ],
   "source": [
    "#We can even mention upper and lower bound and step size in range.\n",
    "list(range(4,20,2))"
   ]
  },
  {
   "cell_type": "code",
   "execution_count": 60,
   "id": "86b232f6",
   "metadata": {},
   "outputs": [
    {
     "data": {
      "text/plain": [
       "[]"
      ]
     },
     "execution_count": 60,
     "metadata": {},
     "output_type": "execute_result"
    }
   ],
   "source": [
    "list(range(4,20,-2))"
   ]
  },
  {
   "cell_type": "markdown",
   "id": "9dddab57",
   "metadata": {},
   "source": [
    "It is giving blank because of the scaling concept."
   ]
  },
  {
   "cell_type": "code",
   "execution_count": 61,
   "id": "3f45a264",
   "metadata": {},
   "outputs": [
    {
     "data": {
      "text/plain": [
       "[20, 18, 16, 14, 12, 10, 8, 6]"
      ]
     },
     "execution_count": 61,
     "metadata": {},
     "output_type": "execute_result"
    }
   ],
   "source": [
    "#Regular indexing functions can be done in range function to generate data as per the requirement.\n",
    "list(range(20,4,-2))"
   ]
  },
  {
   "cell_type": "code",
   "execution_count": 70,
   "id": "1b12a32e",
   "metadata": {},
   "outputs": [
    {
     "name": "stdout",
     "output_type": "stream",
     "text": [
      "sunil \n",
      "\n",
      "sunil sunil \n",
      "\n",
      "sunil sunil sunil \n",
      "\n",
      "sunil sunil sunil sunil \n",
      "\n"
     ]
    }
   ],
   "source": [
    "n = 4\n",
    "for i in range(4):\n",
    "    for j in range(0,i+1):\n",
    "        print(\"sunil\", end = \" \")\n",
    "    print(\"\\n\")"
   ]
  },
  {
   "cell_type": "code",
   "execution_count": 72,
   "id": "bcc204b1",
   "metadata": {},
   "outputs": [
    {
     "ename": "SyntaxError",
     "evalue": "positional argument follows keyword argument (3955887332.py, line 4)",
     "output_type": "error",
     "traceback": [
      "\u001b[1;36m  Input \u001b[1;32mIn [72]\u001b[1;36m\u001b[0m\n\u001b[1;33m    print(end = \" \", \"sunil\")\u001b[0m\n\u001b[1;37m                            ^\u001b[0m\n\u001b[1;31mSyntaxError\u001b[0m\u001b[1;31m:\u001b[0m positional argument follows keyword argument\n"
     ]
    }
   ],
   "source": [
    "n = 3\n",
    "for i in range(3):\n",
    "    for j in range(0, i+1):\n",
    "        print()\n",
    "    print(\"\\n\")"
   ]
  },
  {
   "cell_type": "code",
   "execution_count": 73,
   "id": "ef005408",
   "metadata": {},
   "outputs": [
    {
     "data": {
      "text/plain": [
       "[0, 1, 2, 3, 4, 5]"
      ]
     },
     "execution_count": 73,
     "metadata": {},
     "output_type": "execute_result"
    }
   ],
   "source": [
    "list(range(6))"
   ]
  },
  {
   "cell_type": "code",
   "execution_count": 79,
   "id": "624296a9",
   "metadata": {},
   "outputs": [
    {
     "name": "stdout",
     "output_type": "stream",
     "text": [
      "0 1 2 3 4 5 "
     ]
    }
   ],
   "source": [
    "for i in range(6):\n",
    "    print(i, end = \" \")"
   ]
  },
  {
   "cell_type": "code",
   "execution_count": 75,
   "id": "fe812954",
   "metadata": {},
   "outputs": [
    {
     "name": "stdout",
     "output_type": "stream",
     "text": [
      "0\n",
      "1\n",
      "2\n",
      "3\n",
      "4\n",
      "5\n"
     ]
    }
   ],
   "source": [
    "for i in range(6):\n",
    "    print(i)"
   ]
  },
  {
   "cell_type": "code",
   "execution_count": 76,
   "id": "76097aea",
   "metadata": {},
   "outputs": [
    {
     "data": {
      "text/plain": [
       "range(0, 6)"
      ]
     },
     "execution_count": 76,
     "metadata": {},
     "output_type": "execute_result"
    }
   ],
   "source": [
    "range(6)"
   ]
  },
  {
   "cell_type": "code",
   "execution_count": 77,
   "id": "838581e7",
   "metadata": {},
   "outputs": [],
   "source": [
    "#range(6) returns object while list(rang(6)) returns a database."
   ]
  },
  {
   "cell_type": "code",
   "execution_count": 80,
   "id": "20176005",
   "metadata": {},
   "outputs": [],
   "source": [
    "t = (3,23,45,67,2,3,4,5,6)"
   ]
  },
  {
   "cell_type": "code",
   "execution_count": 81,
   "id": "59dd5d95",
   "metadata": {},
   "outputs": [
    {
     "name": "stdout",
     "output_type": "stream",
     "text": [
      "0 3\n",
      "1 23\n",
      "2 45\n",
      "3 67\n",
      "4 2\n",
      "0 3\n",
      "6 4\n",
      "7 5\n",
      "8 6\n"
     ]
    }
   ],
   "source": [
    "for i in t:\n",
    "    print(t.index(i), i)"
   ]
  },
  {
   "cell_type": "code",
   "execution_count": 83,
   "id": "2528a3b7",
   "metadata": {},
   "outputs": [
    {
     "name": "stdout",
     "output_type": "stream",
     "text": [
      "0 3\n",
      "1 23\n",
      "2 45\n",
      "3 67\n",
      "4 2\n",
      "5 3\n",
      "6 4\n",
      "7 5\n",
      "8 6\n"
     ]
    }
   ],
   "source": [
    "for i in range(len(t)):\n",
    "    print(i, t[i])"
   ]
  },
  {
   "cell_type": "code",
   "execution_count": 84,
   "id": "096e203d",
   "metadata": {},
   "outputs": [],
   "source": [
    "s = \"maharana\""
   ]
  },
  {
   "cell_type": "code",
   "execution_count": 87,
   "id": "cda0d884",
   "metadata": {},
   "outputs": [
    {
     "name": "stdout",
     "output_type": "stream",
     "text": [
      "0 m\n",
      "1 a\n",
      "2 h\n",
      "3 a\n",
      "4 r\n",
      "5 a\n",
      "6 n\n",
      "7 a\n"
     ]
    }
   ],
   "source": [
    "for i in range(len(s)):\n",
    "    print(i, s[i])"
   ]
  },
  {
   "cell_type": "code",
   "execution_count": 98,
   "id": "537d237c",
   "metadata": {},
   "outputs": [
    {
     "data": {
      "text/plain": [
       "[7, 6, 5, 4, 3, 2, 1, 0]"
      ]
     },
     "execution_count": 98,
     "metadata": {},
     "output_type": "execute_result"
    }
   ],
   "source": [
    "list(range(len(s)-1, -1, -1))"
   ]
  },
  {
   "cell_type": "code",
   "execution_count": 99,
   "id": "d58ad8d7",
   "metadata": {},
   "outputs": [
    {
     "name": "stdout",
     "output_type": "stream",
     "text": [
      "7 a\n",
      "6 n\n",
      "5 a\n",
      "4 r\n",
      "3 a\n",
      "2 h\n",
      "1 a\n",
      "0 m\n"
     ]
    }
   ],
   "source": [
    "for i in range(len(s)-1, -1, -1):\n",
    "    print(i, s[i])"
   ]
  },
  {
   "cell_type": "code",
   "execution_count": 100,
   "id": "06319e1c",
   "metadata": {},
   "outputs": [
    {
     "data": {
      "text/plain": [
       "{'key1': 'sunil', 'contact': 'maharanasunil1843@gmail.com', 'position': 'xyz'}"
      ]
     },
     "execution_count": 100,
     "metadata": {},
     "output_type": "execute_result"
    }
   ],
   "source": [
    "d"
   ]
  },
  {
   "cell_type": "code",
   "execution_count": 102,
   "id": "e5b705f5",
   "metadata": {},
   "outputs": [
    {
     "data": {
      "text/plain": [
       "dict_items([('key1', 'sunil'), ('contact', 'maharanasunil1843@gmail.com'), ('position', 'xyz')])"
      ]
     },
     "execution_count": 102,
     "metadata": {},
     "output_type": "execute_result"
    }
   ],
   "source": [
    "d.items()"
   ]
  },
  {
   "cell_type": "code",
   "execution_count": 105,
   "id": "6e8aaa54",
   "metadata": {},
   "outputs": [
    {
     "name": "stdout",
     "output_type": "stream",
     "text": [
      "('key1', 'sunil') <class 'tuple'> <class 'str'> <class 'str'>\n",
      "('contact', 'maharanasunil1843@gmail.com') <class 'tuple'> <class 'str'> <class 'str'>\n",
      "('position', 'xyz') <class 'tuple'> <class 'str'> <class 'str'>\n"
     ]
    }
   ],
   "source": [
    "for i in d.items():\n",
    "    print(i, type(i), type(i[0]), type(i[1]))"
   ]
  },
  {
   "cell_type": "code",
   "execution_count": 108,
   "id": "677c2e2f",
   "metadata": {},
   "outputs": [],
   "source": [
    "l = [\"sunil\", \"maha\", 24493, \"maharanasunil1843\", 345, 443747]\n",
    "l1 = []"
   ]
  },
  {
   "cell_type": "code",
   "execution_count": 120,
   "id": "428be0c2",
   "metadata": {},
   "outputs": [],
   "source": [
    "for i in l:\n",
    "    if type(i) == int:\n",
    "        l1.append(i)"
   ]
  },
  {
   "cell_type": "code",
   "execution_count": 121,
   "id": "d4314155",
   "metadata": {},
   "outputs": [
    {
     "data": {
      "text/plain": [
       "[24493,\n",
       " 345,\n",
       " 443747,\n",
       " 24493,\n",
       " 345,\n",
       " 443747,\n",
       " 24493,\n",
       " 345,\n",
       " 443747,\n",
       " 24493,\n",
       " 345,\n",
       " 443747,\n",
       " 24493,\n",
       " 345,\n",
       " 443747,\n",
       " 24493,\n",
       " 345,\n",
       " 443747,\n",
       " 24493,\n",
       " 345,\n",
       " 443747,\n",
       " 24493,\n",
       " 24493,\n",
       " 345,\n",
       " 443747]"
      ]
     },
     "execution_count": 121,
     "metadata": {},
     "output_type": "execute_result"
    }
   ],
   "source": [
    "l1"
   ]
  },
  {
   "cell_type": "code",
   "execution_count": 127,
   "id": "858f5928",
   "metadata": {},
   "outputs": [],
   "source": [
    "d = {1 : 33235, 'name' : \"sunil\", \"email_id\": \"mahasuni18\", 234: \"aljhr\", \"232\": \"sldjfh\", 2232: \"ljahdf\"}"
   ]
  },
  {
   "cell_type": "code",
   "execution_count": 129,
   "id": "3ae3060c",
   "metadata": {},
   "outputs": [
    {
     "name": "stdout",
     "output_type": "stream",
     "text": [
      "1 : 33235\n",
      "234 : aljhr\n",
      "2232 : ljahdf\n"
     ]
    }
   ],
   "source": [
    "for i in d:\n",
    "    if type(i) == int:\n",
    "        print(i, \":\", d[i])"
   ]
  },
  {
   "cell_type": "code",
   "execution_count": 137,
   "id": "8557fd64",
   "metadata": {},
   "outputs": [
    {
     "name": "stdout",
     "output_type": "stream",
     "text": [
      "a : 4\n",
      "d : 2\n",
      "c : 3\n",
      "b : 2\n"
     ]
    }
   ],
   "source": [
    "s = \"aaaabbcccdd\"\n",
    "for i in set(s):\n",
    "    print(i, \":\", s.count(i))"
   ]
  },
  {
   "cell_type": "code",
   "execution_count": 136,
   "id": "11ff19c2",
   "metadata": {},
   "outputs": [
    {
     "data": {
      "text/plain": [
       "4"
      ]
     },
     "execution_count": 136,
     "metadata": {},
     "output_type": "execute_result"
    }
   ],
   "source": [
    "s.count('a')"
   ]
  },
  {
   "cell_type": "code",
   "execution_count": 146,
   "id": "abbc8338",
   "metadata": {},
   "outputs": [
    {
     "name": "stdout",
     "output_type": "stream",
     "text": [
      "3 <class 'int'>\n",
      "4 <class 'int'>\n",
      "5 <class 'int'>\n",
      "3 <class 'int'>\n",
      "8 <class 'int'>\n",
      "4 <class 'int'>\n",
      "7 <class 'int'>\n",
      "5 <class 'int'>\n",
      "3 <class 'int'>\n",
      "8 <class 'int'>\n",
      "4 <class 'int'>\n",
      "7 <class 'int'>\n",
      "4 <class 'int'>\n",
      "6 <class 'int'>\n"
     ]
    }
   ],
   "source": [
    "i = 34538475384746\n",
    "for j in str(i):\n",
    "    print(int(j), type(int(j)))"
   ]
  },
  {
   "cell_type": "code",
   "execution_count": 144,
   "id": "7d8e4779",
   "metadata": {},
   "outputs": [
    {
     "data": {
      "text/plain": [
       "'34538475384746'"
      ]
     },
     "execution_count": 144,
     "metadata": {},
     "output_type": "execute_result"
    }
   ],
   "source": [
    "str(i)"
   ]
  },
  {
   "cell_type": "code",
   "execution_count": 154,
   "id": "367b18d4",
   "metadata": {},
   "outputs": [],
   "source": [
    "t = (\"sunil\", \"maharana\", [1,2,3,4,5], (3,4,5,6), {3: 3, 'key3': \"maharana\"})"
   ]
  },
  {
   "cell_type": "code",
   "execution_count": 155,
   "id": "fc17a268",
   "metadata": {},
   "outputs": [
    {
     "data": {
      "text/plain": [
       "('sunil',\n",
       " 'maharana',\n",
       " [1, 2, 3, 4, 5],\n",
       " (3, 4, 5, 6),\n",
       " {3: 3, 'key3': 'maharana'})"
      ]
     },
     "execution_count": 155,
     "metadata": {},
     "output_type": "execute_result"
    }
   ],
   "source": [
    "t"
   ]
  },
  {
   "cell_type": "code",
   "execution_count": 157,
   "id": "5bc179fd",
   "metadata": {},
   "outputs": [
    {
     "name": "stdout",
     "output_type": "stream",
     "text": [
      "3\n",
      "3\n",
      "3\n"
     ]
    }
   ],
   "source": [
    "for i in t:\n",
    "    for j in i:\n",
    "        if type(j) == int:\n",
    "            if j == 3:\n",
    "                print(j)\n",
    "                "
   ]
  },
  {
   "cell_type": "code",
   "execution_count": 162,
   "id": "9a34e90a",
   "metadata": {},
   "outputs": [
    {
     "name": "stdout",
     "output_type": "stream",
     "text": [
      "3\n",
      "3\n",
      "3\n",
      "3\n"
     ]
    }
   ],
   "source": [
    "for i in t:\n",
    "    if type(i) == list or type(i) == tuple:\n",
    "        for j in i:\n",
    "            if j == 3:\n",
    "                print(j)\n",
    "    if type(i) == dict:\n",
    "        for k,v in i.items():\n",
    "            if k == 3 or v == 3:\n",
    "                print(k)\n",
    "                print(v)"
   ]
  },
  {
   "cell_type": "code",
   "execution_count": 161,
   "id": "5f4a758a",
   "metadata": {},
   "outputs": [
    {
     "data": {
      "text/plain": [
       "dict_items([(1, 33235), ('name', 'sunil'), ('email_id', 'mahasuni18'), (234, 'aljhr'), ('232', 'sldjfh'), (2232, 'ljahdf')])"
      ]
     },
     "execution_count": 161,
     "metadata": {},
     "output_type": "execute_result"
    }
   ],
   "source": [
    "d.items()\n",
    "#It is will provide list of tuples of key and value"
   ]
  },
  {
   "cell_type": "code",
   "execution_count": 165,
   "id": "50f6987e",
   "metadata": {},
   "outputs": [
    {
     "data": {
      "text/plain": [
       "dict_items([(4, 5), ('key1', 'sunil'), ('key2', 'maharana')])"
      ]
     },
     "execution_count": 165,
     "metadata": {},
     "output_type": "execute_result"
    }
   ],
   "source": [
    "d = {4:5, 'key1': 'sunil', 'key2': 'maharana'}\n",
    "d.items()"
   ]
  },
  {
   "cell_type": "code",
   "execution_count": 164,
   "id": "5f83d1f9",
   "metadata": {},
   "outputs": [
    {
     "name": "stdout",
     "output_type": "stream",
     "text": [
      "(4, 5)\n",
      "('key1', 'sunil')\n",
      "('key2', 'maharana')\n"
     ]
    }
   ],
   "source": [
    "for i,j in d.items():\n",
    "    "
   ]
  },
  {
   "cell_type": "code",
   "execution_count": null,
   "id": "ac5660c6",
   "metadata": {},
   "outputs": [],
   "source": [
    "q1 :\n",
    "ineruon \n",
    "ineruon ineruon \n",
    "ineruon ineruon ineruon\n",
    "ineruon ineruon ineruon ineruon\n",
    "\n",
    "q2 - \n",
    "\n",
    "          ineruon\n",
    "    ineruon      ineruon\n",
    "ineruon\t\tineruon \tineruon\n",
    "\tineruon\t\t ineruon\n",
    "\t\t  ineruon\n",
    "\n",
    "l = [[1,2,3,4] , (2,3,4,5,6) , (3,4,5,6,7) , set([23,4,5,45,4,4,5,45,45,4,5]) , {'k1' :\"sudh\" , \"k2\" : \"ineuron\",\"k3\":\n",
    "            \"kumar\" , 3:6 , 7:8} , [\"ineuron\" , \"data science \"]]\n",
    "\n",
    "q3 : Try to extract all the list entity \n",
    "q4 : Try to extract all the dict enteties\n",
    "q5 : Try to extract all the tuples entities\n",
    "q6 : Try to extract all the numerical data it may b a part of dict key and values \n",
    "q7 : Try to give summation of all the numeric data \n",
    "q8 : Try to filter out all the odd values out all numeric data which is a part of a list \n",
    "q9 : Try to extract \"ineruon\" out of this data\n",
    "q10 :Try to find out a number of occurances of all the data \n",
    "q11 : Try to find out number of keys in dict element\n",
    "q12 : Try to filter out all the string data \n",
    "q13 : Try to Find  out alphanum in data\n",
    "q14 : Try to find out multiplication of all numeric value in  the individual collection inside dataset \n",
    "q15 : Try to unwrape all the collection inside collection and create a flat list \n",
    "    \n",
    "    \n",
    "before 29th may 2022 3 PM IST you have to send an answer to me or to shivan \n",
    "sudhanshu@ineuron.ai\n",
    "shivan@ineuron.ai"
   ]
  },
  {
   "cell_type": "code",
   "execution_count": 1,
   "id": "48370b86",
   "metadata": {},
   "outputs": [
    {
     "name": "stdout",
     "output_type": "stream",
     "text": [
      "ineuron \n",
      "\n",
      "ineuron ineuron \n",
      "\n",
      "ineuron ineuron ineuron \n",
      "\n",
      "ineuron ineuron ineuron ineuron \n",
      "\n"
     ]
    }
   ],
   "source": [
    "for i in range(4):\n",
    "    for j in range(0, i+1):\n",
    "        print(\"ineuron\", end = \" \")\n",
    "    print(\"\\n\")"
   ]
  },
  {
   "cell_type": "code",
   "execution_count": 16,
   "id": "c2ccb2e2",
   "metadata": {},
   "outputs": [
    {
     "name": "stdout",
     "output_type": "stream",
     "text": [
      " ineuron        \n",
      "\n",
      " ineuron         ineuron        \n",
      "\n",
      " ineuron         ineuron         ineuron        \n",
      "\n",
      " ineuron         ineuron         ineuron         ineuron        \n",
      "\n",
      " ineuron         ineuron         ineuron         ineuron         ineuron        \n",
      "\n"
     ]
    }
   ],
   "source": [
    "a = \"ineuron\"\n",
    "for i in range(5):\n",
    "    for j in range(0, i + 1):\n",
    "        print(\"\" * len(a), a, \" \" * len(a), end = \"\")\n",
    "    print(\"\\n\")\n",
    "        \n",
    "        "
   ]
  },
  {
   "cell_type": "code",
   "execution_count": 11,
   "id": "858ca872",
   "metadata": {},
   "outputs": [],
   "source": [
    "l = [[1,2,3,4] , (2,3,4,5,6) , (3,4,5,6,7) , set([23,4,5,45,4,4,5,45,45,4,5]) , {'k1' :\"sudh\" , \"k2\" : \"ineuron\",\"k3\":\n",
    "            \"kumar\" , 3:6 , 7:8} , [\"ineuron\" , \"data science \"]]"
   ]
  },
  {
   "cell_type": "code",
   "execution_count": 12,
   "id": "d0c3d2e5",
   "metadata": {},
   "outputs": [
    {
     "data": {
      "text/plain": [
       "[[1, 2, 3, 4],\n",
       " (2, 3, 4, 5, 6),\n",
       " (3, 4, 5, 6, 7),\n",
       " {4, 5, 23, 45},\n",
       " {'k1': 'sudh', 'k2': 'ineuron', 'k3': 'kumar', 3: 6, 7: 8},\n",
       " ['ineuron', 'data science ']]"
      ]
     },
     "execution_count": 12,
     "metadata": {},
     "output_type": "execute_result"
    }
   ],
   "source": [
    "l"
   ]
  },
  {
   "cell_type": "code",
   "execution_count": 25,
   "id": "837ec0a7",
   "metadata": {},
   "outputs": [
    {
     "name": "stdout",
     "output_type": "stream",
     "text": [
      "[1, 2, 3, 4]\n",
      "['ineuron', 'data science ']\n"
     ]
    }
   ],
   "source": [
    "for i in l:\n",
    "    if type(i) == list:\n",
    "        print(i)\n",
    "    for j in i:\n",
    "        if type(j) == list:\n",
    "            print(j)"
   ]
  },
  {
   "cell_type": "code",
   "execution_count": 26,
   "id": "066d3f97",
   "metadata": {},
   "outputs": [
    {
     "data": {
      "text/plain": [
       "{1, 2, 3, 4, 5}"
      ]
     },
     "execution_count": 26,
     "metadata": {},
     "output_type": "execute_result"
    }
   ],
   "source": [
    "set([1,2,3,4,5])"
   ]
  },
  {
   "cell_type": "code",
   "execution_count": 14,
   "id": "3072318b",
   "metadata": {},
   "outputs": [
    {
     "name": "stdout",
     "output_type": "stream",
     "text": [
      "{'k1': 'sudh', 'k2': 'ineuron', 'k3': 'kumar', 3: 6, 7: 8}\n"
     ]
    }
   ],
   "source": [
    "for i in l:\n",
    "    if type(i) == dict:\n",
    "        print(i)"
   ]
  },
  {
   "cell_type": "code",
   "execution_count": 15,
   "id": "092ab22d",
   "metadata": {},
   "outputs": [
    {
     "name": "stdout",
     "output_type": "stream",
     "text": [
      "(2, 3, 4, 5, 6)\n",
      "(3, 4, 5, 6, 7)\n"
     ]
    }
   ],
   "source": [
    "for i in l:\n",
    "    if type(i) == tuple:\n",
    "        print(i)"
   ]
  },
  {
   "cell_type": "code",
   "execution_count": 62,
   "id": "914e9cf9",
   "metadata": {},
   "outputs": [
    {
     "data": {
      "text/plain": [
       "[[1, 2, 3, 4],\n",
       " (2, 3, 4, 5, 6),\n",
       " (3, 4, 5, 6, 7),\n",
       " {4, 5, 23, 45},\n",
       " {'k1': 'sudh', 'k2': 'ineuron', 'k3': 'kumar', 3: 6, 7: 8},\n",
       " ['ineuron', 'data science ']]"
      ]
     },
     "execution_count": 62,
     "metadata": {},
     "output_type": "execute_result"
    }
   ],
   "source": [
    "l"
   ]
  },
  {
   "cell_type": "code",
   "execution_count": 63,
   "id": "edd98667",
   "metadata": {},
   "outputs": [
    {
     "name": "stdout",
     "output_type": "stream",
     "text": [
      "1\n",
      "2\n",
      "3\n",
      "4\n",
      "2\n",
      "3\n",
      "4\n",
      "5\n",
      "6\n",
      "3\n",
      "4\n",
      "5\n",
      "6\n",
      "7\n",
      "45\n",
      "4\n",
      "5\n",
      "23\n",
      "3\n",
      "7\n",
      "3\n",
      "6\n",
      "7\n",
      "8\n"
     ]
    }
   ],
   "source": [
    "for i in l:\n",
    "    if type(i) == int:\n",
    "        print(i)\n",
    "    for j in i:\n",
    "        if type(j) == int:\n",
    "            print(j)\n",
    "    if type(i) == dict:\n",
    "        for j in i:\n",
    "            if type(j) == int:\n",
    "                print(j)\n",
    "            if type(i[j]) == int:\n",
    "                print(i[j])"
   ]
  },
  {
   "cell_type": "code",
   "execution_count": 64,
   "id": "1b6c9878",
   "metadata": {},
   "outputs": [
    {
     "name": "stdout",
     "output_type": "stream",
     "text": [
      "List of all the integers is: [1, 2, 3, 4, 2, 3, 4, 5, 6, 3, 4, 5, 6, 7, 45, 4, 5, 23, 3, 7, 3, 6, 7, 8]\n",
      "Sum of the total elements in the list is: 166\n",
      "List of all the odd number in the list are: [1, 3, 3, 5, 3, 5, 7, 45, 5, 23, 3, 7, 3, 7]\n"
     ]
    }
   ],
   "source": [
    "l1 = []\n",
    "for i in l:\n",
    "    if type(i) == int:\n",
    "        l1.append(i)\n",
    "    for j in i:\n",
    "        if type(j) == int:\n",
    "            l1.append(j)\n",
    "    if type(i) == dict:\n",
    "        for j in i:\n",
    "            if type(j) == int:\n",
    "                l1.append(j)\n",
    "            if type(i[j]) == int:\n",
    "                l1.append(i[j])\n",
    "print(\"List of all the integers is:\", l1)\n",
    "\n",
    "total = 0\n",
    "for i in range(0, len(l1)):\n",
    "    total = total + l1[i]\n",
    "print(\"Sum of the total elements in the list is:\", total)\n",
    "\n",
    "l2 = []\n",
    "for i in l1:\n",
    "    if i%2 != 0:\n",
    "        l2.append(i)\n",
    "        \n",
    "print(\"List of all the odd number in the list are:\", l2)\n",
    "        "
   ]
  },
  {
   "cell_type": "code",
   "execution_count": 51,
   "id": "8844e0b2",
   "metadata": {},
   "outputs": [
    {
     "data": {
      "text/plain": [
       "[[1, 2, 3, 4],\n",
       " (2, 3, 4, 5, 6),\n",
       " (3, 4, 5, 6, 7),\n",
       " {4, 5, 23, 45},\n",
       " {'k1': 'sudh', 'k2': 'ineuron', 'k3': 'kumar', 3: 6, 7: 8},\n",
       " ['ineuron', 'data science ']]"
      ]
     },
     "execution_count": 51,
     "metadata": {},
     "output_type": "execute_result"
    }
   ],
   "source": [
    "l"
   ]
  },
  {
   "cell_type": "code",
   "execution_count": 61,
   "id": "d14a39e9",
   "metadata": {},
   "outputs": [
    {
     "name": "stdout",
     "output_type": "stream",
     "text": [
      "ineuron\n",
      "ineuron\n"
     ]
    }
   ],
   "source": [
    "for i in l:\n",
    "    if i == \"ineuron\":\n",
    "        print(i)\n",
    "    elif type(i) == list or type(i) == tuple or type(i) == set:\n",
    "        for j in i:\n",
    "            if j == \"ineuron\":\n",
    "                print(j)\n",
    "    elif type(i) == dict:\n",
    "        for j in i:\n",
    "            if j == \"ineuron\":\n",
    "                print(j)\n",
    "            if i[j] == \"ineuron\":\n",
    "                print(i[j])"
   ]
  },
  {
   "cell_type": "code",
   "execution_count": 69,
   "id": "2abb335c",
   "metadata": {},
   "outputs": [
    {
     "name": "stdout",
     "output_type": "stream",
     "text": [
      "[1, 2, 3, 4, 2, 3, 4, 5, 6, 3, 4, 5, 6, 7, 45, 4, 5, 23, 'k1', 'sudh', 'k2', 'ineuron', 'k3', 'kumar', 3, 6, 7, 8, 'ineuron', 'data science ']\n",
      "1 : 1\n",
      "2 : 2\n",
      "3 : 4\n",
      "4 : 4\n",
      "5 : 3\n",
      "6 : 3\n",
      "7 : 2\n",
      "sudh : 1\n",
      "8 : 1\n",
      "k2 : 1\n",
      "ineuron : 2\n",
      "45 : 1\n",
      "k3 : 1\n",
      "kumar : 1\n",
      "23 : 1\n",
      "k1 : 1\n",
      "data science  : 1\n"
     ]
    }
   ],
   "source": [
    "l3 = []\n",
    "for i in l:\n",
    "    if type(i) == list or type(i) == tuple or type(i) == set:\n",
    "        for j in i:\n",
    "            l3.append(j)\n",
    "    if type(i) == dict:\n",
    "        for j in i:\n",
    "            l3.append(j)\n",
    "            l3.append(i[j])\n",
    "print(l3)\n",
    "\n",
    "for i in set(l3):\n",
    "    print(i, \":\", l3.count(i))"
   ]
  },
  {
   "cell_type": "code",
   "execution_count": 70,
   "id": "79c0f82b",
   "metadata": {},
   "outputs": [
    {
     "data": {
      "text/plain": [
       "[[1, 2, 3, 4],\n",
       " (2, 3, 4, 5, 6),\n",
       " (3, 4, 5, 6, 7),\n",
       " {4, 5, 23, 45},\n",
       " {'k1': 'sudh', 'k2': 'ineuron', 'k3': 'kumar', 3: 6, 7: 8},\n",
       " ['ineuron', 'data science ']]"
      ]
     },
     "execution_count": 70,
     "metadata": {},
     "output_type": "execute_result"
    }
   ],
   "source": [
    "l"
   ]
  },
  {
   "cell_type": "code",
   "execution_count": 75,
   "id": "bf228345",
   "metadata": {},
   "outputs": [
    {
     "name": "stdout",
     "output_type": "stream",
     "text": [
      "['k1', 'k2', 'k3', 3, 7]\n",
      "Total number of keys in the list is: 5\n"
     ]
    }
   ],
   "source": [
    "l3 = []\n",
    "for i in l:\n",
    "    if type(i) == dict:\n",
    "        for j in i:\n",
    "            l3.append(j)\n",
    "print(l3)\n",
    "print(\"Total number of keys in the list is:\", len(l3))"
   ]
  },
  {
   "cell_type": "code",
   "execution_count": 76,
   "id": "e96e5fad",
   "metadata": {},
   "outputs": [
    {
     "data": {
      "text/plain": [
       "[[1, 2, 3, 4],\n",
       " (2, 3, 4, 5, 6),\n",
       " (3, 4, 5, 6, 7),\n",
       " {4, 5, 23, 45},\n",
       " {'k1': 'sudh', 'k2': 'ineuron', 'k3': 'kumar', 3: 6, 7: 8},\n",
       " ['ineuron', 'data science ']]"
      ]
     },
     "execution_count": 76,
     "metadata": {},
     "output_type": "execute_result"
    }
   ],
   "source": [
    "l"
   ]
  },
  {
   "cell_type": "code",
   "execution_count": 78,
   "id": "7dc926a6",
   "metadata": {},
   "outputs": [
    {
     "name": "stdout",
     "output_type": "stream",
     "text": [
      "['k1', 'sudh', 'k2', 'ineuron', 'k3', 'kumar', 'ineuron', 'data science ']\n"
     ]
    }
   ],
   "source": [
    "l4 = []\n",
    "for i in l:\n",
    "    if type(i) == str:\n",
    "        l4.append(i)\n",
    "    if type(i) == list or type(i) == tuple or type(i) == set:\n",
    "        for j in i:\n",
    "            if type(j) == str:\n",
    "                l4.append(j)\n",
    "    if type(i) == dict:\n",
    "        for j in i:\n",
    "            if type(j) == str:\n",
    "                l4.append(j)\n",
    "            if type(i[j]) == str:\n",
    "                l4.append(i[j])\n",
    "print(l4)"
   ]
  },
  {
   "cell_type": "code",
   "execution_count": 19,
   "id": "a08544e7",
   "metadata": {},
   "outputs": [],
   "source": [
    "l = [[1,2,3,4] , (2,3,4,5,6) , (3,4,5,6,7) , set([23,4,5,45,4,4,5,45,45,4,5]) , {'k1' :\"sudh\" , \"k2\" : \"ineuron\",\"k3\":\n",
    "            \"kumar\" , 3:6 , 7:8} , [\"ineuron\" , \"data science\"]]"
   ]
  },
  {
   "cell_type": "code",
   "execution_count": 17,
   "id": "87f0b450",
   "metadata": {},
   "outputs": [
    {
     "data": {
      "text/plain": [
       "[[1, 2, 3, 4],\n",
       " (2, 3, 4, 5, 6),\n",
       " (3, 4, 5, 6, 7),\n",
       " {4, 5, 23, 45},\n",
       " {'k1': 'sudh', 'k2': 'ineuron', 'k3': 'kumar', 3: 6, 7: 8},\n",
       " ['ineuron', 'data_science']]"
      ]
     },
     "execution_count": 17,
     "metadata": {},
     "output_type": "execute_result"
    }
   ],
   "source": [
    "l"
   ]
  },
  {
   "cell_type": "code",
   "execution_count": 22,
   "id": "498ff616",
   "metadata": {},
   "outputs": [
    {
     "name": "stdout",
     "output_type": "stream",
     "text": [
      "['k1', 'sudh', 'k2', 'ineuron', 'k3', 'kumar', 'ineuron']\n"
     ]
    }
   ],
   "source": [
    "l5 = []\n",
    "for i in l:\n",
    "    if type(i) == str:\n",
    "        if i.isalnum():\n",
    "            l5.append(i)\n",
    "            \n",
    "    if type(i) == list or type(i) == tuple or type(i) == set:\n",
    "        for j in i:\n",
    "            if type(j) == str:\n",
    "                if j.isalnum():\n",
    "                    l5.append(j)\n",
    "                    #print(l5)\n",
    "                    \n",
    "    if type(i) == dict:\n",
    "        for j in i:\n",
    "            if type(j) == str:\n",
    "                if j.isalnum():\n",
    "                    l5.append(j)\n",
    "            if type(i[j]) == str:\n",
    "                if i[j].isalnum():\n",
    "                    l5.append(i[j])\n",
    "                    \n",
    "print(l5)\n"
   ]
  },
  {
   "cell_type": "code",
   "execution_count": 23,
   "id": "07de4c83",
   "metadata": {},
   "outputs": [
    {
     "name": "stdout",
     "output_type": "stream",
     "text": [
      "1\n",
      "2\n",
      "3\n",
      "4\n",
      "2\n",
      "3\n",
      "4\n",
      "5\n",
      "6\n",
      "3\n",
      "4\n",
      "5\n",
      "6\n",
      "7\n",
      "45\n",
      "4\n",
      "5\n",
      "23\n",
      "ineuron\n",
      "data science\n",
      "['ineuron']\n"
     ]
    }
   ],
   "source": [
    "l5 = []\n",
    "for i in l:\n",
    "    if type(i) == list or type(i) == tuple or type(i) == set:\n",
    "        for j in i:\n",
    "            print(j)\n",
    "            if type(j) == str:\n",
    "                if j.isalnum():\n",
    "                    l5.append(j)\n",
    "print(l5)"
   ]
  },
  {
   "cell_type": "markdown",
   "id": "01c6891e",
   "metadata": {},
   "source": [
    "# Ask Doubt"
   ]
  },
  {
   "cell_type": "code",
   "execution_count": 96,
   "id": "0cd67605",
   "metadata": {},
   "outputs": [
    {
     "data": {
      "text/plain": [
       "[[1, 2, 3, 4],\n",
       " (2, 3, 4, 5, 6),\n",
       " (3, 4, 5, 6, 7),\n",
       " {4, 5, 23, 45},\n",
       " {'k1': 'sudh', 'k2': 'ineuron', 'k3': 'kumar', 3: 6, 7: 8},\n",
       " ['ineuron', 'data science ']]"
      ]
     },
     "execution_count": 96,
     "metadata": {},
     "output_type": "execute_result"
    }
   ],
   "source": [
    "l"
   ]
  },
  {
   "cell_type": "code",
   "execution_count": 2,
   "id": "b3a9f630",
   "metadata": {},
   "outputs": [
    {
     "name": "stdout",
     "output_type": "stream",
     "text": [
      "[1, 2, 3, 4, 2, 3, 4, 5, 6, 3, 4, 5, 6, 7, 45, 4, 5, 23, 'k1', 'sudh', 'k2', 'ineuron', 'k3', 'kumar', 3, 6, 7, 8, 'ineuron', 'data science']\n"
     ]
    }
   ],
   "source": [
    "l = [[1,2,3,4] , (2,3,4,5,6) , (3,4,5,6,7) , set([23,4,5,45,4,4,5,45,45,4,5]) , {'k1' :\"sudh\" , \"k2\" : \"ineuron\",\"k3\":\n",
    "            \"kumar\" , 3:6 , 7:8} , [\"ineuron\" , \"data science\"]]\n",
    "l3 = []\n",
    "for i in l:\n",
    "    if type(i) == list or type(i) == tuple or type(i) == set:\n",
    "        for j in i:\n",
    "            l3.append(j)\n",
    "    if type(i) == dict:\n",
    "        for j in i:\n",
    "            l3.append(j)\n",
    "            l3.append(i[j])\n",
    "print(l3)"
   ]
  },
  {
   "cell_type": "code",
   "execution_count": 5,
   "id": "91a5eb25",
   "metadata": {},
   "outputs": [
    {
     "name": "stdout",
     "output_type": "stream",
     "text": [
      "1\n",
      "2\n",
      "6\n",
      "24\n",
      "48\n",
      "144\n",
      "576\n",
      "2880\n",
      "17280\n",
      "51840\n",
      "207360\n",
      "1036800\n",
      "6220800\n",
      "43545600\n",
      "1959552000\n",
      "7838208000\n",
      "39191040000\n",
      "901393920000\n",
      "2704181760000\n",
      "16225090560000\n",
      "113575633920000\n",
      "908605071360000\n",
      "908605071360000\n"
     ]
    }
   ],
   "source": [
    "mul = 1\n",
    "for i in l3:\n",
    "    if type(i) == int:\n",
    "        mul = mul * i\n",
    "        print(mul)\n",
    "print(mul)"
   ]
  },
  {
   "cell_type": "markdown",
   "id": "ac63e610",
   "metadata": {},
   "source": [
    "# Ask Doubt"
   ]
  },
  {
   "cell_type": "code",
   "execution_count": 25,
   "id": "de3de1a6",
   "metadata": {},
   "outputs": [
    {
     "name": "stdout",
     "output_type": "stream",
     "text": [
      "Enter the number of rows: 10\n",
      "                  * \n",
      "                 * * \n",
      "                * * * \n",
      "               * * * * \n",
      "              * * * * * \n",
      "             * * * * * * \n",
      "            * * * * * * * \n",
      "           * * * * * * * * \n",
      "          * * * * * * * * * \n",
      "         * * * * * * * * * * \n"
     ]
    }
   ],
   "source": [
    "rows = int(input(\"Enter the number of rows: \"))  \n",
    "  \n",
    "# It is used to print the space  \n",
    "k = 2 * rows - 2  \n",
    "# Outer loop to print number of rows  \n",
    "for i in range(0, rows):  \n",
    "    # Inner loop is used to print number of space  \n",
    "    for j in range(0, k):  \n",
    "        print(end=\" \")  \n",
    "    # Decrement in k after each iteration  \n",
    "    k = k - 1  \n",
    "    # This inner loop is used to print stars  \n",
    "    for j in range(0, i + 1):  \n",
    "        print(\"* \", end=\"\")  \n",
    "    print(\"\")  \n",
    "  \n",
    "#Downward triangle Pyramid  \n",
    "# It "
   ]
  },
  {
   "cell_type": "code",
   "execution_count": 38,
   "id": "3379f002",
   "metadata": {},
   "outputs": [
    {
     "name": "stdout",
     "output_type": "stream",
     "text": [
      "Enter the number of rows: 5\n",
      "        * \n",
      "       * * \n",
      "      * * * \n",
      "     * * * * \n",
      "    * * * * * \n"
     ]
    }
   ],
   "source": [
    "rows = int(input(\"Enter the number of rows: \"))  \n",
    "  \n",
    "# It is used to print the space  \n",
    "k = 2 * rows - 2  \n",
    "# Outer loop to print number of rows  \n",
    "for i in range(0, rows):  \n",
    "    # Inner loop is used to print number of space  \n",
    "    for j in range(0, k):  \n",
    "        print(end=\" \")  \n",
    "    # Decrement in k after each iteration  \n",
    "    k = k - 1  \n",
    "    # This inner loop is used to print stars  \n",
    "    for j in range(0, i + 1):  \n",
    "        print(\"* \", end=\"\")  \n",
    "    print(\"\")  \n",
    "  \n",
    "#Downward triangle Pyramid  \n",
    "# It "
   ]
  },
  {
   "cell_type": "code",
   "execution_count": 30,
   "id": "addfa3c6",
   "metadata": {},
   "outputs": [
    {
     "name": "stdout",
     "output_type": "stream",
     "text": [
      "Enter diamond's height: 5\n",
      "      *\n",
      "     ***\n",
      "    *****\n",
      "   *******\n",
      "  *********\n",
      "   *******\n",
      "    *****\n",
      "     ***\n",
      "      *\n"
     ]
    }
   ],
   "source": [
    "h = eval(input(\"Enter diamond's height: \"))\n",
    "\n",
    "for x in range(h):\n",
    "    print(\" \" * (h - x), \"*\" * (2*x + 1))\n",
    "for x in range(h - 2, -1, -1):\n",
    "    print(\" \" * (h - x), \"*\" * (2*x + 1))"
   ]
  },
  {
   "cell_type": "code",
   "execution_count": 2,
   "id": "4ca46b38",
   "metadata": {},
   "outputs": [
    {
     "name": "stdout",
     "output_type": "stream",
     "text": [
      "Enter number of rows:5\n",
      "* * * * * \n",
      "* * * * * \n",
      "* * * * * \n",
      "* * * * * \n",
      "* * * * * \n"
     ]
    }
   ],
   "source": [
    "a = int(input(\"Enter number of rows:\"))\n",
    "for i in range(a):\n",
    "        print(\"* \" * a)"
   ]
  },
  {
   "cell_type": "code",
   "execution_count": 3,
   "id": "53bd8574",
   "metadata": {},
   "outputs": [
    {
     "name": "stdout",
     "output_type": "stream",
     "text": [
      "Enter number of rows:5\n",
      "*\n",
      "**\n",
      "***\n",
      "****\n",
      "*****\n"
     ]
    }
   ],
   "source": [
    "a = int(input(\"Enter number of rows:\"))\n",
    "for i in range(1, a+1):\n",
    "    print(\"*\" * i)"
   ]
  },
  {
   "cell_type": "code",
   "execution_count": 10,
   "id": "447be52b",
   "metadata": {},
   "outputs": [
    {
     "name": "stdout",
     "output_type": "stream",
     "text": [
      "Enter number of rows:5\n",
      "*\n",
      "**\n",
      "***\n",
      "****\n",
      "*****\n",
      "****\n",
      "***\n",
      "**\n",
      "*\n"
     ]
    }
   ],
   "source": [
    "a = int(input(\"Enter number of rows:\"))\n",
    "for i in range(1, a+1):\n",
    "    print(\"\" * (a-i) + \"*\" * i)\n",
    "for i in range(a-1, 0, -1):\n",
    "    print(\"\" * (a-i) + \"*\" * i)"
   ]
  },
  {
   "cell_type": "code",
   "execution_count": 20,
   "id": "73cba442",
   "metadata": {},
   "outputs": [
    {
     "name": "stdout",
     "output_type": "stream",
     "text": [
      "Enter number of rows:5\n",
      "    *\n",
      "   **\n",
      "  ***\n",
      " ****\n",
      "*****\n"
     ]
    }
   ],
   "source": [
    "a = int(input(\"Enter number of rows:\"))\n",
    "for i in range(1, a+1):\n",
    "    print(\" \" * (a-i) + \"*\" * i)"
   ]
  },
  {
   "cell_type": "code",
   "execution_count": 24,
   "id": "9c270451",
   "metadata": {},
   "outputs": [
    {
     "name": "stdout",
     "output_type": "stream",
     "text": [
      "Enter number of rows:5\n",
      "*\n",
      "**\n",
      "***\n",
      "****\n",
      "*****\n"
     ]
    }
   ],
   "source": [
    "a = int(input(\"Enter number of rows:\"))\n",
    "for i in range(1, a+1):\n",
    "    print(\"\" * (a-i) + \"*\" * i)"
   ]
  },
  {
   "cell_type": "code",
   "execution_count": 23,
   "id": "b3ea1b69",
   "metadata": {},
   "outputs": [
    {
     "name": "stdout",
     "output_type": "stream",
     "text": [
      "Enter a number5\n",
      "* * * * * \n",
      " * * * * \n",
      "  * * * \n",
      "   * * \n",
      "    * \n"
     ]
    }
   ],
   "source": [
    "a = int(input(\"Enter a number\"))\n",
    "\n",
    "\"\"\"for i in range(1, a+1):\n",
    "    print(\" \" * (a-i) + \"* \" * i)\"\"\"\n",
    "\n",
    "for i in range(a, 0, -1):\n",
    "    print(\" \" * (a-i) + \"* \" * i)"
   ]
  },
  {
   "cell_type": "code",
   "execution_count": null,
   "id": "bb4adecc",
   "metadata": {},
   "outputs": [],
   "source": []
  }
 ],
 "metadata": {
  "kernelspec": {
   "display_name": "Python 3 (ipykernel)",
   "language": "python",
   "name": "python3"
  },
  "language_info": {
   "codemirror_mode": {
    "name": "ipython",
    "version": 3
   },
   "file_extension": ".py",
   "mimetype": "text/x-python",
   "name": "python",
   "nbconvert_exporter": "python",
   "pygments_lexer": "ipython3",
   "version": "3.9.12"
  }
 },
 "nbformat": 4,
 "nbformat_minor": 5
}
