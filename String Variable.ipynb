{
 "cells": [
  {
   "cell_type": "code",
   "execution_count": 1,
   "id": "52fc0442",
   "metadata": {},
   "outputs": [],
   "source": [
    "a = \"Sunil\""
   ]
  },
  {
   "cell_type": "code",
   "execution_count": 2,
   "id": "8829878f",
   "metadata": {},
   "outputs": [
    {
     "ename": "NameError",
     "evalue": "name 's' is not defined",
     "output_type": "error",
     "traceback": [
      "\u001b[1;31m---------------------------------------------------------------------------\u001b[0m",
      "\u001b[1;31mNameError\u001b[0m                                 Traceback (most recent call last)",
      "Input \u001b[1;32mIn [2]\u001b[0m, in \u001b[0;36m<cell line: 1>\u001b[1;34m()\u001b[0m\n\u001b[1;32m----> 1\u001b[0m \u001b[43ms\u001b[49m\n",
      "\u001b[1;31mNameError\u001b[0m: name 's' is not defined"
     ]
    }
   ],
   "source": [
    "s"
   ]
  },
  {
   "cell_type": "code",
   "execution_count": 3,
   "id": "49dbf7ba",
   "metadata": {},
   "outputs": [
    {
     "data": {
      "text/plain": [
       "'Sunil'"
      ]
     },
     "execution_count": 3,
     "metadata": {},
     "output_type": "execute_result"
    }
   ],
   "source": [
    "a"
   ]
  },
  {
   "cell_type": "code",
   "execution_count": 4,
   "id": "4e5faf63",
   "metadata": {},
   "outputs": [
    {
     "data": {
      "text/plain": [
       "str"
      ]
     },
     "execution_count": 4,
     "metadata": {},
     "output_type": "execute_result"
    }
   ],
   "source": [
    "type(a)"
   ]
  },
  {
   "cell_type": "code",
   "execution_count": 5,
   "id": "742bc3ec",
   "metadata": {},
   "outputs": [
    {
     "data": {
      "text/plain": [
       "'u'"
      ]
     },
     "execution_count": 5,
     "metadata": {},
     "output_type": "execute_result"
    }
   ],
   "source": [
    "a[1]"
   ]
  },
  {
   "cell_type": "code",
   "execution_count": 6,
   "id": "2da29ff7",
   "metadata": {},
   "outputs": [
    {
     "data": {
      "text/plain": [
       "'u'"
      ]
     },
     "execution_count": 6,
     "metadata": {},
     "output_type": "execute_result"
    }
   ],
   "source": [
    "a[-4]"
   ]
  },
  {
   "cell_type": "code",
   "execution_count": 7,
   "id": "7071113c",
   "metadata": {},
   "outputs": [],
   "source": [
    "s = 'this is my very first programming class'"
   ]
  },
  {
   "cell_type": "code",
   "execution_count": 8,
   "id": "209b1125",
   "metadata": {},
   "outputs": [
    {
     "data": {
      "text/plain": [
       "'this is my very first programming class'"
      ]
     },
     "execution_count": 8,
     "metadata": {},
     "output_type": "execute_result"
    }
   ],
   "source": [
    "s"
   ]
  },
  {
   "cell_type": "code",
   "execution_count": 9,
   "id": "1b45219b",
   "metadata": {},
   "outputs": [
    {
     "data": {
      "text/plain": [
       "str"
      ]
     },
     "execution_count": 9,
     "metadata": {},
     "output_type": "execute_result"
    }
   ],
   "source": [
    "type(s)"
   ]
  },
  {
   "cell_type": "code",
   "execution_count": 10,
   "id": "c0420ffb",
   "metadata": {},
   "outputs": [
    {
     "data": {
      "text/plain": [
       "'i'"
      ]
     },
     "execution_count": 10,
     "metadata": {},
     "output_type": "execute_result"
    }
   ],
   "source": [
    "s[5]"
   ]
  },
  {
   "cell_type": "code",
   "execution_count": 11,
   "id": "a4a59bda",
   "metadata": {},
   "outputs": [
    {
     "data": {
      "text/plain": [
       "' '"
      ]
     },
     "execution_count": 11,
     "metadata": {},
     "output_type": "execute_result"
    }
   ],
   "source": [
    "s[4]"
   ]
  },
  {
   "cell_type": "code",
   "execution_count": 12,
   "id": "881ae373",
   "metadata": {},
   "outputs": [
    {
     "ename": "SyntaxError",
     "evalue": "invalid syntax (149923504.py, line 1)",
     "output_type": "error",
     "traceback": [
      "\u001b[1;36m  Input \u001b[1;32mIn [12]\u001b[1;36m\u001b[0m\n\u001b[1;33m    s1 = 'Sunil's father is a well established man\u001b[0m\n\u001b[1;37m                ^\u001b[0m\n\u001b[1;31mSyntaxError\u001b[0m\u001b[1;31m:\u001b[0m invalid syntax\n"
     ]
    }
   ],
   "source": [
    "s1 = 'Sunil's father is a well established man"
   ]
  },
  {
   "cell_type": "code",
   "execution_count": 13,
   "id": "c50edebc",
   "metadata": {},
   "outputs": [],
   "source": [
    "s1 = \"Sunil's father is a well established man\""
   ]
  },
  {
   "cell_type": "code",
   "execution_count": 14,
   "id": "c6c3000b",
   "metadata": {},
   "outputs": [
    {
     "data": {
      "text/plain": [
       "'unil'"
      ]
     },
     "execution_count": 14,
     "metadata": {},
     "output_type": "execute_result"
    }
   ],
   "source": [
    "s1[1:5]"
   ]
  },
  {
   "cell_type": "code",
   "execution_count": 15,
   "id": "a627a5b6",
   "metadata": {},
   "outputs": [
    {
     "data": {
      "text/plain": [
       "\"ui' a\""
      ]
     },
     "execution_count": 15,
     "metadata": {},
     "output_type": "execute_result"
    }
   ],
   "source": [
    " s1[1:10:2]"
   ]
  },
  {
   "cell_type": "code",
   "execution_count": 16,
   "id": "cc1321ad",
   "metadata": {},
   "outputs": [
    {
     "data": {
      "text/plain": [
       "''"
      ]
     },
     "execution_count": 16,
     "metadata": {},
     "output_type": "execute_result"
    }
   ],
   "source": [
    "s1[1:10:-1]"
   ]
  },
  {
   "cell_type": "code",
   "execution_count": 17,
   "id": "70a27d53",
   "metadata": {},
   "outputs": [
    {
     "data": {
      "text/plain": [
       "''"
      ]
     },
     "execution_count": 17,
     "metadata": {},
     "output_type": "execute_result"
    }
   ],
   "source": [
    "a[-1:-4:1]"
   ]
  },
  {
   "cell_type": "code",
   "execution_count": 18,
   "id": "99632c12",
   "metadata": {},
   "outputs": [
    {
     "data": {
      "text/plain": [
       "''"
      ]
     },
     "execution_count": 18,
     "metadata": {},
     "output_type": "execute_result"
    }
   ],
   "source": [
    " a[4:1]"
   ]
  },
  {
   "cell_type": "code",
   "execution_count": 19,
   "id": "898ebb5e",
   "metadata": {},
   "outputs": [
    {
     "data": {
      "text/plain": [
       "'Sunil'"
      ]
     },
     "execution_count": 19,
     "metadata": {},
     "output_type": "execute_result"
    }
   ],
   "source": [
    "a"
   ]
  },
  {
   "cell_type": "code",
   "execution_count": 20,
   "id": "4ca59743",
   "metadata": {},
   "outputs": [
    {
     "data": {
      "text/plain": [
       "'lin'"
      ]
     },
     "execution_count": 20,
     "metadata": {},
     "output_type": "execute_result"
    }
   ],
   "source": [
    "a[4:1:-1]"
   ]
  },
  {
   "cell_type": "code",
   "execution_count": 21,
   "id": "ba9a1471",
   "metadata": {},
   "outputs": [
    {
     "data": {
      "text/plain": [
       "'linu'"
      ]
     },
     "execution_count": 21,
     "metadata": {},
     "output_type": "execute_result"
    }
   ],
   "source": [
    "a[4:0:-1]"
   ]
  },
  {
   "cell_type": "code",
   "execution_count": 22,
   "id": "b67a1382",
   "metadata": {},
   "outputs": [
    {
     "data": {
      "text/plain": [
       "'linu'"
      ]
     },
     "execution_count": 22,
     "metadata": {},
     "output_type": "execute_result"
    }
   ],
   "source": [
    "a[5:0:-1]"
   ]
  },
  {
   "cell_type": "code",
   "execution_count": 23,
   "id": "bd79f1d5",
   "metadata": {},
   "outputs": [
    {
     "data": {
      "text/plain": [
       "'linuS'"
      ]
     },
     "execution_count": 23,
     "metadata": {},
     "output_type": "execute_result"
    }
   ],
   "source": [
    "a[5::-1]"
   ]
  },
  {
   "cell_type": "code",
   "execution_count": 24,
   "id": "1e791b40",
   "metadata": {},
   "outputs": [
    {
     "data": {
      "text/plain": [
       "'S'"
      ]
     },
     "execution_count": 24,
     "metadata": {},
     "output_type": "execute_result"
    }
   ],
   "source": [
    "a[:-4]"
   ]
  },
  {
   "cell_type": "code",
   "execution_count": 25,
   "id": "0ed5a656",
   "metadata": {},
   "outputs": [
    {
     "data": {
      "text/plain": [
       "'Suni'"
      ]
     },
     "execution_count": 25,
     "metadata": {},
     "output_type": "execute_result"
    }
   ],
   "source": [
    "a[:-1]"
   ]
  },
  {
   "cell_type": "code",
   "execution_count": 26,
   "id": "897a9b50",
   "metadata": {},
   "outputs": [
    {
     "data": {
      "text/plain": [
       "'unil'"
      ]
     },
     "execution_count": 26,
     "metadata": {},
     "output_type": "execute_result"
    }
   ],
   "source": [
    "a[-4:]"
   ]
  },
  {
   "cell_type": "code",
   "execution_count": 27,
   "id": "b78554ea",
   "metadata": {},
   "outputs": [
    {
     "data": {
      "text/plain": [
       "'linuS'"
      ]
     },
     "execution_count": 27,
     "metadata": {},
     "output_type": "execute_result"
    }
   ],
   "source": [
    "a[::-1]"
   ]
  },
  {
   "cell_type": "code",
   "execution_count": 28,
   "id": "6af9bf1c",
   "metadata": {},
   "outputs": [],
   "source": [
    "a1 = \"Maharana\""
   ]
  },
  {
   "cell_type": "code",
   "execution_count": 29,
   "id": "0abf1621",
   "metadata": {},
   "outputs": [
    {
     "data": {
      "text/plain": [
       "'Maharana'"
      ]
     },
     "execution_count": 29,
     "metadata": {},
     "output_type": "execute_result"
    }
   ],
   "source": [
    "a1"
   ]
  },
  {
   "cell_type": "code",
   "execution_count": 30,
   "id": "13038831",
   "metadata": {},
   "outputs": [
    {
     "data": {
      "text/plain": [
       "str"
      ]
     },
     "execution_count": 30,
     "metadata": {},
     "output_type": "execute_result"
    }
   ],
   "source": [
    "type(a1)"
   ]
  },
  {
   "cell_type": "code",
   "execution_count": 31,
   "id": "557c7a86",
   "metadata": {},
   "outputs": [
    {
     "data": {
      "text/plain": [
       "'anarahaM'"
      ]
     },
     "execution_count": 31,
     "metadata": {},
     "output_type": "execute_result"
    }
   ],
   "source": [
    "a1[::-1]"
   ]
  },
  {
   "cell_type": "code",
   "execution_count": 32,
   "id": "9d321650",
   "metadata": {},
   "outputs": [
    {
     "data": {
      "text/plain": [
       "''"
      ]
     },
     "execution_count": 32,
     "metadata": {},
     "output_type": "execute_result"
    }
   ],
   "source": [
    "a1[-2:-5:1]"
   ]
  },
  {
   "cell_type": "code",
   "execution_count": 33,
   "id": "52f5fffd",
   "metadata": {},
   "outputs": [
    {
     "data": {
      "text/plain": [
       "'nar'"
      ]
     },
     "execution_count": 33,
     "metadata": {},
     "output_type": "execute_result"
    }
   ],
   "source": [
    "a1[-2:-5:-1]"
   ]
  },
  {
   "cell_type": "code",
   "execution_count": 34,
   "id": "3010c150",
   "metadata": {},
   "outputs": [
    {
     "data": {
      "text/plain": [
       "'ara'"
      ]
     },
     "execution_count": 34,
     "metadata": {},
     "output_type": "execute_result"
    }
   ],
   "source": [
    "a1[-5:-2:1]"
   ]
  },
  {
   "cell_type": "code",
   "execution_count": 35,
   "id": "ae15a665",
   "metadata": {},
   "outputs": [
    {
     "data": {
      "text/plain": [
       "''"
      ]
     },
     "execution_count": 35,
     "metadata": {},
     "output_type": "execute_result"
    }
   ],
   "source": [
    "a1[-5:-2:-1]"
   ]
  },
  {
   "cell_type": "code",
   "execution_count": 36,
   "id": "0a1cbee0",
   "metadata": {},
   "outputs": [
    {
     "data": {
      "text/plain": [
       "'anar'"
      ]
     },
     "execution_count": 36,
     "metadata": {},
     "output_type": "execute_result"
    }
   ],
   "source": [
    "a1[:3:-1]"
   ]
  },
  {
   "cell_type": "code",
   "execution_count": 37,
   "id": "bc58dee5",
   "metadata": {},
   "outputs": [
    {
     "data": {
      "text/plain": [
       "'Maha'"
      ]
     },
     "execution_count": 37,
     "metadata": {},
     "output_type": "execute_result"
    }
   ],
   "source": [
    "a1[:4:1]"
   ]
  },
  {
   "cell_type": "code",
   "execution_count": 38,
   "id": "d5c20020",
   "metadata": {},
   "outputs": [
    {
     "data": {
      "text/plain": [
       "'arana'"
      ]
     },
     "execution_count": 38,
     "metadata": {},
     "output_type": "execute_result"
    }
   ],
   "source": [
    "a1[3:]"
   ]
  },
  {
   "cell_type": "code",
   "execution_count": 39,
   "id": "7e25d4d9",
   "metadata": {},
   "outputs": [
    {
     "data": {
      "text/plain": [
       "'ahaM'"
      ]
     },
     "execution_count": 39,
     "metadata": {},
     "output_type": "execute_result"
    }
   ],
   "source": [
    "a1[3::-1]"
   ]
  },
  {
   "cell_type": "code",
   "execution_count": 40,
   "id": "b9854f00",
   "metadata": {},
   "outputs": [
    {
     "ename": "TypeError",
     "evalue": "can only concatenate str (not \"int\") to str",
     "output_type": "error",
     "traceback": [
      "\u001b[1;31m---------------------------------------------------------------------------\u001b[0m",
      "\u001b[1;31mTypeError\u001b[0m                                 Traceback (most recent call last)",
      "Input \u001b[1;32mIn [40]\u001b[0m, in \u001b[0;36m<cell line: 1>\u001b[1;34m()\u001b[0m\n\u001b[1;32m----> 1\u001b[0m \u001b[43ma1\u001b[49m\u001b[43m \u001b[49m\u001b[38;5;241;43m+\u001b[39;49m\u001b[43m \u001b[49m\u001b[38;5;241;43m1\u001b[39;49m\n",
      "\u001b[1;31mTypeError\u001b[0m: can only concatenate str (not \"int\") to str"
     ]
    }
   ],
   "source": [
    "a1 + 1"
   ]
  },
  {
   "cell_type": "code",
   "execution_count": 41,
   "id": "f87637f2",
   "metadata": {},
   "outputs": [
    {
     "data": {
      "text/plain": [
       "'Maharana1'"
      ]
     },
     "execution_count": 41,
     "metadata": {},
     "output_type": "execute_result"
    }
   ],
   "source": [
    "a1 + \"1\""
   ]
  },
  {
   "cell_type": "code",
   "execution_count": 42,
   "id": "a5e89af3",
   "metadata": {},
   "outputs": [
    {
     "ename": "NameError",
     "evalue": "name 'Sunil' is not defined",
     "output_type": "error",
     "traceback": [
      "\u001b[1;31m---------------------------------------------------------------------------\u001b[0m",
      "\u001b[1;31mNameError\u001b[0m                                 Traceback (most recent call last)",
      "Input \u001b[1;32mIn [42]\u001b[0m, in \u001b[0;36m<cell line: 1>\u001b[1;34m()\u001b[0m\n\u001b[1;32m----> 1\u001b[0m a1 \u001b[38;5;241m+\u001b[39m \u001b[38;5;28mstr\u001b[39m( \u001b[43mSunil\u001b[49m)\n",
      "\u001b[1;31mNameError\u001b[0m: name 'Sunil' is not defined"
     ]
    }
   ],
   "source": [
    "a1 + str( Sunil)"
   ]
  },
  {
   "cell_type": "code",
   "execution_count": 43,
   "id": "906e3ae7",
   "metadata": {},
   "outputs": [
    {
     "ename": "NameError",
     "evalue": "name 'Sunil' is not defined",
     "output_type": "error",
     "traceback": [
      "\u001b[1;31m---------------------------------------------------------------------------\u001b[0m",
      "\u001b[1;31mNameError\u001b[0m                                 Traceback (most recent call last)",
      "Input \u001b[1;32mIn [43]\u001b[0m, in \u001b[0;36m<cell line: 1>\u001b[1;34m()\u001b[0m\n\u001b[1;32m----> 1\u001b[0m a1 \u001b[38;5;241m+\u001b[39m \u001b[38;5;28mstr\u001b[39m(\u001b[43mSunil\u001b[49m)\n",
      "\u001b[1;31mNameError\u001b[0m: name 'Sunil' is not defined"
     ]
    }
   ],
   "source": [
    "a1 + str(Sunil)"
   ]
  },
  {
   "cell_type": "code",
   "execution_count": 44,
   "id": "5b5af71d",
   "metadata": {},
   "outputs": [],
   "source": [
    "a2 = \"Sunil\""
   ]
  },
  {
   "cell_type": "code",
   "execution_count": 45,
   "id": "a89301a2",
   "metadata": {},
   "outputs": [
    {
     "data": {
      "text/plain": [
       "'MaharanaSunil'"
      ]
     },
     "execution_count": 45,
     "metadata": {},
     "output_type": "execute_result"
    }
   ],
   "source": [
    "a1 + a2"
   ]
  },
  {
   "cell_type": "code",
   "execution_count": 46,
   "id": "d3bbd0fa",
   "metadata": {},
   "outputs": [
    {
     "data": {
      "text/plain": [
       "8"
      ]
     },
     "execution_count": 46,
     "metadata": {},
     "output_type": "execute_result"
    }
   ],
   "source": [
    "len(a1)"
   ]
  },
  {
   "cell_type": "code",
   "execution_count": 47,
   "id": "00832fde",
   "metadata": {},
   "outputs": [
    {
     "data": {
      "text/plain": [
       "16"
      ]
     },
     "execution_count": 47,
     "metadata": {},
     "output_type": "execute_result"
    }
   ],
   "source": [
    "len(a1)*2"
   ]
  },
  {
   "cell_type": "code",
   "execution_count": 48,
   "id": "c49f5a80",
   "metadata": {},
   "outputs": [
    {
     "data": {
      "text/plain": [
       "4"
      ]
     },
     "execution_count": 48,
     "metadata": {},
     "output_type": "execute_result"
    }
   ],
   "source": [
    "a1.count('a')"
   ]
  },
  {
   "cell_type": "markdown",
   "id": "05f38d23",
   "metadata": {},
   "source": [
    "Gives count of a inside string a1"
   ]
  },
  {
   "cell_type": "code",
   "execution_count": 49,
   "id": "f8d0defd",
   "metadata": {},
   "outputs": [
    {
     "data": {
      "text/plain": [
       "1"
      ]
     },
     "execution_count": 49,
     "metadata": {},
     "output_type": "execute_result"
    }
   ],
   "source": [
    "a1.count('Ma')"
   ]
  },
  {
   "cell_type": "markdown",
   "id": "c74ba64b",
   "metadata": {},
   "source": [
    "As \"Ma\" is only mentioned once inside string a1, the count is only 1"
   ]
  },
  {
   "cell_type": "code",
   "execution_count": 50,
   "id": "9a7d1b78",
   "metadata": {},
   "outputs": [
    {
     "data": {
      "text/plain": [
       "['M', 'h', 'r', 'n', '']"
      ]
     },
     "execution_count": 50,
     "metadata": {},
     "output_type": "execute_result"
    }
   ],
   "source": [
    "a1.split('a')"
   ]
  },
  {
   "cell_type": "markdown",
   "id": "4166276a",
   "metadata": {},
   "source": [
    "a1.split('a') splits all the data after and before 'a' and makes a list. We can check the datatype of the above string."
   ]
  },
  {
   "cell_type": "code",
   "execution_count": 51,
   "id": "242791eb",
   "metadata": {},
   "outputs": [
    {
     "data": {
      "text/plain": [
       "list"
      ]
     },
     "execution_count": 51,
     "metadata": {},
     "output_type": "execute_result"
    }
   ],
   "source": [
    "type(a1.split('a'))"
   ]
  },
  {
   "cell_type": "code",
   "execution_count": 52,
   "id": "6c5e3d72",
   "metadata": {},
   "outputs": [],
   "source": [
    "sw = \"The Samsung Group[3] (or simply Samsung, stylized as SΛMSUNG) (Korean: 삼성 [samsʌŋ]) is a South Korean multinational manufacturing conglomerate headquartered in Samsung Town, Seoul, South Korea.[1] It comprises numerous affiliated businesses,[1] most of them united under the Samsung brand, and is the largest South Korean chaebol (business conglomerate). As of 2020, Samsung has the 8th highest global brand value.[4]\""
   ]
  },
  {
   "cell_type": "code",
   "execution_count": 53,
   "id": "6aa9a29b",
   "metadata": {},
   "outputs": [
    {
     "data": {
      "text/plain": [
       "'The Samsung Group[3] (or simply Samsung, stylized as SΛMSUNG) (Korean: 삼성 [samsʌŋ]) is a South Korean multinational manufacturing conglomerate headquartered in Samsung Town, Seoul, South Korea.[1] It comprises numerous affiliated businesses,[1] most of them united under the Samsung brand, and is the largest South Korean chaebol (business conglomerate). As of 2020, Samsung has the 8th highest global brand value.[4]'"
      ]
     },
     "execution_count": 53,
     "metadata": {},
     "output_type": "execute_result"
    }
   ],
   "source": [
    "sw"
   ]
  },
  {
   "cell_type": "code",
   "execution_count": 54,
   "id": "12582c48",
   "metadata": {},
   "outputs": [
    {
     "data": {
      "text/plain": [
       "['The',\n",
       " 'Samsung',\n",
       " 'Group[3]',\n",
       " '(or',\n",
       " 'simply',\n",
       " 'Samsung,',\n",
       " 'stylized',\n",
       " 'as',\n",
       " 'SΛMSUNG)',\n",
       " '(Korean:',\n",
       " '삼성',\n",
       " '[samsʌŋ])',\n",
       " 'is',\n",
       " 'a',\n",
       " 'South',\n",
       " 'Korean',\n",
       " 'multinational',\n",
       " 'manufacturing',\n",
       " 'conglomerate',\n",
       " 'headquartered',\n",
       " 'in',\n",
       " 'Samsung',\n",
       " 'Town,',\n",
       " 'Seoul,',\n",
       " 'South',\n",
       " 'Korea.[1]',\n",
       " 'It',\n",
       " 'comprises',\n",
       " 'numerous',\n",
       " 'affiliated',\n",
       " 'businesses,[1]',\n",
       " 'most',\n",
       " 'of',\n",
       " 'them',\n",
       " 'united',\n",
       " 'under',\n",
       " 'the',\n",
       " 'Samsung',\n",
       " 'brand,',\n",
       " 'and',\n",
       " 'is',\n",
       " 'the',\n",
       " 'largest',\n",
       " 'South',\n",
       " 'Korean',\n",
       " 'chaebol',\n",
       " '(business',\n",
       " 'conglomerate).',\n",
       " 'As',\n",
       " 'of',\n",
       " '2020,',\n",
       " 'Samsung',\n",
       " 'has',\n",
       " 'the',\n",
       " '8th',\n",
       " 'highest',\n",
       " 'global',\n",
       " 'brand',\n",
       " 'value.[4]']"
      ]
     },
     "execution_count": 54,
     "metadata": {},
     "output_type": "execute_result"
    }
   ],
   "source": [
    "sw.split(' ')"
   ]
  },
  {
   "cell_type": "markdown",
   "id": "b367ad35",
   "metadata": {},
   "source": [
    "If we have multiline string, we can enclose it inside a triple double quote i.e., \"\"\"Data\"\"\"."
   ]
  },
  {
   "cell_type": "markdown",
   "id": "31dff71b",
   "metadata": {},
   "source": [
    "Triple double quote can also be used for commenting purpose."
   ]
  },
  {
   "cell_type": "code",
   "execution_count": 55,
   "id": "157456eb",
   "metadata": {},
   "outputs": [
    {
     "data": {
      "text/plain": [
       "'THE SAMSUNG GROUP[3] (OR SIMPLY SAMSUNG, STYLIZED AS SΛMSUNG) (KOREAN: 삼성 [SAMSɅŊ]) IS A SOUTH KOREAN MULTINATIONAL MANUFACTURING CONGLOMERATE HEADQUARTERED IN SAMSUNG TOWN, SEOUL, SOUTH KOREA.[1] IT COMPRISES NUMEROUS AFFILIATED BUSINESSES,[1] MOST OF THEM UNITED UNDER THE SAMSUNG BRAND, AND IS THE LARGEST SOUTH KOREAN CHAEBOL (BUSINESS CONGLOMERATE). AS OF 2020, SAMSUNG HAS THE 8TH HIGHEST GLOBAL BRAND VALUE.[4]'"
      ]
     },
     "execution_count": 55,
     "metadata": {},
     "output_type": "execute_result"
    }
   ],
   "source": [
    "sw.upper()"
   ]
  },
  {
   "cell_type": "markdown",
   "id": "0ede0a24",
   "metadata": {},
   "source": [
    "sw.upper() converts everything into uppercase."
   ]
  },
  {
   "cell_type": "markdown",
   "id": "4c3dcfbf",
   "metadata": {},
   "source": [
    "But this doesn't change the original string. But it can also be done using an assignment."
   ]
  },
  {
   "cell_type": "code",
   "execution_count": 56,
   "id": "9838a349",
   "metadata": {},
   "outputs": [],
   "source": [
    "sw = sw.upper()"
   ]
  },
  {
   "cell_type": "code",
   "execution_count": 57,
   "id": "964c3ad3",
   "metadata": {},
   "outputs": [
    {
     "data": {
      "text/plain": [
       "'THE SAMSUNG GROUP[3] (OR SIMPLY SAMSUNG, STYLIZED AS SΛMSUNG) (KOREAN: 삼성 [SAMSɅŊ]) IS A SOUTH KOREAN MULTINATIONAL MANUFACTURING CONGLOMERATE HEADQUARTERED IN SAMSUNG TOWN, SEOUL, SOUTH KOREA.[1] IT COMPRISES NUMEROUS AFFILIATED BUSINESSES,[1] MOST OF THEM UNITED UNDER THE SAMSUNG BRAND, AND IS THE LARGEST SOUTH KOREAN CHAEBOL (BUSINESS CONGLOMERATE). AS OF 2020, SAMSUNG HAS THE 8TH HIGHEST GLOBAL BRAND VALUE.[4]'"
      ]
     },
     "execution_count": 57,
     "metadata": {},
     "output_type": "execute_result"
    }
   ],
   "source": [
    "sw"
   ]
  },
  {
   "cell_type": "markdown",
   "id": "a7746803",
   "metadata": {},
   "source": [
    "Hence, as we can see the data of string sw has been overwritten"
   ]
  },
  {
   "cell_type": "code",
   "execution_count": 58,
   "id": "2f94be54",
   "metadata": {},
   "outputs": [
    {
     "data": {
      "text/plain": [
       "'Maharana'"
      ]
     },
     "execution_count": 58,
     "metadata": {},
     "output_type": "execute_result"
    }
   ],
   "source": [
    "a1"
   ]
  },
  {
   "cell_type": "code",
   "execution_count": 59,
   "id": "871f9a50",
   "metadata": {},
   "outputs": [
    {
     "data": {
      "text/plain": [
       "'Maharana'"
      ]
     },
     "execution_count": 59,
     "metadata": {},
     "output_type": "execute_result"
    }
   ],
   "source": [
    "a1.title()"
   ]
  },
  {
   "cell_type": "code",
   "execution_count": 60,
   "id": "a2541367",
   "metadata": {},
   "outputs": [],
   "source": [
    "a1 = \"maharana\""
   ]
  },
  {
   "cell_type": "code",
   "execution_count": 61,
   "id": "db1a2a3d",
   "metadata": {},
   "outputs": [
    {
     "data": {
      "text/plain": [
       "'maharana'"
      ]
     },
     "execution_count": 61,
     "metadata": {},
     "output_type": "execute_result"
    }
   ],
   "source": [
    "a1"
   ]
  },
  {
   "cell_type": "code",
   "execution_count": 62,
   "id": "8ed402cf",
   "metadata": {},
   "outputs": [
    {
     "data": {
      "text/plain": [
       "'Maharana'"
      ]
     },
     "execution_count": 62,
     "metadata": {},
     "output_type": "execute_result"
    }
   ],
   "source": [
    "a1.title()"
   ]
  },
  {
   "cell_type": "markdown",
   "id": "f8311f06",
   "metadata": {},
   "source": [
    "Hence, title docstring changes the first letter into an uppercase."
   ]
  },
  {
   "cell_type": "code",
   "execution_count": 63,
   "id": "a6595d17",
   "metadata": {},
   "outputs": [
    {
     "data": {
      "text/plain": [
       "\"Sunil's father is a well established man\""
      ]
     },
     "execution_count": 63,
     "metadata": {},
     "output_type": "execute_result"
    }
   ],
   "source": [
    "s1"
   ]
  },
  {
   "cell_type": "code",
   "execution_count": 64,
   "id": "4d135ffd",
   "metadata": {},
   "outputs": [
    {
     "data": {
      "text/plain": [
       "\"Sunil'S Father Is A Well Established Man\""
      ]
     },
     "execution_count": 64,
     "metadata": {},
     "output_type": "execute_result"
    }
   ],
   "source": [
    "s1.title()"
   ]
  },
  {
   "cell_type": "code",
   "execution_count": 65,
   "id": "a7040b03",
   "metadata": {},
   "outputs": [
    {
     "data": {
      "text/plain": [
       "\"Sunil's father is a well established man\""
      ]
     },
     "execution_count": 65,
     "metadata": {},
     "output_type": "execute_result"
    }
   ],
   "source": [
    "s1.capitalize()"
   ]
  },
  {
   "cell_type": "markdown",
   "id": "4d588cdb",
   "metadata": {},
   "source": [
    "Hence, title changes first letter of each word into uppercase but capitalize only changes the first letter of string into an uppercase."
   ]
  },
  {
   "cell_type": "code",
   "execution_count": 66,
   "id": "37468cc3",
   "metadata": {},
   "outputs": [
    {
     "data": {
      "text/plain": [
       "'maharana'"
      ]
     },
     "execution_count": 66,
     "metadata": {},
     "output_type": "execute_result"
    }
   ],
   "source": [
    "a1"
   ]
  },
  {
   "cell_type": "code",
   "execution_count": 67,
   "id": "9ea0ea24",
   "metadata": {},
   "outputs": [],
   "source": [
    "a1 = \"Maharana\""
   ]
  },
  {
   "cell_type": "code",
   "execution_count": 68,
   "id": "83fe634c",
   "metadata": {},
   "outputs": [
    {
     "data": {
      "text/plain": [
       "'mAHARANA'"
      ]
     },
     "execution_count": 68,
     "metadata": {},
     "output_type": "execute_result"
    }
   ],
   "source": [
    "a1.swapcase()"
   ]
  },
  {
   "cell_type": "markdown",
   "id": "a6c45b34",
   "metadata": {},
   "source": [
    "Hence, swapcase() docstring swaps upper into lower case and vise versa."
   ]
  },
  {
   "cell_type": "code",
   "execution_count": 69,
   "id": "f3a0c781",
   "metadata": {},
   "outputs": [],
   "source": [
    "a1 = \"   Mahara   na   \""
   ]
  },
  {
   "cell_type": "code",
   "execution_count": 70,
   "id": "249deb3b",
   "metadata": {},
   "outputs": [
    {
     "data": {
      "text/plain": [
       "'   Mahara   na   '"
      ]
     },
     "execution_count": 70,
     "metadata": {},
     "output_type": "execute_result"
    }
   ],
   "source": [
    "a1"
   ]
  },
  {
   "cell_type": "code",
   "execution_count": 71,
   "id": "e95cbd5a",
   "metadata": {},
   "outputs": [
    {
     "data": {
      "text/plain": [
       "'Mahara   na'"
      ]
     },
     "execution_count": 71,
     "metadata": {},
     "output_type": "execute_result"
    }
   ],
   "source": [
    "a1.strip()"
   ]
  },
  {
   "cell_type": "markdown",
   "id": "e1badd67",
   "metadata": {},
   "source": [
    "Hence, strip docstring removes the blank space from left and right side."
   ]
  },
  {
   "cell_type": "code",
   "execution_count": 72,
   "id": "5ba4f043",
   "metadata": {},
   "outputs": [
    {
     "data": {
      "text/plain": [
       "'   Mahara   na'"
      ]
     },
     "execution_count": 72,
     "metadata": {},
     "output_type": "execute_result"
    }
   ],
   "source": [
    "a1.rstrip()"
   ]
  },
  {
   "cell_type": "markdown",
   "id": "308db7fd",
   "metadata": {},
   "source": [
    "Removes space from right side."
   ]
  },
  {
   "cell_type": "code",
   "execution_count": 73,
   "id": "01513003",
   "metadata": {},
   "outputs": [
    {
     "data": {
      "text/plain": [
       "'Mahara   na   '"
      ]
     },
     "execution_count": 73,
     "metadata": {},
     "output_type": "execute_result"
    }
   ],
   "source": [
    "a1.lstrip()"
   ]
  },
  {
   "cell_type": "markdown",
   "id": "951521e1",
   "metadata": {},
   "source": [
    "Removes space from left side."
   ]
  },
  {
   "cell_type": "code",
   "execution_count": 74,
   "id": "ac3ed819",
   "metadata": {},
   "outputs": [
    {
     "data": {
      "text/plain": [
       "'Msashsasrsasnsa'"
      ]
     },
     "execution_count": 74,
     "metadata": {},
     "output_type": "execute_result"
    }
   ],
   "source": [
    "\"s\".join(\"Maharana\")"
   ]
  },
  {
   "cell_type": "markdown",
   "id": "b9e8f3a4",
   "metadata": {},
   "source": [
    "Adds s with each character of the given string."
   ]
  },
  {
   "cell_type": "code",
   "execution_count": 78,
   "id": "53c313f6",
   "metadata": {},
   "outputs": [
    {
     "data": {
      "text/plain": [
       "'S u n i l'"
      ]
     },
     "execution_count": 78,
     "metadata": {},
     "output_type": "execute_result"
    }
   ],
   "source": [
    "\" \".join(\"Sunil\")"
   ]
  },
  {
   "cell_type": "markdown",
   "id": "f2b85690",
   "metadata": {},
   "source": [
    "Hence, space has been added in between each character of the string \"Sunil\"."
   ]
  },
  {
   "cell_type": "code",
   "execution_count": 75,
   "id": "e038a668",
   "metadata": {},
   "outputs": [
    {
     "data": {
      "text/plain": [
       "'   Mahara   na   '"
      ]
     },
     "execution_count": 75,
     "metadata": {},
     "output_type": "execute_result"
    }
   ],
   "source": [
    "a1"
   ]
  },
  {
   "cell_type": "code",
   "execution_count": 76,
   "id": "a0b08abd",
   "metadata": {},
   "outputs": [],
   "source": [
    "a1 = \"Maharana\""
   ]
  },
  {
   "cell_type": "code",
   "execution_count": 77,
   "id": "a8230844",
   "metadata": {},
   "outputs": [
    {
     "data": {
      "text/plain": [
       "'Maharana'"
      ]
     },
     "execution_count": 77,
     "metadata": {},
     "output_type": "execute_result"
    }
   ],
   "source": [
    "a1"
   ]
  },
  {
   "cell_type": "code",
   "execution_count": 79,
   "id": "17235a59",
   "metadata": {},
   "outputs": [
    {
     "data": {
      "text/plain": [
       "'      Maharana      '"
      ]
     },
     "execution_count": 79,
     "metadata": {},
     "output_type": "execute_result"
    }
   ],
   "source": [
    "a1.center(20)"
   ]
  },
  {
   "cell_type": "code",
   "execution_count": 80,
   "id": "2c4461f9",
   "metadata": {},
   "outputs": [
    {
     "data": {
      "text/plain": [
       "'zzzzzzMaharanazzzzzz'"
      ]
     },
     "execution_count": 80,
     "metadata": {},
     "output_type": "execute_result"
    }
   ],
   "source": [
    "a1.center(20, \"z\")"
   ]
  },
  {
   "cell_type": "code",
   "execution_count": 81,
   "id": "b57ca40f",
   "metadata": {},
   "outputs": [
    {
     "ename": "SyntaxError",
     "evalue": "invalid syntax (3142574078.py, line 1)",
     "output_type": "error",
     "traceback": [
      "\u001b[1;36m  Input \u001b[1;32mIn [81]\u001b[1;36m\u001b[0m\n\u001b[1;33m    a1.center(15, %)\u001b[0m\n\u001b[1;37m                  ^\u001b[0m\n\u001b[1;31mSyntaxError\u001b[0m\u001b[1;31m:\u001b[0m invalid syntax\n"
     ]
    }
   ],
   "source": [
    "a1.center(15, %)"
   ]
  },
  {
   "cell_type": "code",
   "execution_count": 82,
   "id": "20291c73",
   "metadata": {},
   "outputs": [
    {
     "data": {
      "text/plain": [
       "'%%%%Maharana%%%'"
      ]
     },
     "execution_count": 82,
     "metadata": {},
     "output_type": "execute_result"
    }
   ],
   "source": [
    "a1.center(15, \"%\")"
   ]
  },
  {
   "cell_type": "code",
   "execution_count": 83,
   "id": "e40e43f9",
   "metadata": {},
   "outputs": [
    {
     "data": {
      "text/plain": [
       "False"
      ]
     },
     "execution_count": 83,
     "metadata": {},
     "output_type": "execute_result"
    }
   ],
   "source": [
    "a1.isupper()"
   ]
  },
  {
   "cell_type": "markdown",
   "id": "df3f02bb",
   "metadata": {},
   "source": [
    "All the docstring of 'is' is used to check the true and false i.e., give output as a boolean value."
   ]
  },
  {
   "cell_type": "code",
   "execution_count": 84,
   "id": "2cba45cb",
   "metadata": {},
   "outputs": [
    {
     "data": {
      "text/plain": [
       "<function str.islower()>"
      ]
     },
     "execution_count": 84,
     "metadata": {},
     "output_type": "execute_result"
    }
   ],
   "source": [
    "a1.islower"
   ]
  },
  {
   "cell_type": "code",
   "execution_count": 85,
   "id": "cbe35e3f",
   "metadata": {},
   "outputs": [
    {
     "data": {
      "text/plain": [
       "False"
      ]
     },
     "execution_count": 85,
     "metadata": {},
     "output_type": "execute_result"
    }
   ],
   "source": [
    "a1.islower()"
   ]
  },
  {
   "cell_type": "code",
   "execution_count": 86,
   "id": "5529c733",
   "metadata": {},
   "outputs": [],
   "source": [
    "a1 = \"sunil\""
   ]
  },
  {
   "cell_type": "code",
   "execution_count": 87,
   "id": "a000db68",
   "metadata": {},
   "outputs": [
    {
     "data": {
      "text/plain": [
       "'sunil'"
      ]
     },
     "execution_count": 87,
     "metadata": {},
     "output_type": "execute_result"
    }
   ],
   "source": [
    "a1"
   ]
  },
  {
   "cell_type": "code",
   "execution_count": 88,
   "id": "e4c8b771",
   "metadata": {},
   "outputs": [
    {
     "data": {
      "text/plain": [
       "True"
      ]
     },
     "execution_count": 88,
     "metadata": {},
     "output_type": "execute_result"
    }
   ],
   "source": [
    "a1.islower()"
   ]
  },
  {
   "cell_type": "code",
   "execution_count": 89,
   "id": "f7bebc55",
   "metadata": {},
   "outputs": [
    {
     "data": {
      "text/plain": [
       "False"
      ]
     },
     "execution_count": 89,
     "metadata": {},
     "output_type": "execute_result"
    }
   ],
   "source": [
    "a1.isspace()"
   ]
  },
  {
   "cell_type": "markdown",
   "id": "44878789",
   "metadata": {},
   "source": [
    "False beacse it is not a space string."
   ]
  },
  {
   "cell_type": "code",
   "execution_count": 90,
   "id": "28890158",
   "metadata": {},
   "outputs": [],
   "source": [
    "a1 = \"Sun il\""
   ]
  },
  {
   "cell_type": "code",
   "execution_count": 91,
   "id": "63047445",
   "metadata": {},
   "outputs": [
    {
     "data": {
      "text/plain": [
       "'Sun il'"
      ]
     },
     "execution_count": 91,
     "metadata": {},
     "output_type": "execute_result"
    }
   ],
   "source": [
    "a1"
   ]
  },
  {
   "cell_type": "code",
   "execution_count": 92,
   "id": "7594fe58",
   "metadata": {},
   "outputs": [
    {
     "data": {
      "text/plain": [
       "False"
      ]
     },
     "execution_count": 92,
     "metadata": {},
     "output_type": "execute_result"
    }
   ],
   "source": [
    "a1.isspace()"
   ]
  },
  {
   "cell_type": "code",
   "execution_count": 93,
   "id": "b655c911",
   "metadata": {},
   "outputs": [],
   "source": [
    "a1 = \" \""
   ]
  },
  {
   "cell_type": "code",
   "execution_count": 94,
   "id": "83c010b4",
   "metadata": {},
   "outputs": [
    {
     "data": {
      "text/plain": [
       "True"
      ]
     },
     "execution_count": 94,
     "metadata": {},
     "output_type": "execute_result"
    }
   ],
   "source": [
    "a1.isspace()"
   ]
  },
  {
   "cell_type": "code",
   "execution_count": 95,
   "id": "d5d6ab8e",
   "metadata": {},
   "outputs": [],
   "source": [
    "a3 = \"Sunil\""
   ]
  },
  {
   "cell_type": "code",
   "execution_count": 96,
   "id": "7e11d6ae",
   "metadata": {},
   "outputs": [
    {
     "data": {
      "text/plain": [
       "False"
      ]
     },
     "execution_count": 96,
     "metadata": {},
     "output_type": "execute_result"
    }
   ],
   "source": [
    "a3.startswith('s')"
   ]
  },
  {
   "cell_type": "code",
   "execution_count": 97,
   "id": "b546a561",
   "metadata": {},
   "outputs": [
    {
     "data": {
      "text/plain": [
       "True"
      ]
     },
     "execution_count": 97,
     "metadata": {},
     "output_type": "execute_result"
    }
   ],
   "source": [
    "a3.startswith('S')"
   ]
  },
  {
   "cell_type": "code",
   "execution_count": 98,
   "id": "c3e133c5",
   "metadata": {},
   "outputs": [
    {
     "data": {
      "text/plain": [
       "False"
      ]
     },
     "execution_count": 98,
     "metadata": {},
     "output_type": "execute_result"
    }
   ],
   "source": [
    "a3.endswith('L')"
   ]
  },
  {
   "cell_type": "code",
   "execution_count": 99,
   "id": "3020d5f5",
   "metadata": {},
   "outputs": [
    {
     "data": {
      "text/plain": [
       "True"
      ]
     },
     "execution_count": 99,
     "metadata": {},
     "output_type": "execute_result"
    }
   ],
   "source": [
    "a3.endswith('l')"
   ]
  },
  {
   "cell_type": "code",
   "execution_count": 100,
   "id": "9a22c06b",
   "metadata": {},
   "outputs": [
    {
     "data": {
      "text/plain": [
       "False"
      ]
     },
     "execution_count": 100,
     "metadata": {},
     "output_type": "execute_result"
    }
   ],
   "source": [
    "a3.isdigit()"
   ]
  },
  {
   "cell_type": "code",
   "execution_count": 101,
   "id": "6d7b1c04",
   "metadata": {},
   "outputs": [
    {
     "data": {
      "text/plain": [
       "True"
      ]
     },
     "execution_count": 101,
     "metadata": {},
     "output_type": "execute_result"
    }
   ],
   "source": [
    "a3.isalpha()"
   ]
  },
  {
   "cell_type": "code",
   "execution_count": 105,
   "id": "6915fb9a",
   "metadata": {},
   "outputs": [],
   "source": [
    "a4 = \"this is My First Python programming class and i am learNING python strong and its function\""
   ]
  },
  {
   "cell_type": "code",
   "execution_count": 106,
   "id": "eabf5ce9",
   "metadata": {},
   "outputs": [
    {
     "data": {
      "text/plain": [
       "'h   r tnrrmglsnimeNGyoso dtfco'"
      ]
     },
     "execution_count": 106,
     "metadata": {},
     "output_type": "execute_result"
    }
   ],
   "source": [
    "a4[1:300:3]"
   ]
  },
  {
   "cell_type": "code",
   "execution_count": 107,
   "id": "24afd77a",
   "metadata": {},
   "outputs": [
    {
     "data": {
      "text/plain": [
       "'THIS IS MY FIRST PYTHON PROGRAMMING CLASS AND I AM LEARNING PYTHON STRONG AND ITS FUNCTION'"
      ]
     },
     "execution_count": 107,
     "metadata": {},
     "output_type": "execute_result"
    }
   ],
   "source": [
    "a4.upper()"
   ]
  },
  {
   "cell_type": "code",
   "execution_count": 108,
   "id": "b60e673f",
   "metadata": {},
   "outputs": [],
   "source": [
    "a4 = a4.upper()"
   ]
  },
  {
   "cell_type": "code",
   "execution_count": 109,
   "id": "e1566f11",
   "metadata": {},
   "outputs": [
    {
     "data": {
      "text/plain": [
       "['THIS',\n",
       " 'IS',\n",
       " 'MY',\n",
       " 'FIRST',\n",
       " 'PYTHON',\n",
       " 'PROGRAMMING',\n",
       " 'CLASS',\n",
       " 'AND',\n",
       " 'I',\n",
       " 'AM',\n",
       " 'LEARNING',\n",
       " 'PYTHON',\n",
       " 'STRONG',\n",
       " 'AND',\n",
       " 'ITS',\n",
       " 'FUNCTION']"
      ]
     },
     "execution_count": 109,
     "metadata": {},
     "output_type": "execute_result"
    }
   ],
   "source": [
    "a4.split()"
   ]
  },
  {
   "cell_type": "code",
   "execution_count": 110,
   "id": "8b603345",
   "metadata": {},
   "outputs": [
    {
     "data": {
      "text/plain": [
       "'THIS IS MY FIRST PYTHON PROGRAMMING CLASS AND I AM LEARNING PYTHON STRONG AND ITS FUNCTION'"
      ]
     },
     "execution_count": 110,
     "metadata": {},
     "output_type": "execute_result"
    }
   ],
   "source": [
    "a4"
   ]
  },
  {
   "cell_type": "code",
   "execution_count": 111,
   "id": "8c9c6cd8",
   "metadata": {},
   "outputs": [
    {
     "data": {
      "text/plain": [
       "'this is my first python programming class and i am learning python strong and its function'"
      ]
     },
     "execution_count": 111,
     "metadata": {},
     "output_type": "execute_result"
    }
   ],
   "source": [
    "a4.lower()"
   ]
  },
  {
   "cell_type": "code",
   "execution_count": 112,
   "id": "d6ce5512",
   "metadata": {},
   "outputs": [
    {
     "data": {
      "text/plain": [
       "'This is my first python programming class and i am learning python strong and its function'"
      ]
     },
     "execution_count": 112,
     "metadata": {},
     "output_type": "execute_result"
    }
   ],
   "source": [
    "a4.capitalize()"
   ]
  },
  {
   "cell_type": "markdown",
   "id": "e5d58def",
   "metadata": {},
   "source": [
    "Defination:\n",
    "isalnum(): It is a docstring of string variable used to check whether the string is alpha-numeric or not. This returns a boolean value. It returns true if all the character is alphabet or numeric and should have atleast one character or else returns false.\n",
    "isalpha(): It is a docstring of string variable used to check whether the string characters are alphabet or not. This returns a boolean value. It returns true if all the characters in a string is alphabet or else it returns false."
   ]
  },
  {
   "cell_type": "markdown",
   "id": "c010c250",
   "metadata": {},
   "source": [
    "\"Tab\" key is used after writing the string name with suffix \".\". This shows all the inbuilt functions available for a string variable."
   ]
  },
  {
   "cell_type": "code",
   "execution_count": 113,
   "id": "ac9f5fd2",
   "metadata": {},
   "outputs": [
    {
     "data": {
      "text/plain": [
       "'THIS IS MY FIRST PYTHON PROGRAMMING CLASS AND I AM LEARNING PYTHON STRONG AND ITS FUNCTION'"
      ]
     },
     "execution_count": 113,
     "metadata": {},
     "output_type": "execute_result"
    }
   ],
   "source": [
    "a4.strip()"
   ]
  },
  {
   "cell_type": "code",
   "execution_count": 114,
   "id": "a6be8afe",
   "metadata": {},
   "outputs": [
    {
     "data": {
      "text/plain": [
       "'THIS IS MY FIRST PYTHON PROGRAMMING CLASS AND I AM LEARNING PYTHON STRONG AND ITS FUNCTION'"
      ]
     },
     "execution_count": 114,
     "metadata": {},
     "output_type": "execute_result"
    }
   ],
   "source": [
    "a4.lstrip()"
   ]
  },
  {
   "cell_type": "code",
   "execution_count": 115,
   "id": "e8a13184",
   "metadata": {},
   "outputs": [
    {
     "data": {
      "text/plain": [
       "'THIS IS MY FIRST PYTHON PROGRAMMING CLASS AND I AM LEARNING PYTHON STRONG AND ITS FUNCTION'"
      ]
     },
     "execution_count": 115,
     "metadata": {},
     "output_type": "execute_result"
    }
   ],
   "source": [
    "a4.rstrip()"
   ]
  },
  {
   "cell_type": "markdown",
   "id": "6ad1627b",
   "metadata": {},
   "source": [
    "The strip docstring removes the space from the right and left side of the string.\n",
    "However, the lstrip and rstrip removes the space from left and right side of the string respectively."
   ]
  },
  {
   "cell_type": "code",
   "execution_count": 117,
   "id": "56a60cdf",
   "metadata": {},
   "outputs": [],
   "source": [
    "a5 = \"Sunil\""
   ]
  },
  {
   "cell_type": "code",
   "execution_count": 118,
   "id": "96238c58",
   "metadata": {},
   "outputs": [
    {
     "data": {
      "text/plain": [
       "'S'"
      ]
     },
     "execution_count": 118,
     "metadata": {},
     "output_type": "execute_result"
    }
   ],
   "source": [
    "a5[0]"
   ]
  },
  {
   "cell_type": "code",
   "execution_count": 119,
   "id": "39b96fa6",
   "metadata": {},
   "outputs": [
    {
     "ename": "TypeError",
     "evalue": "'str' object does not support item assignment",
     "output_type": "error",
     "traceback": [
      "\u001b[1;31m---------------------------------------------------------------------------\u001b[0m",
      "\u001b[1;31mTypeError\u001b[0m                                 Traceback (most recent call last)",
      "Input \u001b[1;32mIn [119]\u001b[0m, in \u001b[0;36m<cell line: 1>\u001b[1;34m()\u001b[0m\n\u001b[1;32m----> 1\u001b[0m a5[\u001b[38;5;241m0\u001b[39m] \u001b[38;5;241m=\u001b[39m \u001b[38;5;124m\"\u001b[39m\u001b[38;5;124mM\u001b[39m\u001b[38;5;124m\"\u001b[39m\n",
      "\u001b[1;31mTypeError\u001b[0m: 'str' object does not support item assignment"
     ]
    }
   ],
   "source": [
    "a5[0] = \"M\""
   ]
  },
  {
   "cell_type": "code",
   "execution_count": 120,
   "id": "022aea73",
   "metadata": {},
   "outputs": [
    {
     "ename": "NameError",
     "evalue": "name 'txt' is not defined",
     "output_type": "error",
     "traceback": [
      "\u001b[1;31m---------------------------------------------------------------------------\u001b[0m",
      "\u001b[1;31mNameError\u001b[0m                                 Traceback (most recent call last)",
      "Input \u001b[1;32mIn [120]\u001b[0m, in \u001b[0;36m<cell line: 1>\u001b[1;34m()\u001b[0m\n\u001b[1;32m----> 1\u001b[0m a5 \u001b[38;5;241m=\u001b[39m \u001b[43mtxt\u001b[49m\u001b[38;5;241m.\u001b[39mreplace(\u001b[38;5;124m\"\u001b[39m\u001b[38;5;124mSu\u001b[39m\u001b[38;5;124m\"\u001b[39m, \u001b[38;5;124m\"\u001b[39m\u001b[38;5;124mMa\u001b[39m\u001b[38;5;124m\"\u001b[39m)\n",
      "\u001b[1;31mNameError\u001b[0m: name 'txt' is not defined"
     ]
    }
   ],
   "source": [
    "a5 = txt.replace(\"Su\", \"Ma\")"
   ]
  },
  {
   "cell_type": "code",
   "execution_count": 121,
   "id": "e8167add",
   "metadata": {},
   "outputs": [
    {
     "data": {
      "text/plain": [
       "'44Sunil444'"
      ]
     },
     "execution_count": 121,
     "metadata": {},
     "output_type": "execute_result"
    }
   ],
   "source": [
    "a5.center(10, \"4\")"
   ]
  },
  {
   "cell_type": "code",
   "execution_count": 122,
   "id": "3cadc169",
   "metadata": {},
   "outputs": [
    {
     "data": {
      "text/plain": [
       "'%%%Sunil%%%'"
      ]
     },
     "execution_count": 122,
     "metadata": {},
     "output_type": "execute_result"
    }
   ],
   "source": [
    "a5.center(11, \"%\")"
   ]
  },
  {
   "cell_type": "markdown",
   "id": "70e9de56",
   "metadata": {},
   "source": [
    "center() is a docstring of string variable which keeps the string at center of the length specified and fills the left and right of the string with the given characters."
   ]
  },
  {
   "cell_type": "markdown",
   "id": "b499b525",
   "metadata": {},
   "source": [
    "Both compiler and interpretor have one thing is common i.e., both converts high level language into machine language. They convert the code written in us in our language to 0s and 1s so that a machine can understand and perform the task upon it as requested.\n",
    "However, there is a difference in between the working of compiler and interpreter.\n",
    "A compiler converts the whole source code into machine code all at once while an interpretor converts a source code in a sentence wise manner.\n",
    "Hence, a compiler analyzing time is less but overall execution is more compared to an interpreter and an interpreter's analyzing time is more but overall execution time is more as compared to a compiler.\n",
    "Languages like Python, Java uses interpretor while C, C++, Javascript uses compiler."
   ]
  },
  {
   "cell_type": "markdown",
   "id": "50615b13",
   "metadata": {},
   "source": [
    "As mentioned above Python is an interpreted language as it analyze the code sentense wise and goes for execution only after all the sentences is okay as per the required syntax."
   ]
  },
  {
   "cell_type": "markdown",
   "id": "fe3f464c",
   "metadata": {},
   "source": [
    "Few usecases of Python are Data Science, Web Development, Internet of Things, Deep Learning, Machine Learning, Artificial Intelligence, Development Operations and many more."
   ]
  },
  {
   "cell_type": "code",
   "execution_count": null,
   "id": "0e908ee8",
   "metadata": {},
   "outputs": [],
   "source": []
  }
 ],
 "metadata": {
  "kernelspec": {
   "display_name": "Python 3 (ipykernel)",
   "language": "python",
   "name": "python3"
  },
  "language_info": {
   "codemirror_mode": {
    "name": "ipython",
    "version": 3
   },
   "file_extension": ".py",
   "mimetype": "text/x-python",
   "name": "python",
   "nbconvert_exporter": "python",
   "pygments_lexer": "ipython3",
   "version": "3.9.12"
  }
 },
 "nbformat": 4,
 "nbformat_minor": 5
}
